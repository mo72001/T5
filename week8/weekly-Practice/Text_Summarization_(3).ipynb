{
  "cells": [
    {
      "cell_type": "markdown",
      "id": "00dbdcaa",
      "metadata": {
        "id": "00dbdcaa"
      },
      "source": [
        "# Fine-tuning a Model for Summarization Task"
      ]
    },
    {
      "cell_type": "markdown",
      "id": "6d11590b",
      "metadata": {
        "id": "6d11590b"
      },
      "source": [
        "In this task, you will load, preprocess, and fine-tune a T5 model on a dataset of news articles for a summarization task. Follow the steps below carefully.\n",
        "\n",
        "### Model and Dataset Information\n",
        "\n",
        "For this task, you will be working with the following:\n",
        "\n",
        "- **Model Checkpoint**: Use the pre-trained model checkpoint `yalsaffar/mt5-small-Arabic-Summarization` if you face any problem you can use `google-t5/t5-small` but the first one is the correct one for both the model and tokenizer.\n",
        "- **Dataset**: You will be using the `CUTD/arabic_dialogue_df` dataset. Ensure to load and preprocess the dataset correctly for training and evaluation.\n",
        "\n",
        "**Note:**\n",
        "- Any additional steps or methods you include that improve or enhance the results will be rewarded with bonus points if they are justified.\n",
        "- The steps outlined here are suggestions. You are free to implement alternative methods or approaches to achieve the task, as long as you explain the reasoning and the process at the bottom of the notebook.\n",
        "- You can use either TensorFlow or PyTorch for this task. If you prefer TensorFlow, feel free to use it when working with Hugging Face Transformers.\n",
        "- The number of data samples you choose to work with is flexible. However, if you select a very low number of samples and the training time is too short, this could affect the evaluation of your work."
      ]
    },
    {
      "cell_type": "markdown",
      "id": "697bca4c",
      "metadata": {
        "id": "697bca4c"
      },
      "source": [
        "## Step 1: Load the Dataset"
      ]
    },
    {
      "cell_type": "markdown",
      "id": "7d3f385d",
      "metadata": {
        "id": "7d3f385d"
      },
      "source": [
        "Load the dataset and split it into training and test sets. Use 20% of the data for testing."
      ]
    },
    {
      "cell_type": "code",
      "execution_count": 114,
      "id": "eeb08e9c",
      "metadata": {
        "id": "eeb08e9c",
        "colab": {
          "base_uri": "https://localhost:8080/"
        },
        "outputId": "63a9fd02-7343-4273-86da-aad1708a91b8"
      },
      "outputs": [
        {
          "output_type": "stream",
          "name": "stdout",
          "text": [
            "Requirement already satisfied: datasets in /usr/local/lib/python3.10/dist-packages (3.0.0)\n",
            "Requirement already satisfied: filelock in /usr/local/lib/python3.10/dist-packages (from datasets) (3.16.0)\n",
            "Requirement already satisfied: numpy>=1.17 in /usr/local/lib/python3.10/dist-packages (from datasets) (1.26.4)\n",
            "Requirement already satisfied: pyarrow>=15.0.0 in /usr/local/lib/python3.10/dist-packages (from datasets) (17.0.0)\n",
            "Requirement already satisfied: dill<0.3.9,>=0.3.0 in /usr/local/lib/python3.10/dist-packages (from datasets) (0.3.8)\n",
            "Requirement already satisfied: pandas in /usr/local/lib/python3.10/dist-packages (from datasets) (2.1.4)\n",
            "Requirement already satisfied: requests>=2.32.2 in /usr/local/lib/python3.10/dist-packages (from datasets) (2.32.3)\n",
            "Requirement already satisfied: tqdm>=4.66.3 in /usr/local/lib/python3.10/dist-packages (from datasets) (4.66.5)\n",
            "Requirement already satisfied: xxhash in /usr/local/lib/python3.10/dist-packages (from datasets) (3.5.0)\n",
            "Requirement already satisfied: multiprocess in /usr/local/lib/python3.10/dist-packages (from datasets) (0.70.16)\n",
            "Requirement already satisfied: fsspec<=2024.6.1,>=2023.1.0 in /usr/local/lib/python3.10/dist-packages (from fsspec[http]<=2024.6.1,>=2023.1.0->datasets) (2024.6.1)\n",
            "Requirement already satisfied: aiohttp in /usr/local/lib/python3.10/dist-packages (from datasets) (3.10.5)\n",
            "Requirement already satisfied: huggingface-hub>=0.22.0 in /usr/local/lib/python3.10/dist-packages (from datasets) (0.24.6)\n",
            "Requirement already satisfied: packaging in /usr/local/lib/python3.10/dist-packages (from datasets) (24.1)\n",
            "Requirement already satisfied: pyyaml>=5.1 in /usr/local/lib/python3.10/dist-packages (from datasets) (6.0.2)\n",
            "Requirement already satisfied: aiohappyeyeballs>=2.3.0 in /usr/local/lib/python3.10/dist-packages (from aiohttp->datasets) (2.4.0)\n",
            "Requirement already satisfied: aiosignal>=1.1.2 in /usr/local/lib/python3.10/dist-packages (from aiohttp->datasets) (1.3.1)\n",
            "Requirement already satisfied: attrs>=17.3.0 in /usr/local/lib/python3.10/dist-packages (from aiohttp->datasets) (24.2.0)\n",
            "Requirement already satisfied: frozenlist>=1.1.1 in /usr/local/lib/python3.10/dist-packages (from aiohttp->datasets) (1.4.1)\n",
            "Requirement already satisfied: multidict<7.0,>=4.5 in /usr/local/lib/python3.10/dist-packages (from aiohttp->datasets) (6.1.0)\n",
            "Requirement already satisfied: yarl<2.0,>=1.0 in /usr/local/lib/python3.10/dist-packages (from aiohttp->datasets) (1.11.1)\n",
            "Requirement already satisfied: async-timeout<5.0,>=4.0 in /usr/local/lib/python3.10/dist-packages (from aiohttp->datasets) (4.0.3)\n",
            "Requirement already satisfied: typing-extensions>=3.7.4.3 in /usr/local/lib/python3.10/dist-packages (from huggingface-hub>=0.22.0->datasets) (4.12.2)\n",
            "Requirement already satisfied: charset-normalizer<4,>=2 in /usr/local/lib/python3.10/dist-packages (from requests>=2.32.2->datasets) (3.3.2)\n",
            "Requirement already satisfied: idna<4,>=2.5 in /usr/local/lib/python3.10/dist-packages (from requests>=2.32.2->datasets) (3.8)\n",
            "Requirement already satisfied: urllib3<3,>=1.21.1 in /usr/local/lib/python3.10/dist-packages (from requests>=2.32.2->datasets) (2.0.7)\n",
            "Requirement already satisfied: certifi>=2017.4.17 in /usr/local/lib/python3.10/dist-packages (from requests>=2.32.2->datasets) (2024.8.30)\n",
            "Requirement already satisfied: python-dateutil>=2.8.2 in /usr/local/lib/python3.10/dist-packages (from pandas->datasets) (2.8.2)\n",
            "Requirement already satisfied: pytz>=2020.1 in /usr/local/lib/python3.10/dist-packages (from pandas->datasets) (2024.2)\n",
            "Requirement already satisfied: tzdata>=2022.1 in /usr/local/lib/python3.10/dist-packages (from pandas->datasets) (2024.1)\n",
            "Requirement already satisfied: six>=1.5 in /usr/local/lib/python3.10/dist-packages (from python-dateutil>=2.8.2->pandas->datasets) (1.16.0)\n"
          ]
        }
      ],
      "source": [
        "!pip install datasets"
      ]
    },
    {
      "cell_type": "code",
      "source": [
        "!pip install transformers"
      ],
      "metadata": {
        "colab": {
          "base_uri": "https://localhost:8080/"
        },
        "id": "K6MfiE3Q5lW3",
        "outputId": "fe8840c7-226c-4be5-cd1f-295534491d7d"
      },
      "id": "K6MfiE3Q5lW3",
      "execution_count": 115,
      "outputs": [
        {
          "output_type": "stream",
          "name": "stdout",
          "text": [
            "Requirement already satisfied: transformers in /usr/local/lib/python3.10/dist-packages (4.44.2)\n",
            "Requirement already satisfied: filelock in /usr/local/lib/python3.10/dist-packages (from transformers) (3.16.0)\n",
            "Requirement already satisfied: huggingface-hub<1.0,>=0.23.2 in /usr/local/lib/python3.10/dist-packages (from transformers) (0.24.6)\n",
            "Requirement already satisfied: numpy>=1.17 in /usr/local/lib/python3.10/dist-packages (from transformers) (1.26.4)\n",
            "Requirement already satisfied: packaging>=20.0 in /usr/local/lib/python3.10/dist-packages (from transformers) (24.1)\n",
            "Requirement already satisfied: pyyaml>=5.1 in /usr/local/lib/python3.10/dist-packages (from transformers) (6.0.2)\n",
            "Requirement already satisfied: regex!=2019.12.17 in /usr/local/lib/python3.10/dist-packages (from transformers) (2024.5.15)\n",
            "Requirement already satisfied: requests in /usr/local/lib/python3.10/dist-packages (from transformers) (2.32.3)\n",
            "Requirement already satisfied: safetensors>=0.4.1 in /usr/local/lib/python3.10/dist-packages (from transformers) (0.4.5)\n",
            "Requirement already satisfied: tokenizers<0.20,>=0.19 in /usr/local/lib/python3.10/dist-packages (from transformers) (0.19.1)\n",
            "Requirement already satisfied: tqdm>=4.27 in /usr/local/lib/python3.10/dist-packages (from transformers) (4.66.5)\n",
            "Requirement already satisfied: fsspec>=2023.5.0 in /usr/local/lib/python3.10/dist-packages (from huggingface-hub<1.0,>=0.23.2->transformers) (2024.6.1)\n",
            "Requirement already satisfied: typing-extensions>=3.7.4.3 in /usr/local/lib/python3.10/dist-packages (from huggingface-hub<1.0,>=0.23.2->transformers) (4.12.2)\n",
            "Requirement already satisfied: charset-normalizer<4,>=2 in /usr/local/lib/python3.10/dist-packages (from requests->transformers) (3.3.2)\n",
            "Requirement already satisfied: idna<4,>=2.5 in /usr/local/lib/python3.10/dist-packages (from requests->transformers) (3.8)\n",
            "Requirement already satisfied: urllib3<3,>=1.21.1 in /usr/local/lib/python3.10/dist-packages (from requests->transformers) (2.0.7)\n",
            "Requirement already satisfied: certifi>=2017.4.17 in /usr/local/lib/python3.10/dist-packages (from requests->transformers) (2024.8.30)\n"
          ]
        }
      ]
    },
    {
      "cell_type": "markdown",
      "id": "d518350b",
      "metadata": {
        "id": "d518350b"
      },
      "source": [
        "## Step 2: Load the Pretrained Tokenizer"
      ]
    },
    {
      "cell_type": "markdown",
      "id": "277a333d",
      "metadata": {
        "id": "277a333d"
      },
      "source": [
        "Initialize a tokenizer from the gevin model checkpoint."
      ]
    },
    {
      "cell_type": "code",
      "execution_count": 116,
      "id": "a1931520",
      "metadata": {
        "id": "a1931520"
      },
      "outputs": [],
      "source": [
        "dataset = 'CUTD/arabic_dialogue_df'"
      ]
    },
    {
      "cell_type": "code",
      "source": [
        "from transformers import AutoTokenizer, AutoModelForSeq2SeqLM\n",
        "\n",
        "from datasets import load_dataset\n",
        "import pandas as pd"
      ],
      "metadata": {
        "id": "PC0hpn8E6PJZ"
      },
      "id": "PC0hpn8E6PJZ",
      "execution_count": 117,
      "outputs": []
    },
    {
      "cell_type": "markdown",
      "id": "9aff9f50",
      "metadata": {
        "id": "9aff9f50"
      },
      "source": [
        "## Step 3: Preprocess the Dataset"
      ]
    },
    {
      "cell_type": "markdown",
      "id": "1a4a3ba9",
      "metadata": {
        "id": "1a4a3ba9"
      },
      "source": [
        "Define a preprocessing function that adds a prefix (\"summarize:\") to each input if needed and tokenizes the text for the model. The labels will be the tokenized summaries."
      ]
    },
    {
      "cell_type": "code",
      "execution_count": 151,
      "id": "a4d5f586",
      "metadata": {
        "id": "a4d5f586"
      },
      "outputs": [],
      "source": [
        "data = load_dataset(dataset , split ='train[:1000]')"
      ]
    },
    {
      "cell_type": "code",
      "source": [
        "# Load model directly\n",
        "\n",
        "tokenizer = AutoTokenizer.from_pretrained(\"google-t5/t5-small\")\n",
        "model = AutoModelForSeq2SeqLM.from_pretrained(\"google-t5/t5-small\")"
      ],
      "metadata": {
        "id": "I-DUh82h69jM"
      },
      "id": "I-DUh82h69jM",
      "execution_count": 119,
      "outputs": []
    },
    {
      "cell_type": "code",
      "source": [
        "data"
      ],
      "metadata": {
        "colab": {
          "base_uri": "https://localhost:8080/"
        },
        "id": "c7-tLbBM7uz4",
        "outputId": "66d65e8b-4b16-4b4c-86c4-efe4c30b8c38"
      },
      "id": "c7-tLbBM7uz4",
      "execution_count": 152,
      "outputs": [
        {
          "output_type": "execute_result",
          "data": {
            "text/plain": [
              "Dataset({\n",
              "    features: ['Unnamed: 0', 'dialogue', 'summary'],\n",
              "    num_rows: 1000\n",
              "})"
            ]
          },
          "metadata": {},
          "execution_count": 152
        }
      ]
    },
    {
      "cell_type": "code",
      "source": [
        "data = data.train_test_split(test_size=0.2)"
      ],
      "metadata": {
        "id": "8fBYrCiR7-N5"
      },
      "id": "8fBYrCiR7-N5",
      "execution_count": 153,
      "outputs": []
    },
    {
      "cell_type": "code",
      "source": [
        "data['train']"
      ],
      "metadata": {
        "colab": {
          "base_uri": "https://localhost:8080/"
        },
        "id": "-_1_HYxE8keR",
        "outputId": "14f21374-3973-4661-914b-1f7365de73c6"
      },
      "id": "-_1_HYxE8keR",
      "execution_count": 154,
      "outputs": [
        {
          "output_type": "execute_result",
          "data": {
            "text/plain": [
              "Dataset({\n",
              "    features: ['Unnamed: 0', 'dialogue', 'summary'],\n",
              "    num_rows: 800\n",
              "})"
            ]
          },
          "metadata": {},
          "execution_count": 154
        }
      ]
    },
    {
      "cell_type": "code",
      "source": [
        "data['test']"
      ],
      "metadata": {
        "colab": {
          "base_uri": "https://localhost:8080/"
        },
        "id": "Yywx7KIk-Q_G",
        "outputId": "636041d0-5c75-47af-964a-d00dc35148fe"
      },
      "id": "Yywx7KIk-Q_G",
      "execution_count": 155,
      "outputs": [
        {
          "output_type": "execute_result",
          "data": {
            "text/plain": [
              "Dataset({\n",
              "    features: ['Unnamed: 0', 'dialogue', 'summary'],\n",
              "    num_rows: 200\n",
              "})"
            ]
          },
          "metadata": {},
          "execution_count": 155
        }
      ]
    },
    {
      "cell_type": "code",
      "source": [
        "data.set_format('pandas')\n",
        "df = data['train'][:]\n",
        "df.head()"
      ],
      "metadata": {
        "colab": {
          "base_uri": "https://localhost:8080/",
          "height": 206
        },
        "id": "4kDD09Hh-UtY",
        "outputId": "179f680d-7684-4c83-8e2b-748096790596"
      },
      "id": "4kDD09Hh-UtY",
      "execution_count": 156,
      "outputs": [
        {
          "output_type": "execute_result",
          "data": {
            "text/plain": [
              "   Unnamed: 0                                           dialogue  \\\n",
              "0         131  الشخص 1: ماذا تريد لتناول الإفطار؟\\n  الشخص 2:...   \n",
              "1         743  الشخص 1: آسف!اعذرني!تلقيت رسالتك.\\n  الشخص 2: ...   \n",
              "2         281  إيلا: مرحبا هناك!كيف؟لم أسمع منك على مر العصور...   \n",
              "3         790  لوكاس سالي: يرجى العثور على الدعوة الرسمية الم...   \n",
              "4         293  الشخص 1: واو ، هناك الكثير من الفوانيس لتقديره...   \n",
              "\n",
              "                                             summary  \n",
              "0  الشخص 1 والشخص 2 يتحدثان عما يجب رؤيته اليوم.س...  \n",
              "1  لقد دهش الشخص 2 للحصول على رسالة تايلور التي ي...  \n",
              "2  إيلا لديها علة في المعدة سيئة ، هي في ألم.يقتر...  \n",
              "3  تمت دعوة كاثرين دوم من قبل لوكاس سالي لإجراء م...  \n",
              "4  الشخص 1 والشخص 2 يقدران الفوانيس.يسأل الشخص 1 ...  "
            ],
            "text/html": [
              "\n",
              "  <div id=\"df-6c8e1d73-b320-4134-b009-dc615b6d27ad\" class=\"colab-df-container\">\n",
              "    <div>\n",
              "<style scoped>\n",
              "    .dataframe tbody tr th:only-of-type {\n",
              "        vertical-align: middle;\n",
              "    }\n",
              "\n",
              "    .dataframe tbody tr th {\n",
              "        vertical-align: top;\n",
              "    }\n",
              "\n",
              "    .dataframe thead th {\n",
              "        text-align: right;\n",
              "    }\n",
              "</style>\n",
              "<table border=\"1\" class=\"dataframe\">\n",
              "  <thead>\n",
              "    <tr style=\"text-align: right;\">\n",
              "      <th></th>\n",
              "      <th>Unnamed: 0</th>\n",
              "      <th>dialogue</th>\n",
              "      <th>summary</th>\n",
              "    </tr>\n",
              "  </thead>\n",
              "  <tbody>\n",
              "    <tr>\n",
              "      <th>0</th>\n",
              "      <td>131</td>\n",
              "      <td>الشخص 1: ماذا تريد لتناول الإفطار؟\\n  الشخص 2:...</td>\n",
              "      <td>الشخص 1 والشخص 2 يتحدثان عما يجب رؤيته اليوم.س...</td>\n",
              "    </tr>\n",
              "    <tr>\n",
              "      <th>1</th>\n",
              "      <td>743</td>\n",
              "      <td>الشخص 1: آسف!اعذرني!تلقيت رسالتك.\\n  الشخص 2: ...</td>\n",
              "      <td>لقد دهش الشخص 2 للحصول على رسالة تايلور التي ي...</td>\n",
              "    </tr>\n",
              "    <tr>\n",
              "      <th>2</th>\n",
              "      <td>281</td>\n",
              "      <td>إيلا: مرحبا هناك!كيف؟لم أسمع منك على مر العصور...</td>\n",
              "      <td>إيلا لديها علة في المعدة سيئة ، هي في ألم.يقتر...</td>\n",
              "    </tr>\n",
              "    <tr>\n",
              "      <th>3</th>\n",
              "      <td>790</td>\n",
              "      <td>لوكاس سالي: يرجى العثور على الدعوة الرسمية الم...</td>\n",
              "      <td>تمت دعوة كاثرين دوم من قبل لوكاس سالي لإجراء م...</td>\n",
              "    </tr>\n",
              "    <tr>\n",
              "      <th>4</th>\n",
              "      <td>293</td>\n",
              "      <td>الشخص 1: واو ، هناك الكثير من الفوانيس لتقديره...</td>\n",
              "      <td>الشخص 1 والشخص 2 يقدران الفوانيس.يسأل الشخص 1 ...</td>\n",
              "    </tr>\n",
              "  </tbody>\n",
              "</table>\n",
              "</div>\n",
              "    <div class=\"colab-df-buttons\">\n",
              "\n",
              "  <div class=\"colab-df-container\">\n",
              "    <button class=\"colab-df-convert\" onclick=\"convertToInteractive('df-6c8e1d73-b320-4134-b009-dc615b6d27ad')\"\n",
              "            title=\"Convert this dataframe to an interactive table.\"\n",
              "            style=\"display:none;\">\n",
              "\n",
              "  <svg xmlns=\"http://www.w3.org/2000/svg\" height=\"24px\" viewBox=\"0 -960 960 960\">\n",
              "    <path d=\"M120-120v-720h720v720H120Zm60-500h600v-160H180v160Zm220 220h160v-160H400v160Zm0 220h160v-160H400v160ZM180-400h160v-160H180v160Zm440 0h160v-160H620v160ZM180-180h160v-160H180v160Zm440 0h160v-160H620v160Z\"/>\n",
              "  </svg>\n",
              "    </button>\n",
              "\n",
              "  <style>\n",
              "    .colab-df-container {\n",
              "      display:flex;\n",
              "      gap: 12px;\n",
              "    }\n",
              "\n",
              "    .colab-df-convert {\n",
              "      background-color: #E8F0FE;\n",
              "      border: none;\n",
              "      border-radius: 50%;\n",
              "      cursor: pointer;\n",
              "      display: none;\n",
              "      fill: #1967D2;\n",
              "      height: 32px;\n",
              "      padding: 0 0 0 0;\n",
              "      width: 32px;\n",
              "    }\n",
              "\n",
              "    .colab-df-convert:hover {\n",
              "      background-color: #E2EBFA;\n",
              "      box-shadow: 0px 1px 2px rgba(60, 64, 67, 0.3), 0px 1px 3px 1px rgba(60, 64, 67, 0.15);\n",
              "      fill: #174EA6;\n",
              "    }\n",
              "\n",
              "    .colab-df-buttons div {\n",
              "      margin-bottom: 4px;\n",
              "    }\n",
              "\n",
              "    [theme=dark] .colab-df-convert {\n",
              "      background-color: #3B4455;\n",
              "      fill: #D2E3FC;\n",
              "    }\n",
              "\n",
              "    [theme=dark] .colab-df-convert:hover {\n",
              "      background-color: #434B5C;\n",
              "      box-shadow: 0px 1px 3px 1px rgba(0, 0, 0, 0.15);\n",
              "      filter: drop-shadow(0px 1px 2px rgba(0, 0, 0, 0.3));\n",
              "      fill: #FFFFFF;\n",
              "    }\n",
              "  </style>\n",
              "\n",
              "    <script>\n",
              "      const buttonEl =\n",
              "        document.querySelector('#df-6c8e1d73-b320-4134-b009-dc615b6d27ad button.colab-df-convert');\n",
              "      buttonEl.style.display =\n",
              "        google.colab.kernel.accessAllowed ? 'block' : 'none';\n",
              "\n",
              "      async function convertToInteractive(key) {\n",
              "        const element = document.querySelector('#df-6c8e1d73-b320-4134-b009-dc615b6d27ad');\n",
              "        const dataTable =\n",
              "          await google.colab.kernel.invokeFunction('convertToInteractive',\n",
              "                                                    [key], {});\n",
              "        if (!dataTable) return;\n",
              "\n",
              "        const docLinkHtml = 'Like what you see? Visit the ' +\n",
              "          '<a target=\"_blank\" href=https://colab.research.google.com/notebooks/data_table.ipynb>data table notebook</a>'\n",
              "          + ' to learn more about interactive tables.';\n",
              "        element.innerHTML = '';\n",
              "        dataTable['output_type'] = 'display_data';\n",
              "        await google.colab.output.renderOutput(dataTable, element);\n",
              "        const docLink = document.createElement('div');\n",
              "        docLink.innerHTML = docLinkHtml;\n",
              "        element.appendChild(docLink);\n",
              "      }\n",
              "    </script>\n",
              "  </div>\n",
              "\n",
              "\n",
              "<div id=\"df-aaacaed3-2d7d-41f9-8d0d-cf4543ed102d\">\n",
              "  <button class=\"colab-df-quickchart\" onclick=\"quickchart('df-aaacaed3-2d7d-41f9-8d0d-cf4543ed102d')\"\n",
              "            title=\"Suggest charts\"\n",
              "            style=\"display:none;\">\n",
              "\n",
              "<svg xmlns=\"http://www.w3.org/2000/svg\" height=\"24px\"viewBox=\"0 0 24 24\"\n",
              "     width=\"24px\">\n",
              "    <g>\n",
              "        <path d=\"M19 3H5c-1.1 0-2 .9-2 2v14c0 1.1.9 2 2 2h14c1.1 0 2-.9 2-2V5c0-1.1-.9-2-2-2zM9 17H7v-7h2v7zm4 0h-2V7h2v10zm4 0h-2v-4h2v4z\"/>\n",
              "    </g>\n",
              "</svg>\n",
              "  </button>\n",
              "\n",
              "<style>\n",
              "  .colab-df-quickchart {\n",
              "      --bg-color: #E8F0FE;\n",
              "      --fill-color: #1967D2;\n",
              "      --hover-bg-color: #E2EBFA;\n",
              "      --hover-fill-color: #174EA6;\n",
              "      --disabled-fill-color: #AAA;\n",
              "      --disabled-bg-color: #DDD;\n",
              "  }\n",
              "\n",
              "  [theme=dark] .colab-df-quickchart {\n",
              "      --bg-color: #3B4455;\n",
              "      --fill-color: #D2E3FC;\n",
              "      --hover-bg-color: #434B5C;\n",
              "      --hover-fill-color: #FFFFFF;\n",
              "      --disabled-bg-color: #3B4455;\n",
              "      --disabled-fill-color: #666;\n",
              "  }\n",
              "\n",
              "  .colab-df-quickchart {\n",
              "    background-color: var(--bg-color);\n",
              "    border: none;\n",
              "    border-radius: 50%;\n",
              "    cursor: pointer;\n",
              "    display: none;\n",
              "    fill: var(--fill-color);\n",
              "    height: 32px;\n",
              "    padding: 0;\n",
              "    width: 32px;\n",
              "  }\n",
              "\n",
              "  .colab-df-quickchart:hover {\n",
              "    background-color: var(--hover-bg-color);\n",
              "    box-shadow: 0 1px 2px rgba(60, 64, 67, 0.3), 0 1px 3px 1px rgba(60, 64, 67, 0.15);\n",
              "    fill: var(--button-hover-fill-color);\n",
              "  }\n",
              "\n",
              "  .colab-df-quickchart-complete:disabled,\n",
              "  .colab-df-quickchart-complete:disabled:hover {\n",
              "    background-color: var(--disabled-bg-color);\n",
              "    fill: var(--disabled-fill-color);\n",
              "    box-shadow: none;\n",
              "  }\n",
              "\n",
              "  .colab-df-spinner {\n",
              "    border: 2px solid var(--fill-color);\n",
              "    border-color: transparent;\n",
              "    border-bottom-color: var(--fill-color);\n",
              "    animation:\n",
              "      spin 1s steps(1) infinite;\n",
              "  }\n",
              "\n",
              "  @keyframes spin {\n",
              "    0% {\n",
              "      border-color: transparent;\n",
              "      border-bottom-color: var(--fill-color);\n",
              "      border-left-color: var(--fill-color);\n",
              "    }\n",
              "    20% {\n",
              "      border-color: transparent;\n",
              "      border-left-color: var(--fill-color);\n",
              "      border-top-color: var(--fill-color);\n",
              "    }\n",
              "    30% {\n",
              "      border-color: transparent;\n",
              "      border-left-color: var(--fill-color);\n",
              "      border-top-color: var(--fill-color);\n",
              "      border-right-color: var(--fill-color);\n",
              "    }\n",
              "    40% {\n",
              "      border-color: transparent;\n",
              "      border-right-color: var(--fill-color);\n",
              "      border-top-color: var(--fill-color);\n",
              "    }\n",
              "    60% {\n",
              "      border-color: transparent;\n",
              "      border-right-color: var(--fill-color);\n",
              "    }\n",
              "    80% {\n",
              "      border-color: transparent;\n",
              "      border-right-color: var(--fill-color);\n",
              "      border-bottom-color: var(--fill-color);\n",
              "    }\n",
              "    90% {\n",
              "      border-color: transparent;\n",
              "      border-bottom-color: var(--fill-color);\n",
              "    }\n",
              "  }\n",
              "</style>\n",
              "\n",
              "  <script>\n",
              "    async function quickchart(key) {\n",
              "      const quickchartButtonEl =\n",
              "        document.querySelector('#' + key + ' button');\n",
              "      quickchartButtonEl.disabled = true;  // To prevent multiple clicks.\n",
              "      quickchartButtonEl.classList.add('colab-df-spinner');\n",
              "      try {\n",
              "        const charts = await google.colab.kernel.invokeFunction(\n",
              "            'suggestCharts', [key], {});\n",
              "      } catch (error) {\n",
              "        console.error('Error during call to suggestCharts:', error);\n",
              "      }\n",
              "      quickchartButtonEl.classList.remove('colab-df-spinner');\n",
              "      quickchartButtonEl.classList.add('colab-df-quickchart-complete');\n",
              "    }\n",
              "    (() => {\n",
              "      let quickchartButtonEl =\n",
              "        document.querySelector('#df-aaacaed3-2d7d-41f9-8d0d-cf4543ed102d button');\n",
              "      quickchartButtonEl.style.display =\n",
              "        google.colab.kernel.accessAllowed ? 'block' : 'none';\n",
              "    })();\n",
              "  </script>\n",
              "</div>\n",
              "\n",
              "    </div>\n",
              "  </div>\n"
            ],
            "application/vnd.google.colaboratory.intrinsic+json": {
              "type": "dataframe",
              "variable_name": "df",
              "summary": "{\n  \"name\": \"df\",\n  \"rows\": 800,\n  \"fields\": [\n    {\n      \"column\": \"Unnamed: 0\",\n      \"properties\": {\n        \"dtype\": \"number\",\n        \"std\": 289,\n        \"min\": 0,\n        \"max\": 999,\n        \"num_unique_values\": 800,\n        \"samples\": [\n          133,\n          73,\n          850\n        ],\n        \"semantic_type\": \"\",\n        \"description\": \"\"\n      }\n    },\n    {\n      \"column\": \"dialogue\",\n      \"properties\": {\n        \"dtype\": \"string\",\n        \"num_unique_values\": 797,\n        \"samples\": [\n          \"\\u0627\\u0644\\u0634\\u062e\\u0635 1: [\\u0637\\u0631\\u0642 \\u0639\\u0644\\u0649 \\u0627\\u0644\\u0628\\u0627\\u0628.] \\u062a\\u0639\\u0627\\u0644 \\u060c \\u0645\\u0646 \\u0641\\u0636\\u0644\\u0643.\\n  \\u0627\\u0644\\u0634\\u062e\\u0635 2: \\u0645\\u0631\\u062d\\u0628\\u0627 \\u060c \\u0643\\u064a\\u062a.\\u0623\\u064a\\u0646 \\u062c\\u064a\\u0646\\u061f\\u0623\\u0631\\u064a\\u062f\\u0647\\u0627 \\u0623\\u0646 \\u062a\\u0643\\u062a\\u0628 \\u0647\\u0630\\u0647 \\u0627\\u0644\\u0631\\u0633\\u0627\\u0644\\u0629 \\u0644\\u064a.\\n  \\u0627\\u0644\\u0634\\u062e\\u0635 1: \\u0623\\u062e\\u0634\\u0649 \\u0623\\u0646\\u0647\\u0627 \\u0644\\u0627 \\u062a\\u0633\\u062a\\u0637\\u064a\\u0639 \\u0630\\u0644\\u0643 \\u060c \\u062a\\u0648\\u0645.\\u0625\\u0646\\u0647\\u0627 \\u0644\\u0627 \\u062a\\u0639\\u0645\\u0644 \\u0627\\u0644\\u064a\\u0648\\u0645.\\n  \\u0627\\u0644\\u0634\\u062e\\u0635 2: \\u0623\\u0648\\u0647 \\u060c \\u0644\\u0645\\u0627\\u0630\\u0627\\u061f\\u0647\\u0644 \\u0647\\u064a \\u0645\\u0631\\u064a\\u0636\\u0629\\u061f\\n  \\u0627\\u0644\\u0634\\u062e\\u0635 1: \\u0644\\u0627.\\u0625\\u0646\\u0647\\u0627 \\u062a\\u062f\\u0631\\u0633 \\u0644\\u0627\\u0645\\u062a\\u062d\\u0627\\u0646.\\n  \\u0627\\u0644\\u0634\\u062e\\u0635 2: \\u0627\\u0645\\u062a\\u062d\\u0627\\u0646.\\u0647\\u0644 \\u0633\\u062a\\u0630\\u0647\\u0628 \\u0625\\u0644\\u0649 \\u0627\\u0644\\u0645\\u062f\\u0631\\u0633\\u0629\\u061f\\n  \\u0627\\u0644\\u0634\\u062e\\u0635 1: \\u0646\\u0639\\u0645 \\u060c \\u0647\\u064a.\\u0625\\u0646\\u0647\\u0627 \\u062a\\u062a\\u0639\\u0644\\u0645 \\u0627\\u0644\\u064a\\u0627\\u0628\\u0627\\u0646\\u064a\\u0629 \\u0641\\u064a \\u0627\\u0644\\u0645\\u062f\\u0631\\u0633\\u0629 \\u0627\\u0644\\u0644\\u064a\\u0644\\u064a\\u0629.\\n  \\u0627\\u0644\\u0634\\u062e\\u0635 2: \\u0623\\u0631\\u0649.\\u0647\\u0644 \\u0633\\u062a\\u0630\\u0647\\u0628 \\u0625\\u0644\\u0649 \\u0627\\u0644\\u0645\\u062f\\u0631\\u0633\\u0629 \\u0627\\u0644\\u0644\\u064a\\u0644\\u064a\\u0629 \\u0623\\u064a\\u0636\\u064b\\u0627\\u061f\\n  \\u0627\\u0644\\u0634\\u062e\\u0635 1: \\u0644\\u0627 \\u060c \\u0644\\u0633\\u062a \\u0643\\u0630\\u0644\\u0643 \\u060c \\u0644\\u064a\\u0633 \\u0647\\u0630\\u0627 \\u0627\\u0644\\u0639\\u0627\\u0645.\\u0644\\u0643\\u0646\\u0646\\u064a \\u0623\\u0641\\u0643\\u0631 \\u0641\\u064a \\u0623\\u062e\\u0630 \\u062f\\u0648\\u0631\\u0629 \\u0641\\u064a \\u0627\\u0644\\u0639\\u0627\\u0645 \\u0627\\u0644\\u0645\\u0642\\u0628\\u0644.\\n  \\u0627\\u0644\\u0634\\u062e\\u0635 2: \\u0647\\u0630\\u0647 \\u0641\\u0643\\u0631\\u0629 \\u062c\\u064a\\u062f\\u0629.\\u0647\\u0644 \\u0647\\u0649 \\u0645\\u0643\\u0644\\u0641\\u0629\\u061f\\n  \\u0627\\u0644\\u0634\\u062e\\u0635 1: \\u0644\\u0627 \\u060c \\u0644\\u064a\\u0633 \\u062c\\u062f\\u0627.\\u0639\\u0644\\u0649 \\u0623\\u064a \\u062d\\u0627\\u0644 \\u060c \\u0627\\u0644\\u0623\\u0645\\u0631 \\u064a\\u0633\\u062a\\u062d\\u0642 \\u0627\\u0644\\u0645\\u0627\\u0644.\",\n          \"\\u0647\\u0627\\u0631\\u0648\\u0646: \\u0647\\u0644 \\u062a\\u0631\\u064a\\u062f \\u0633\\u0645\\u0627\\u0639 \\u0645\\u0632\\u062d\\u0629\\u061f\\u061b \\u0635\\n \\u0641\\u064a\\u0644\\u064a\\u0628: \\u0644\\u0627 \\u060c \\u0644\\u0627 agaaaaain !!\\n \\u0647\\u0627\\u0631\\u0648\\u0646: \\u0647\\u0643\\u0630\\u0627 ...\\n \\u0641\\u064a\\u0644\\u064a\\u0628: \\u0642\\u0644\\u062a \\u0644\\u0627!\\n \\u0647\\u0627\\u0631\\u0648\\u0646: ooookay ....: <\\u0639\\u0644\\u0649 \\u0623\\u064a \\u062d\\u0627\\u0644 \\u060c \\u0645\\u0627 \\u0627\\u0644\\u0623\\u0645\\u0631\\u061f\\n \\u0641\\u064a\\u0644\\u064a\\u0628: \\u0644\\u0642\\u062f \\u0642\\u0636\\u064a\\u062a \\u064a\\u0648\\u0645 \\u0631\\u0647\\u064a\\u0628 \\u061b/\\n \\u0622\\u0631\\u0648\\u0646: cmon \\u060c \\u0628\\u0635\\u0642\\u0647\\u0627\\n \\u0641\\u064a\\u0644\\u064a\\u0628: \\u063a\\u0636\\u0628 \\u062f\\u064a\\u0632\\u064a \\u0645\\u0646\\u064a \\u060c \\u0644\\u0623\\u0646\\u0646\\u064a \\u0646\\u0633\\u064a\\u062a \\u0639\\u0634\\u0627\\u0621 \\u0627\\u0644\\u0630\\u0643\\u0631\\u0649 \\u0627\\u0644\\u0633\\u0646\\u0648\\u064a\\u0629 ...\\n \\u0647\\u0627\\u0631\\u0648\\u0646: \\u0644\\u0643\\u0646 \\u0644\\u0627 \\u064a\\u0632\\u0627\\u0644 \\u0628\\u0625\\u0645\\u0643\\u0627\\u0646\\u0643 \\u0627\\u0644\\u0630\\u0647\\u0627\\u0628 \\u060c \\u0623\\u0644\\u064a\\u0633 \\u0643\\u0630\\u0644\\u0643\\u061f\\n \\u0641\\u064a\\u0644\\u064a\\u0628: \\u0644\\u064a\\u0633 \\u0628\\u0627\\u0644\\u0636\\u0628\\u0637 ... \\u0643\\u0646\\u062a \\u0641\\u064a \\u0637\\u0631\\u064a\\u0642\\u064a \\u0625\\u0644\\u0649 \\u062d\\u0641\\u0644\\u0629 \\u0645\\u0639 \\u0623\\u0648\\u0644\\u0627\\u062f \\u0645\\u0646 \\u0627\\u0644\\u0639\\u0645\\u0644 \\u060c \\u0623\\u0631\\u062a\\u062f\\u064a \\u0645\\u0644\\u0627\\u0628\\u0633 \\u062f\\u062c\\u0627\\u062c o.o\\n \\u0647\\u0627\\u0631\\u0648\\u0646: \\u0647\\u0647\\u0647\\u0647\\u0647\\u0647\\u0647\\u0647\\u0647\\u0647\\u0647\\u0647\\u0647\\u0647\\u0647\\u0647\\u0647\\u0647\\u0647\\u0647\\u0647\\u0647\\u0647\\u0647\\u0647\\u0647\\u0647\\u0647\\u0647\\u0647\\u0647\\u0647\\u0647\\u0647\\u0647\\u0647\\u0647\\u0647\\u0647\\u0647\\u0647\\u0647\\n \\u0641\\u064a\\u0644\\u064a\\u0628: \\u0623\\u0648\\u0642\\u0641\\u0647 \\u060c \\u0625\\u0646\\u0647 \\u062c\\u0627\\u062f !!\\n \\u0647\\u0627\\u0631\\u0648\\u0646: \\u0644\\u0648\\u0648\\u0648\\u0644\\n \\u0641\\u064a\\u0644\\u064a\\u0628: \\u0642\\u0627\\u0644\\u062a \\u0625\\u0646\\u0647\\u0627 \\u062a\\u0631\\u064a\\u062f \\u0627\\u0644\\u0627\\u0646\\u0641\\u0635\\u0627\\u0644 \\u0645\\u0639\\u064a !!\\n \\u0622\\u0631\\u0648\\u0646: \\u0643\\u0645\\u0627 \\u0647\\u0648 \\u0627\\u0644\\u062d\\u0627\\u0644 \\u062f\\u0627\\u0626\\u0645\\u064b\\u0627 \\u060c \\u0633\\u0648\\u0641 \\u062a\\u0628\\u0631\\u062f \\u0642\\u0644\\u064a\\u0644\\u0627\\u064b \\u0648\\u0633\\u062a\\u0643\\u0648\\u0646 \\u0639\\u0644\\u0649 \\u0645\\u0627 \\u064a\\u0631\\u0627\\u0645 \\u060c \\u0633\\u062a\\u0631\\u0649.\\n \\u0641\\u064a\\u0644\\u064a\\u0628: \\u0646\\u0639\\u0645 \\u060c \\u0631\\u0628\\u0645\\u0627\",\n          \"\\u062c\\u0648\\u0646: \\u0645\\u0631\\u062d\\u0628\\u0627 \\u0639\\u0632\\u064a\\u0632\\u062a\\u064a \\u0643\\u064a\\u0641 \\u062d\\u0627\\u0644\\u0643 \\u0627\\u0644\\u0622\\u0646\\u061f\\n \\u0645\\u0627\\u0631\\u064a: \\u0644\\u0627 \\u062a\\u062e\\u062a\\u0644\\u0641 \\u0643\\u062b\\u064a\\u0631\\u064b\\u0627 ..\\n \\u062c\\u0648\\u0646: \\u0623\\u0646\\u0627 \\u0622\\u0633\\u0641 \\u062c\\u062f\\u064b\\u0627 \\u0644\\u0623\\u0646\\u0646\\u064a \\u0627\\u0636\\u0637\\u0631\\u0631\\u062a \\u0625\\u0644\\u0649 \\u062a\\u0631\\u0643\\u0643 \\u0641\\u064a \\u0647\\u0630\\u0647 \\u0627\\u0644\\u062d\\u0627\\u0644\\u0629\\u061f\\n \\u0645\\u0627\\u0631\\u064a: \\u0644\\u0627 \\u060c \\u0644\\u0627 \\u0628\\u0623\\u0633 \\u060c \\u0648\\u0623\\u0646\\u0627 \\u0623\\u0639\\u0644\\u0645 \\u0623\\u0646\\u0647\\u0627 \\u0643\\u0627\\u0646\\u062a \\u0639\\u0627\\u062c\\u0644\\u0629\\n \\u062c\\u0648\\u0646: \\u0647\\u0644 \\u0623\\u0643\\u0644\\u062a \\u0634\\u064a\\u0626\\u064b\\u0627 \\u0644\\u0627 \\u0645\\u0639\\u0646\\u0649 \\u0644\\u0647\\u061f\\n \\u0645\\u0627\\u0631\\u064a: \\u0644\\u0627 ...\\n \\u062c\\u0648\\u0646: \\u0625\\u0630\\u0646 \\u0645\\u0627 \\u0647\\u0648 \\u0633\\u0628\\u0628 \\u0627\\u0644\\u0631\\u0645\\u064a\\u061f\\n \\u0645\\u0627\\u0631\\u064a: \\u0644\\u0627 \\u0623\\u0639\\u0631\\u0641.\\n \\u062c\\u0648\\u0646: \\u062e\\u0630 \\u0645\\u0648\\u0639\\u062f\\u064b\\u0627 \\u0633\\u0623\\u0639\\u0648\\u062f \\u0628\\u062d\\u0644\\u0648\\u0644 \\u0627\\u0644\\u0633\\u0627\\u0639\\u0629 1 \\u0645\\u0633\\u0627\\u0621\\u064b \\u0648\\u0633\\u0648\\u0641 \\u0646\\u0630\\u0647\\u0628 \\u0645\\u0646\\n \\u0645\\u0627\\u0631\\u064a: \\u0644\\u0627 ... \\u0623\\u0639\\u062a\\u0642\\u062f \\u0623\\u0646\\u0647 \\u0634\\u064a\\u0621 \\u0622\\u062e\\u0631 ..\\n \\u062c\\u0648\\u0646: \\u0645\\u0627\\u0630\\u0627\\u061f\\u0647\\u0648 \\u0643\\u0644 \\u0634\\u064a\\u0621 \\u0637\\u064a\\u0628\\u061f\\n \\u0645\\u0627\\u0631\\u064a: \\u0646\\u0639\\u0645 .. \\u0641\\u0642\\u0637\\n \\u062c\\u0648\\u0646: \\u0641\\u0642\\u0637 \\u064a\\u0627 \\u0644\\u0647\\u0627 \\u0645\\u0646 \\u0637\\u0641\\u0644\\u061f\\u0644\\u0627 \\u0634\\u064a\\u0621 \\u062c\\u0627\\u062f \\u0635\\u062d\\u064a\\u062d\\u061f\\n \\u0645\\u0627\\u0631\\u064a: \\u0623\\u0648\\u0647 \\u0644\\u0627 ... \\u0623\\u0639\\u062a\\u0642\\u062f \\u0623\\u0646\\u0646\\u064a .. \\u0644\\u0627 \\u0623\\u0639\\u0631\\u0641 \\u0625\\u0630\\u0627 \\u0643\\u0627\\u0646 \\u064a\\u062c\\u0628 \\u0623\\u0646 \\u0623\\u062e\\u0628\\u0631\\u0643 \\u0647\\u0646\\u0627\\n \\u062c\\u0648\\u0646: \\u062a\\u0639\\u0627\\u0644 \\u0642\\u0644 \\u0644\\u064a .... \\u0623\\u0646\\u0627 \\u0642\\u0644\\u0642 \\u0644\\u0644\\u063a\\u0627\\u064a\\u0629\\n \\u0645\\u0627\\u0631\\u064a: \\u0623\\u0639\\u062a\\u0642\\u062f \\u0623\\u0646\\u0646\\u064a \\u062d\\u0627\\u0645\\u0644 ... \\u0644\\u0643\\u0646\\u0646\\u064a \\u0644\\u0633\\u062a \\u0645\\u062a\\u0623\\u0643\\u062f\\u064b\\u0627\\n \\u062c\\u0648\\u0646: \\u0645\\u0627\\u0630\\u0627 \\u061f\\u061f\\u0645\\u062b\\u0644 \\u0641\\u064a \\u0627\\u0644\\u0648\\u0627\\u0642\\u0639\\n \\u0645\\u0627\\u0631\\u064a: \\u0623\\u062e\\u0628\\u0631\\u062a\\u0643 \\u0623\\u0646\\u0646\\u064a \\u0644\\u0633\\u062a \\u0645\\u062a\\u0623\\u0643\\u062f\\u064b\\u0627 ..\\n \\u062c\\u0648\\u0646: \\u0623\\u0646\\u0627 \\u0642\\u0627\\u062f\\u0645 \\u0641\\u064a \\u063a\\u0636\\u0648\\u0646 \\u0646\\u0635\\u0641 \\u0633\\u0627\\u0639\\u0629 \\u0639\\u0644\\u0649 \\u0627\\u0633\\u062a\\u0639\\u062f\\u0627\\u062f \\u060c \\u0633\\u0646\\u0631\\u0649 \\u0627\\u0644\\u0637\\u0628\\u064a\\u0628.\\u0644\\u0627 \\u0623\\u0633\\u062a\\u0637\\u064a\\u0639 \\u0627\\u0644\\u0627\\u0646\\u062a\\u0638\\u0627\\u0631: \\u0627\\u0628\\u062a\\u0633\\u0627\\u0645\\u0629:\\n \\u0645\\u0627\\u0631\\u064a: \\u0644\\u0627 \\u062a\\u0643\\u0648\\u0646 \\u0645\\u062a\\u062d\\u0645\\u0633\\u064b\\u0627 \\u062c\\u062f\\u064b\\u0627 \\u064a\\u0645\\u0643\\u0646\\u0646\\u064a \\u0627\\u0644\\u062d\\u0635\\u0648\\u0644 \\u0639\\u0644\\u0649 \\u0634\\u0631\\u064a\\u0637 \\u0627\\u062e\\u062a\\u0628\\u0627\\u0631 \\u0648\\u0627\\u0644\\u062a\\u062d\\u0642\\u0642 ....\\n \\u062c\\u0648\\u0646: \\u0644\\u0627 \\u0623\\u0631\\u064a\\u062f \\u0623\\u0646 \\u064a\\u0639\\u0637\\u064a\\u0646\\u064a \\u0627\\u0644\\u0637\\u0628\\u064a\\u0628 \\u0623\\u0646 \\u064a\\u0639\\u0637\\u064a\\u0646\\u064a \\u0627\\u0644\\u0623\\u062e\\u0628\\u0627\\u0631 100 \\u066a.\\n \\u0645\\u0627\\u0631\\u064a: \\u0644\\u0648\\u0644 \\u0627\\u0644\\u062c\\u0646\\u0648\\u0646\\n \\u062c\\u0648\\u0646: \\u0646\\u0639\\u0645 \\u0623\\u0646\\u0627 \\u0645\\u0633\\u062a\\u0639\\u062f \\u0627\\u0644\\u0622\\u0646 ..\\n \\u0645\\u0627\\u0631\\u064a: \\u062d\\u0633\\u0646\\u064b\\u0627\"\n        ],\n        \"semantic_type\": \"\",\n        \"description\": \"\"\n      }\n    },\n    {\n      \"column\": \"summary\",\n      \"properties\": {\n        \"dtype\": \"string\",\n        \"num_unique_values\": 800,\n        \"samples\": [\n          \"\\u064a\\u0630\\u0647\\u0628 \\u063a\\u0631\\u064a\\u0633 \\u0648\\u0646\\u0627\\u062a\\u0627\\u0644\\u064a \\u0625\\u0644\\u0649 \\u0632\\u0648\\u0645\\u0628\\u0627 \\u0627\\u0644\\u064a\\u0648\\u0645 \\u0641\\u064a \\u0627\\u0644\\u0633\\u0627\\u0639\\u0629 5 \\u0645\\u0633\\u0627\\u0621\\u064b.\\u0633\\u062a\\u062c\\u0644\\u0628 \\u063a\\u0631\\u064a\\u0633 \\u0643\\u062a\\u0627\\u0628 \\u0646\\u0627\\u062a\\u0627\\u0644\\u064a.\\u0644\\u0642\\u062f \\u0623\\u0646\\u0647\\u064a\\u062a\\u0647\\u0627 \\u0644\\u064a\\u0644\\u0629 \\u0623\\u0645\\u0633.\",\n          \"\\u062a\\u062e\\u0628\\u0631 \\u0644\\u0648\\u0631\\u0627 \\u062a\\u064a\\u0645 \\u0623\\u0646\\u0647 \\u064a\\u062c\\u0628 \\u0639\\u0644\\u064a\\u0647\\u0645 \\u0627\\u0644\\u0628\\u062f\\u0621 \\u0641\\u064a \\u0631\\u0624\\u064a\\u0629 \\u0623\\u0634\\u062e\\u0627\\u0635 \\u0622\\u062e\\u0631\\u064a\\u0646 \\u0644\\u0623\\u0646 \\u062a\\u064a\\u0645 \\u062c\\u064a\\u062f \\u062c\\u062f\\u064b\\u0627 \\u0628\\u0627\\u0644\\u0646\\u0633\\u0628\\u0629 \\u0644\\u0647\\u0627 \\u060c \\u0644\\u0643\\u0646\\u0647\\u0627 \\u0633\\u062a\\u062c\\u0639\\u0644\\u0647 \\u064a\\u0635\\u0628 \\u0628\\u0623\\u0630\\u0649 \\u0641\\u0642\\u0637.\\u062f\\u0647\\u0634 \\u062a\\u064a\\u0645 \\u0648\\u064a\\u0631\\u064a\\u062f \\u0641\\u0631\\u0635\\u0629 \\u0623\\u062e\\u0631\\u0649 \\u060c \\u0644\\u0643\\u0646 \\u0644\\u0648\\u0631\\u0627 \\u0645\\u0635\\u0645\\u0645\\u0629 \\u0639\\u0644\\u0649 \\u0627\\u0644\\u0645\\u063a\\u0627\\u062f\\u0631\\u0629.\",\n          \"\\u0645\\u0627\\u0631\\u064a \\u062a\\u0639\\u062a\\u0642\\u062f \\u0623\\u0646\\u0647\\u0627 \\u062d\\u0627\\u0645\\u0644.\\u062c\\u0648\\u0646 \\u064a\\u0631\\u064a\\u062f \\u0623\\u0646 \\u064a\\u0623\\u062e\\u0630\\u0647\\u0627 \\u0625\\u0644\\u0649 \\u0627\\u0644\\u0637\\u0628\\u064a\\u0628 \\u0644\\u062a\\u0623\\u0643\\u064a\\u062f \\u0630\\u0644\\u0643.\"\n        ],\n        \"semantic_type\": \"\",\n        \"description\": \"\"\n      }\n    }\n  ]\n}"
            }
          },
          "metadata": {},
          "execution_count": 156
        }
      ]
    },
    {
      "cell_type": "code",
      "source": [
        "df = data['train'][:]\n",
        "df_test = data['test'][:]"
      ],
      "metadata": {
        "id": "yxKM7fRv_Fbj"
      },
      "id": "yxKM7fRv_Fbj",
      "execution_count": 157,
      "outputs": []
    },
    {
      "cell_type": "code",
      "source": [
        "df.head()"
      ],
      "metadata": {
        "colab": {
          "base_uri": "https://localhost:8080/",
          "height": 206
        },
        "id": "FszaUAu3_DJD",
        "outputId": "271866e4-23fc-47df-da1a-04d8542e6a6f"
      },
      "id": "FszaUAu3_DJD",
      "execution_count": 158,
      "outputs": [
        {
          "output_type": "execute_result",
          "data": {
            "text/plain": [
              "   Unnamed: 0                                           dialogue  \\\n",
              "0         131  الشخص 1: ماذا تريد لتناول الإفطار؟\\n  الشخص 2:...   \n",
              "1         743  الشخص 1: آسف!اعذرني!تلقيت رسالتك.\\n  الشخص 2: ...   \n",
              "2         281  إيلا: مرحبا هناك!كيف؟لم أسمع منك على مر العصور...   \n",
              "3         790  لوكاس سالي: يرجى العثور على الدعوة الرسمية الم...   \n",
              "4         293  الشخص 1: واو ، هناك الكثير من الفوانيس لتقديره...   \n",
              "\n",
              "                                             summary  \n",
              "0  الشخص 1 والشخص 2 يتحدثان عما يجب رؤيته اليوم.س...  \n",
              "1  لقد دهش الشخص 2 للحصول على رسالة تايلور التي ي...  \n",
              "2  إيلا لديها علة في المعدة سيئة ، هي في ألم.يقتر...  \n",
              "3  تمت دعوة كاثرين دوم من قبل لوكاس سالي لإجراء م...  \n",
              "4  الشخص 1 والشخص 2 يقدران الفوانيس.يسأل الشخص 1 ...  "
            ],
            "text/html": [
              "\n",
              "  <div id=\"df-80321814-36cf-4edd-95fd-14e2055d393e\" class=\"colab-df-container\">\n",
              "    <div>\n",
              "<style scoped>\n",
              "    .dataframe tbody tr th:only-of-type {\n",
              "        vertical-align: middle;\n",
              "    }\n",
              "\n",
              "    .dataframe tbody tr th {\n",
              "        vertical-align: top;\n",
              "    }\n",
              "\n",
              "    .dataframe thead th {\n",
              "        text-align: right;\n",
              "    }\n",
              "</style>\n",
              "<table border=\"1\" class=\"dataframe\">\n",
              "  <thead>\n",
              "    <tr style=\"text-align: right;\">\n",
              "      <th></th>\n",
              "      <th>Unnamed: 0</th>\n",
              "      <th>dialogue</th>\n",
              "      <th>summary</th>\n",
              "    </tr>\n",
              "  </thead>\n",
              "  <tbody>\n",
              "    <tr>\n",
              "      <th>0</th>\n",
              "      <td>131</td>\n",
              "      <td>الشخص 1: ماذا تريد لتناول الإفطار؟\\n  الشخص 2:...</td>\n",
              "      <td>الشخص 1 والشخص 2 يتحدثان عما يجب رؤيته اليوم.س...</td>\n",
              "    </tr>\n",
              "    <tr>\n",
              "      <th>1</th>\n",
              "      <td>743</td>\n",
              "      <td>الشخص 1: آسف!اعذرني!تلقيت رسالتك.\\n  الشخص 2: ...</td>\n",
              "      <td>لقد دهش الشخص 2 للحصول على رسالة تايلور التي ي...</td>\n",
              "    </tr>\n",
              "    <tr>\n",
              "      <th>2</th>\n",
              "      <td>281</td>\n",
              "      <td>إيلا: مرحبا هناك!كيف؟لم أسمع منك على مر العصور...</td>\n",
              "      <td>إيلا لديها علة في المعدة سيئة ، هي في ألم.يقتر...</td>\n",
              "    </tr>\n",
              "    <tr>\n",
              "      <th>3</th>\n",
              "      <td>790</td>\n",
              "      <td>لوكاس سالي: يرجى العثور على الدعوة الرسمية الم...</td>\n",
              "      <td>تمت دعوة كاثرين دوم من قبل لوكاس سالي لإجراء م...</td>\n",
              "    </tr>\n",
              "    <tr>\n",
              "      <th>4</th>\n",
              "      <td>293</td>\n",
              "      <td>الشخص 1: واو ، هناك الكثير من الفوانيس لتقديره...</td>\n",
              "      <td>الشخص 1 والشخص 2 يقدران الفوانيس.يسأل الشخص 1 ...</td>\n",
              "    </tr>\n",
              "  </tbody>\n",
              "</table>\n",
              "</div>\n",
              "    <div class=\"colab-df-buttons\">\n",
              "\n",
              "  <div class=\"colab-df-container\">\n",
              "    <button class=\"colab-df-convert\" onclick=\"convertToInteractive('df-80321814-36cf-4edd-95fd-14e2055d393e')\"\n",
              "            title=\"Convert this dataframe to an interactive table.\"\n",
              "            style=\"display:none;\">\n",
              "\n",
              "  <svg xmlns=\"http://www.w3.org/2000/svg\" height=\"24px\" viewBox=\"0 -960 960 960\">\n",
              "    <path d=\"M120-120v-720h720v720H120Zm60-500h600v-160H180v160Zm220 220h160v-160H400v160Zm0 220h160v-160H400v160ZM180-400h160v-160H180v160Zm440 0h160v-160H620v160ZM180-180h160v-160H180v160Zm440 0h160v-160H620v160Z\"/>\n",
              "  </svg>\n",
              "    </button>\n",
              "\n",
              "  <style>\n",
              "    .colab-df-container {\n",
              "      display:flex;\n",
              "      gap: 12px;\n",
              "    }\n",
              "\n",
              "    .colab-df-convert {\n",
              "      background-color: #E8F0FE;\n",
              "      border: none;\n",
              "      border-radius: 50%;\n",
              "      cursor: pointer;\n",
              "      display: none;\n",
              "      fill: #1967D2;\n",
              "      height: 32px;\n",
              "      padding: 0 0 0 0;\n",
              "      width: 32px;\n",
              "    }\n",
              "\n",
              "    .colab-df-convert:hover {\n",
              "      background-color: #E2EBFA;\n",
              "      box-shadow: 0px 1px 2px rgba(60, 64, 67, 0.3), 0px 1px 3px 1px rgba(60, 64, 67, 0.15);\n",
              "      fill: #174EA6;\n",
              "    }\n",
              "\n",
              "    .colab-df-buttons div {\n",
              "      margin-bottom: 4px;\n",
              "    }\n",
              "\n",
              "    [theme=dark] .colab-df-convert {\n",
              "      background-color: #3B4455;\n",
              "      fill: #D2E3FC;\n",
              "    }\n",
              "\n",
              "    [theme=dark] .colab-df-convert:hover {\n",
              "      background-color: #434B5C;\n",
              "      box-shadow: 0px 1px 3px 1px rgba(0, 0, 0, 0.15);\n",
              "      filter: drop-shadow(0px 1px 2px rgba(0, 0, 0, 0.3));\n",
              "      fill: #FFFFFF;\n",
              "    }\n",
              "  </style>\n",
              "\n",
              "    <script>\n",
              "      const buttonEl =\n",
              "        document.querySelector('#df-80321814-36cf-4edd-95fd-14e2055d393e button.colab-df-convert');\n",
              "      buttonEl.style.display =\n",
              "        google.colab.kernel.accessAllowed ? 'block' : 'none';\n",
              "\n",
              "      async function convertToInteractive(key) {\n",
              "        const element = document.querySelector('#df-80321814-36cf-4edd-95fd-14e2055d393e');\n",
              "        const dataTable =\n",
              "          await google.colab.kernel.invokeFunction('convertToInteractive',\n",
              "                                                    [key], {});\n",
              "        if (!dataTable) return;\n",
              "\n",
              "        const docLinkHtml = 'Like what you see? Visit the ' +\n",
              "          '<a target=\"_blank\" href=https://colab.research.google.com/notebooks/data_table.ipynb>data table notebook</a>'\n",
              "          + ' to learn more about interactive tables.';\n",
              "        element.innerHTML = '';\n",
              "        dataTable['output_type'] = 'display_data';\n",
              "        await google.colab.output.renderOutput(dataTable, element);\n",
              "        const docLink = document.createElement('div');\n",
              "        docLink.innerHTML = docLinkHtml;\n",
              "        element.appendChild(docLink);\n",
              "      }\n",
              "    </script>\n",
              "  </div>\n",
              "\n",
              "\n",
              "<div id=\"df-408d64f3-3282-43f7-b00a-cf82c940e3db\">\n",
              "  <button class=\"colab-df-quickchart\" onclick=\"quickchart('df-408d64f3-3282-43f7-b00a-cf82c940e3db')\"\n",
              "            title=\"Suggest charts\"\n",
              "            style=\"display:none;\">\n",
              "\n",
              "<svg xmlns=\"http://www.w3.org/2000/svg\" height=\"24px\"viewBox=\"0 0 24 24\"\n",
              "     width=\"24px\">\n",
              "    <g>\n",
              "        <path d=\"M19 3H5c-1.1 0-2 .9-2 2v14c0 1.1.9 2 2 2h14c1.1 0 2-.9 2-2V5c0-1.1-.9-2-2-2zM9 17H7v-7h2v7zm4 0h-2V7h2v10zm4 0h-2v-4h2v4z\"/>\n",
              "    </g>\n",
              "</svg>\n",
              "  </button>\n",
              "\n",
              "<style>\n",
              "  .colab-df-quickchart {\n",
              "      --bg-color: #E8F0FE;\n",
              "      --fill-color: #1967D2;\n",
              "      --hover-bg-color: #E2EBFA;\n",
              "      --hover-fill-color: #174EA6;\n",
              "      --disabled-fill-color: #AAA;\n",
              "      --disabled-bg-color: #DDD;\n",
              "  }\n",
              "\n",
              "  [theme=dark] .colab-df-quickchart {\n",
              "      --bg-color: #3B4455;\n",
              "      --fill-color: #D2E3FC;\n",
              "      --hover-bg-color: #434B5C;\n",
              "      --hover-fill-color: #FFFFFF;\n",
              "      --disabled-bg-color: #3B4455;\n",
              "      --disabled-fill-color: #666;\n",
              "  }\n",
              "\n",
              "  .colab-df-quickchart {\n",
              "    background-color: var(--bg-color);\n",
              "    border: none;\n",
              "    border-radius: 50%;\n",
              "    cursor: pointer;\n",
              "    display: none;\n",
              "    fill: var(--fill-color);\n",
              "    height: 32px;\n",
              "    padding: 0;\n",
              "    width: 32px;\n",
              "  }\n",
              "\n",
              "  .colab-df-quickchart:hover {\n",
              "    background-color: var(--hover-bg-color);\n",
              "    box-shadow: 0 1px 2px rgba(60, 64, 67, 0.3), 0 1px 3px 1px rgba(60, 64, 67, 0.15);\n",
              "    fill: var(--button-hover-fill-color);\n",
              "  }\n",
              "\n",
              "  .colab-df-quickchart-complete:disabled,\n",
              "  .colab-df-quickchart-complete:disabled:hover {\n",
              "    background-color: var(--disabled-bg-color);\n",
              "    fill: var(--disabled-fill-color);\n",
              "    box-shadow: none;\n",
              "  }\n",
              "\n",
              "  .colab-df-spinner {\n",
              "    border: 2px solid var(--fill-color);\n",
              "    border-color: transparent;\n",
              "    border-bottom-color: var(--fill-color);\n",
              "    animation:\n",
              "      spin 1s steps(1) infinite;\n",
              "  }\n",
              "\n",
              "  @keyframes spin {\n",
              "    0% {\n",
              "      border-color: transparent;\n",
              "      border-bottom-color: var(--fill-color);\n",
              "      border-left-color: var(--fill-color);\n",
              "    }\n",
              "    20% {\n",
              "      border-color: transparent;\n",
              "      border-left-color: var(--fill-color);\n",
              "      border-top-color: var(--fill-color);\n",
              "    }\n",
              "    30% {\n",
              "      border-color: transparent;\n",
              "      border-left-color: var(--fill-color);\n",
              "      border-top-color: var(--fill-color);\n",
              "      border-right-color: var(--fill-color);\n",
              "    }\n",
              "    40% {\n",
              "      border-color: transparent;\n",
              "      border-right-color: var(--fill-color);\n",
              "      border-top-color: var(--fill-color);\n",
              "    }\n",
              "    60% {\n",
              "      border-color: transparent;\n",
              "      border-right-color: var(--fill-color);\n",
              "    }\n",
              "    80% {\n",
              "      border-color: transparent;\n",
              "      border-right-color: var(--fill-color);\n",
              "      border-bottom-color: var(--fill-color);\n",
              "    }\n",
              "    90% {\n",
              "      border-color: transparent;\n",
              "      border-bottom-color: var(--fill-color);\n",
              "    }\n",
              "  }\n",
              "</style>\n",
              "\n",
              "  <script>\n",
              "    async function quickchart(key) {\n",
              "      const quickchartButtonEl =\n",
              "        document.querySelector('#' + key + ' button');\n",
              "      quickchartButtonEl.disabled = true;  // To prevent multiple clicks.\n",
              "      quickchartButtonEl.classList.add('colab-df-spinner');\n",
              "      try {\n",
              "        const charts = await google.colab.kernel.invokeFunction(\n",
              "            'suggestCharts', [key], {});\n",
              "      } catch (error) {\n",
              "        console.error('Error during call to suggestCharts:', error);\n",
              "      }\n",
              "      quickchartButtonEl.classList.remove('colab-df-spinner');\n",
              "      quickchartButtonEl.classList.add('colab-df-quickchart-complete');\n",
              "    }\n",
              "    (() => {\n",
              "      let quickchartButtonEl =\n",
              "        document.querySelector('#df-408d64f3-3282-43f7-b00a-cf82c940e3db button');\n",
              "      quickchartButtonEl.style.display =\n",
              "        google.colab.kernel.accessAllowed ? 'block' : 'none';\n",
              "    })();\n",
              "  </script>\n",
              "</div>\n",
              "\n",
              "    </div>\n",
              "  </div>\n"
            ],
            "application/vnd.google.colaboratory.intrinsic+json": {
              "type": "dataframe",
              "variable_name": "df",
              "summary": "{\n  \"name\": \"df\",\n  \"rows\": 800,\n  \"fields\": [\n    {\n      \"column\": \"Unnamed: 0\",\n      \"properties\": {\n        \"dtype\": \"number\",\n        \"std\": 289,\n        \"min\": 0,\n        \"max\": 999,\n        \"num_unique_values\": 800,\n        \"samples\": [\n          133,\n          73,\n          850\n        ],\n        \"semantic_type\": \"\",\n        \"description\": \"\"\n      }\n    },\n    {\n      \"column\": \"dialogue\",\n      \"properties\": {\n        \"dtype\": \"string\",\n        \"num_unique_values\": 797,\n        \"samples\": [\n          \"\\u0627\\u0644\\u0634\\u062e\\u0635 1: [\\u0637\\u0631\\u0642 \\u0639\\u0644\\u0649 \\u0627\\u0644\\u0628\\u0627\\u0628.] \\u062a\\u0639\\u0627\\u0644 \\u060c \\u0645\\u0646 \\u0641\\u0636\\u0644\\u0643.\\n  \\u0627\\u0644\\u0634\\u062e\\u0635 2: \\u0645\\u0631\\u062d\\u0628\\u0627 \\u060c \\u0643\\u064a\\u062a.\\u0623\\u064a\\u0646 \\u062c\\u064a\\u0646\\u061f\\u0623\\u0631\\u064a\\u062f\\u0647\\u0627 \\u0623\\u0646 \\u062a\\u0643\\u062a\\u0628 \\u0647\\u0630\\u0647 \\u0627\\u0644\\u0631\\u0633\\u0627\\u0644\\u0629 \\u0644\\u064a.\\n  \\u0627\\u0644\\u0634\\u062e\\u0635 1: \\u0623\\u062e\\u0634\\u0649 \\u0623\\u0646\\u0647\\u0627 \\u0644\\u0627 \\u062a\\u0633\\u062a\\u0637\\u064a\\u0639 \\u0630\\u0644\\u0643 \\u060c \\u062a\\u0648\\u0645.\\u0625\\u0646\\u0647\\u0627 \\u0644\\u0627 \\u062a\\u0639\\u0645\\u0644 \\u0627\\u0644\\u064a\\u0648\\u0645.\\n  \\u0627\\u0644\\u0634\\u062e\\u0635 2: \\u0623\\u0648\\u0647 \\u060c \\u0644\\u0645\\u0627\\u0630\\u0627\\u061f\\u0647\\u0644 \\u0647\\u064a \\u0645\\u0631\\u064a\\u0636\\u0629\\u061f\\n  \\u0627\\u0644\\u0634\\u062e\\u0635 1: \\u0644\\u0627.\\u0625\\u0646\\u0647\\u0627 \\u062a\\u062f\\u0631\\u0633 \\u0644\\u0627\\u0645\\u062a\\u062d\\u0627\\u0646.\\n  \\u0627\\u0644\\u0634\\u062e\\u0635 2: \\u0627\\u0645\\u062a\\u062d\\u0627\\u0646.\\u0647\\u0644 \\u0633\\u062a\\u0630\\u0647\\u0628 \\u0625\\u0644\\u0649 \\u0627\\u0644\\u0645\\u062f\\u0631\\u0633\\u0629\\u061f\\n  \\u0627\\u0644\\u0634\\u062e\\u0635 1: \\u0646\\u0639\\u0645 \\u060c \\u0647\\u064a.\\u0625\\u0646\\u0647\\u0627 \\u062a\\u062a\\u0639\\u0644\\u0645 \\u0627\\u0644\\u064a\\u0627\\u0628\\u0627\\u0646\\u064a\\u0629 \\u0641\\u064a \\u0627\\u0644\\u0645\\u062f\\u0631\\u0633\\u0629 \\u0627\\u0644\\u0644\\u064a\\u0644\\u064a\\u0629.\\n  \\u0627\\u0644\\u0634\\u062e\\u0635 2: \\u0623\\u0631\\u0649.\\u0647\\u0644 \\u0633\\u062a\\u0630\\u0647\\u0628 \\u0625\\u0644\\u0649 \\u0627\\u0644\\u0645\\u062f\\u0631\\u0633\\u0629 \\u0627\\u0644\\u0644\\u064a\\u0644\\u064a\\u0629 \\u0623\\u064a\\u0636\\u064b\\u0627\\u061f\\n  \\u0627\\u0644\\u0634\\u062e\\u0635 1: \\u0644\\u0627 \\u060c \\u0644\\u0633\\u062a \\u0643\\u0630\\u0644\\u0643 \\u060c \\u0644\\u064a\\u0633 \\u0647\\u0630\\u0627 \\u0627\\u0644\\u0639\\u0627\\u0645.\\u0644\\u0643\\u0646\\u0646\\u064a \\u0623\\u0641\\u0643\\u0631 \\u0641\\u064a \\u0623\\u062e\\u0630 \\u062f\\u0648\\u0631\\u0629 \\u0641\\u064a \\u0627\\u0644\\u0639\\u0627\\u0645 \\u0627\\u0644\\u0645\\u0642\\u0628\\u0644.\\n  \\u0627\\u0644\\u0634\\u062e\\u0635 2: \\u0647\\u0630\\u0647 \\u0641\\u0643\\u0631\\u0629 \\u062c\\u064a\\u062f\\u0629.\\u0647\\u0644 \\u0647\\u0649 \\u0645\\u0643\\u0644\\u0641\\u0629\\u061f\\n  \\u0627\\u0644\\u0634\\u062e\\u0635 1: \\u0644\\u0627 \\u060c \\u0644\\u064a\\u0633 \\u062c\\u062f\\u0627.\\u0639\\u0644\\u0649 \\u0623\\u064a \\u062d\\u0627\\u0644 \\u060c \\u0627\\u0644\\u0623\\u0645\\u0631 \\u064a\\u0633\\u062a\\u062d\\u0642 \\u0627\\u0644\\u0645\\u0627\\u0644.\",\n          \"\\u0647\\u0627\\u0631\\u0648\\u0646: \\u0647\\u0644 \\u062a\\u0631\\u064a\\u062f \\u0633\\u0645\\u0627\\u0639 \\u0645\\u0632\\u062d\\u0629\\u061f\\u061b \\u0635\\n \\u0641\\u064a\\u0644\\u064a\\u0628: \\u0644\\u0627 \\u060c \\u0644\\u0627 agaaaaain !!\\n \\u0647\\u0627\\u0631\\u0648\\u0646: \\u0647\\u0643\\u0630\\u0627 ...\\n \\u0641\\u064a\\u0644\\u064a\\u0628: \\u0642\\u0644\\u062a \\u0644\\u0627!\\n \\u0647\\u0627\\u0631\\u0648\\u0646: ooookay ....: <\\u0639\\u0644\\u0649 \\u0623\\u064a \\u062d\\u0627\\u0644 \\u060c \\u0645\\u0627 \\u0627\\u0644\\u0623\\u0645\\u0631\\u061f\\n \\u0641\\u064a\\u0644\\u064a\\u0628: \\u0644\\u0642\\u062f \\u0642\\u0636\\u064a\\u062a \\u064a\\u0648\\u0645 \\u0631\\u0647\\u064a\\u0628 \\u061b/\\n \\u0622\\u0631\\u0648\\u0646: cmon \\u060c \\u0628\\u0635\\u0642\\u0647\\u0627\\n \\u0641\\u064a\\u0644\\u064a\\u0628: \\u063a\\u0636\\u0628 \\u062f\\u064a\\u0632\\u064a \\u0645\\u0646\\u064a \\u060c \\u0644\\u0623\\u0646\\u0646\\u064a \\u0646\\u0633\\u064a\\u062a \\u0639\\u0634\\u0627\\u0621 \\u0627\\u0644\\u0630\\u0643\\u0631\\u0649 \\u0627\\u0644\\u0633\\u0646\\u0648\\u064a\\u0629 ...\\n \\u0647\\u0627\\u0631\\u0648\\u0646: \\u0644\\u0643\\u0646 \\u0644\\u0627 \\u064a\\u0632\\u0627\\u0644 \\u0628\\u0625\\u0645\\u0643\\u0627\\u0646\\u0643 \\u0627\\u0644\\u0630\\u0647\\u0627\\u0628 \\u060c \\u0623\\u0644\\u064a\\u0633 \\u0643\\u0630\\u0644\\u0643\\u061f\\n \\u0641\\u064a\\u0644\\u064a\\u0628: \\u0644\\u064a\\u0633 \\u0628\\u0627\\u0644\\u0636\\u0628\\u0637 ... \\u0643\\u0646\\u062a \\u0641\\u064a \\u0637\\u0631\\u064a\\u0642\\u064a \\u0625\\u0644\\u0649 \\u062d\\u0641\\u0644\\u0629 \\u0645\\u0639 \\u0623\\u0648\\u0644\\u0627\\u062f \\u0645\\u0646 \\u0627\\u0644\\u0639\\u0645\\u0644 \\u060c \\u0623\\u0631\\u062a\\u062f\\u064a \\u0645\\u0644\\u0627\\u0628\\u0633 \\u062f\\u062c\\u0627\\u062c o.o\\n \\u0647\\u0627\\u0631\\u0648\\u0646: \\u0647\\u0647\\u0647\\u0647\\u0647\\u0647\\u0647\\u0647\\u0647\\u0647\\u0647\\u0647\\u0647\\u0647\\u0647\\u0647\\u0647\\u0647\\u0647\\u0647\\u0647\\u0647\\u0647\\u0647\\u0647\\u0647\\u0647\\u0647\\u0647\\u0647\\u0647\\u0647\\u0647\\u0647\\u0647\\u0647\\u0647\\u0647\\u0647\\u0647\\u0647\\u0647\\n \\u0641\\u064a\\u0644\\u064a\\u0628: \\u0623\\u0648\\u0642\\u0641\\u0647 \\u060c \\u0625\\u0646\\u0647 \\u062c\\u0627\\u062f !!\\n \\u0647\\u0627\\u0631\\u0648\\u0646: \\u0644\\u0648\\u0648\\u0648\\u0644\\n \\u0641\\u064a\\u0644\\u064a\\u0628: \\u0642\\u0627\\u0644\\u062a \\u0625\\u0646\\u0647\\u0627 \\u062a\\u0631\\u064a\\u062f \\u0627\\u0644\\u0627\\u0646\\u0641\\u0635\\u0627\\u0644 \\u0645\\u0639\\u064a !!\\n \\u0622\\u0631\\u0648\\u0646: \\u0643\\u0645\\u0627 \\u0647\\u0648 \\u0627\\u0644\\u062d\\u0627\\u0644 \\u062f\\u0627\\u0626\\u0645\\u064b\\u0627 \\u060c \\u0633\\u0648\\u0641 \\u062a\\u0628\\u0631\\u062f \\u0642\\u0644\\u064a\\u0644\\u0627\\u064b \\u0648\\u0633\\u062a\\u0643\\u0648\\u0646 \\u0639\\u0644\\u0649 \\u0645\\u0627 \\u064a\\u0631\\u0627\\u0645 \\u060c \\u0633\\u062a\\u0631\\u0649.\\n \\u0641\\u064a\\u0644\\u064a\\u0628: \\u0646\\u0639\\u0645 \\u060c \\u0631\\u0628\\u0645\\u0627\",\n          \"\\u062c\\u0648\\u0646: \\u0645\\u0631\\u062d\\u0628\\u0627 \\u0639\\u0632\\u064a\\u0632\\u062a\\u064a \\u0643\\u064a\\u0641 \\u062d\\u0627\\u0644\\u0643 \\u0627\\u0644\\u0622\\u0646\\u061f\\n \\u0645\\u0627\\u0631\\u064a: \\u0644\\u0627 \\u062a\\u062e\\u062a\\u0644\\u0641 \\u0643\\u062b\\u064a\\u0631\\u064b\\u0627 ..\\n \\u062c\\u0648\\u0646: \\u0623\\u0646\\u0627 \\u0622\\u0633\\u0641 \\u062c\\u062f\\u064b\\u0627 \\u0644\\u0623\\u0646\\u0646\\u064a \\u0627\\u0636\\u0637\\u0631\\u0631\\u062a \\u0625\\u0644\\u0649 \\u062a\\u0631\\u0643\\u0643 \\u0641\\u064a \\u0647\\u0630\\u0647 \\u0627\\u0644\\u062d\\u0627\\u0644\\u0629\\u061f\\n \\u0645\\u0627\\u0631\\u064a: \\u0644\\u0627 \\u060c \\u0644\\u0627 \\u0628\\u0623\\u0633 \\u060c \\u0648\\u0623\\u0646\\u0627 \\u0623\\u0639\\u0644\\u0645 \\u0623\\u0646\\u0647\\u0627 \\u0643\\u0627\\u0646\\u062a \\u0639\\u0627\\u062c\\u0644\\u0629\\n \\u062c\\u0648\\u0646: \\u0647\\u0644 \\u0623\\u0643\\u0644\\u062a \\u0634\\u064a\\u0626\\u064b\\u0627 \\u0644\\u0627 \\u0645\\u0639\\u0646\\u0649 \\u0644\\u0647\\u061f\\n \\u0645\\u0627\\u0631\\u064a: \\u0644\\u0627 ...\\n \\u062c\\u0648\\u0646: \\u0625\\u0630\\u0646 \\u0645\\u0627 \\u0647\\u0648 \\u0633\\u0628\\u0628 \\u0627\\u0644\\u0631\\u0645\\u064a\\u061f\\n \\u0645\\u0627\\u0631\\u064a: \\u0644\\u0627 \\u0623\\u0639\\u0631\\u0641.\\n \\u062c\\u0648\\u0646: \\u062e\\u0630 \\u0645\\u0648\\u0639\\u062f\\u064b\\u0627 \\u0633\\u0623\\u0639\\u0648\\u062f \\u0628\\u062d\\u0644\\u0648\\u0644 \\u0627\\u0644\\u0633\\u0627\\u0639\\u0629 1 \\u0645\\u0633\\u0627\\u0621\\u064b \\u0648\\u0633\\u0648\\u0641 \\u0646\\u0630\\u0647\\u0628 \\u0645\\u0646\\n \\u0645\\u0627\\u0631\\u064a: \\u0644\\u0627 ... \\u0623\\u0639\\u062a\\u0642\\u062f \\u0623\\u0646\\u0647 \\u0634\\u064a\\u0621 \\u0622\\u062e\\u0631 ..\\n \\u062c\\u0648\\u0646: \\u0645\\u0627\\u0630\\u0627\\u061f\\u0647\\u0648 \\u0643\\u0644 \\u0634\\u064a\\u0621 \\u0637\\u064a\\u0628\\u061f\\n \\u0645\\u0627\\u0631\\u064a: \\u0646\\u0639\\u0645 .. \\u0641\\u0642\\u0637\\n \\u062c\\u0648\\u0646: \\u0641\\u0642\\u0637 \\u064a\\u0627 \\u0644\\u0647\\u0627 \\u0645\\u0646 \\u0637\\u0641\\u0644\\u061f\\u0644\\u0627 \\u0634\\u064a\\u0621 \\u062c\\u0627\\u062f \\u0635\\u062d\\u064a\\u062d\\u061f\\n \\u0645\\u0627\\u0631\\u064a: \\u0623\\u0648\\u0647 \\u0644\\u0627 ... \\u0623\\u0639\\u062a\\u0642\\u062f \\u0623\\u0646\\u0646\\u064a .. \\u0644\\u0627 \\u0623\\u0639\\u0631\\u0641 \\u0625\\u0630\\u0627 \\u0643\\u0627\\u0646 \\u064a\\u062c\\u0628 \\u0623\\u0646 \\u0623\\u062e\\u0628\\u0631\\u0643 \\u0647\\u0646\\u0627\\n \\u062c\\u0648\\u0646: \\u062a\\u0639\\u0627\\u0644 \\u0642\\u0644 \\u0644\\u064a .... \\u0623\\u0646\\u0627 \\u0642\\u0644\\u0642 \\u0644\\u0644\\u063a\\u0627\\u064a\\u0629\\n \\u0645\\u0627\\u0631\\u064a: \\u0623\\u0639\\u062a\\u0642\\u062f \\u0623\\u0646\\u0646\\u064a \\u062d\\u0627\\u0645\\u0644 ... \\u0644\\u0643\\u0646\\u0646\\u064a \\u0644\\u0633\\u062a \\u0645\\u062a\\u0623\\u0643\\u062f\\u064b\\u0627\\n \\u062c\\u0648\\u0646: \\u0645\\u0627\\u0630\\u0627 \\u061f\\u061f\\u0645\\u062b\\u0644 \\u0641\\u064a \\u0627\\u0644\\u0648\\u0627\\u0642\\u0639\\n \\u0645\\u0627\\u0631\\u064a: \\u0623\\u062e\\u0628\\u0631\\u062a\\u0643 \\u0623\\u0646\\u0646\\u064a \\u0644\\u0633\\u062a \\u0645\\u062a\\u0623\\u0643\\u062f\\u064b\\u0627 ..\\n \\u062c\\u0648\\u0646: \\u0623\\u0646\\u0627 \\u0642\\u0627\\u062f\\u0645 \\u0641\\u064a \\u063a\\u0636\\u0648\\u0646 \\u0646\\u0635\\u0641 \\u0633\\u0627\\u0639\\u0629 \\u0639\\u0644\\u0649 \\u0627\\u0633\\u062a\\u0639\\u062f\\u0627\\u062f \\u060c \\u0633\\u0646\\u0631\\u0649 \\u0627\\u0644\\u0637\\u0628\\u064a\\u0628.\\u0644\\u0627 \\u0623\\u0633\\u062a\\u0637\\u064a\\u0639 \\u0627\\u0644\\u0627\\u0646\\u062a\\u0638\\u0627\\u0631: \\u0627\\u0628\\u062a\\u0633\\u0627\\u0645\\u0629:\\n \\u0645\\u0627\\u0631\\u064a: \\u0644\\u0627 \\u062a\\u0643\\u0648\\u0646 \\u0645\\u062a\\u062d\\u0645\\u0633\\u064b\\u0627 \\u062c\\u062f\\u064b\\u0627 \\u064a\\u0645\\u0643\\u0646\\u0646\\u064a \\u0627\\u0644\\u062d\\u0635\\u0648\\u0644 \\u0639\\u0644\\u0649 \\u0634\\u0631\\u064a\\u0637 \\u0627\\u062e\\u062a\\u0628\\u0627\\u0631 \\u0648\\u0627\\u0644\\u062a\\u062d\\u0642\\u0642 ....\\n \\u062c\\u0648\\u0646: \\u0644\\u0627 \\u0623\\u0631\\u064a\\u062f \\u0623\\u0646 \\u064a\\u0639\\u0637\\u064a\\u0646\\u064a \\u0627\\u0644\\u0637\\u0628\\u064a\\u0628 \\u0623\\u0646 \\u064a\\u0639\\u0637\\u064a\\u0646\\u064a \\u0627\\u0644\\u0623\\u062e\\u0628\\u0627\\u0631 100 \\u066a.\\n \\u0645\\u0627\\u0631\\u064a: \\u0644\\u0648\\u0644 \\u0627\\u0644\\u062c\\u0646\\u0648\\u0646\\n \\u062c\\u0648\\u0646: \\u0646\\u0639\\u0645 \\u0623\\u0646\\u0627 \\u0645\\u0633\\u062a\\u0639\\u062f \\u0627\\u0644\\u0622\\u0646 ..\\n \\u0645\\u0627\\u0631\\u064a: \\u062d\\u0633\\u0646\\u064b\\u0627\"\n        ],\n        \"semantic_type\": \"\",\n        \"description\": \"\"\n      }\n    },\n    {\n      \"column\": \"summary\",\n      \"properties\": {\n        \"dtype\": \"string\",\n        \"num_unique_values\": 800,\n        \"samples\": [\n          \"\\u064a\\u0630\\u0647\\u0628 \\u063a\\u0631\\u064a\\u0633 \\u0648\\u0646\\u0627\\u062a\\u0627\\u0644\\u064a \\u0625\\u0644\\u0649 \\u0632\\u0648\\u0645\\u0628\\u0627 \\u0627\\u0644\\u064a\\u0648\\u0645 \\u0641\\u064a \\u0627\\u0644\\u0633\\u0627\\u0639\\u0629 5 \\u0645\\u0633\\u0627\\u0621\\u064b.\\u0633\\u062a\\u062c\\u0644\\u0628 \\u063a\\u0631\\u064a\\u0633 \\u0643\\u062a\\u0627\\u0628 \\u0646\\u0627\\u062a\\u0627\\u0644\\u064a.\\u0644\\u0642\\u062f \\u0623\\u0646\\u0647\\u064a\\u062a\\u0647\\u0627 \\u0644\\u064a\\u0644\\u0629 \\u0623\\u0645\\u0633.\",\n          \"\\u062a\\u062e\\u0628\\u0631 \\u0644\\u0648\\u0631\\u0627 \\u062a\\u064a\\u0645 \\u0623\\u0646\\u0647 \\u064a\\u062c\\u0628 \\u0639\\u0644\\u064a\\u0647\\u0645 \\u0627\\u0644\\u0628\\u062f\\u0621 \\u0641\\u064a \\u0631\\u0624\\u064a\\u0629 \\u0623\\u0634\\u062e\\u0627\\u0635 \\u0622\\u062e\\u0631\\u064a\\u0646 \\u0644\\u0623\\u0646 \\u062a\\u064a\\u0645 \\u062c\\u064a\\u062f \\u062c\\u062f\\u064b\\u0627 \\u0628\\u0627\\u0644\\u0646\\u0633\\u0628\\u0629 \\u0644\\u0647\\u0627 \\u060c \\u0644\\u0643\\u0646\\u0647\\u0627 \\u0633\\u062a\\u062c\\u0639\\u0644\\u0647 \\u064a\\u0635\\u0628 \\u0628\\u0623\\u0630\\u0649 \\u0641\\u0642\\u0637.\\u062f\\u0647\\u0634 \\u062a\\u064a\\u0645 \\u0648\\u064a\\u0631\\u064a\\u062f \\u0641\\u0631\\u0635\\u0629 \\u0623\\u062e\\u0631\\u0649 \\u060c \\u0644\\u0643\\u0646 \\u0644\\u0648\\u0631\\u0627 \\u0645\\u0635\\u0645\\u0645\\u0629 \\u0639\\u0644\\u0649 \\u0627\\u0644\\u0645\\u063a\\u0627\\u062f\\u0631\\u0629.\",\n          \"\\u0645\\u0627\\u0631\\u064a \\u062a\\u0639\\u062a\\u0642\\u062f \\u0623\\u0646\\u0647\\u0627 \\u062d\\u0627\\u0645\\u0644.\\u062c\\u0648\\u0646 \\u064a\\u0631\\u064a\\u062f \\u0623\\u0646 \\u064a\\u0623\\u062e\\u0630\\u0647\\u0627 \\u0625\\u0644\\u0649 \\u0627\\u0644\\u0637\\u0628\\u064a\\u0628 \\u0644\\u062a\\u0623\\u0643\\u064a\\u062f \\u0630\\u0644\\u0643.\"\n        ],\n        \"semantic_type\": \"\",\n        \"description\": \"\"\n      }\n    }\n  ]\n}"
            }
          },
          "metadata": {},
          "execution_count": 158
        }
      ]
    },
    {
      "cell_type": "code",
      "source": [
        "df.shape"
      ],
      "metadata": {
        "colab": {
          "base_uri": "https://localhost:8080/"
        },
        "id": "i3fUU_wxAEu0",
        "outputId": "8a2eb34f-40d7-49d5-915f-bb1c148073b5"
      },
      "id": "i3fUU_wxAEu0",
      "execution_count": 159,
      "outputs": [
        {
          "output_type": "execute_result",
          "data": {
            "text/plain": [
              "(800, 3)"
            ]
          },
          "metadata": {},
          "execution_count": 159
        }
      ]
    },
    {
      "cell_type": "code",
      "source": [
        "df['summary_length'] = df['summary'].str.len()\n",
        "df['dialogue_length'] = df['dialogue'].str.len()"
      ],
      "metadata": {
        "id": "UsPc1ZBJAGFE"
      },
      "id": "UsPc1ZBJAGFE",
      "execution_count": 160,
      "outputs": []
    },
    {
      "cell_type": "code",
      "source": [
        "df.head()"
      ],
      "metadata": {
        "colab": {
          "base_uri": "https://localhost:8080/",
          "height": 206
        },
        "id": "EdYyi9MCATzU",
        "outputId": "86dad167-2762-4a0d-8105-1c447c34fb1c"
      },
      "id": "EdYyi9MCATzU",
      "execution_count": 161,
      "outputs": [
        {
          "output_type": "execute_result",
          "data": {
            "text/plain": [
              "   Unnamed: 0                                           dialogue  \\\n",
              "0         131  الشخص 1: ماذا تريد لتناول الإفطار؟\\n  الشخص 2:...   \n",
              "1         743  الشخص 1: آسف!اعذرني!تلقيت رسالتك.\\n  الشخص 2: ...   \n",
              "2         281  إيلا: مرحبا هناك!كيف؟لم أسمع منك على مر العصور...   \n",
              "3         790  لوكاس سالي: يرجى العثور على الدعوة الرسمية الم...   \n",
              "4         293  الشخص 1: واو ، هناك الكثير من الفوانيس لتقديره...   \n",
              "\n",
              "                                             summary  summary_length  \\\n",
              "0  الشخص 1 والشخص 2 يتحدثان عما يجب رؤيته اليوم.س...              97   \n",
              "1  لقد دهش الشخص 2 للحصول على رسالة تايلور التي ي...             144   \n",
              "2  إيلا لديها علة في المعدة سيئة ، هي في ألم.يقتر...             167   \n",
              "3  تمت دعوة كاثرين دوم من قبل لوكاس سالي لإجراء م...             110   \n",
              "4  الشخص 1 والشخص 2 يقدران الفوانيس.يسأل الشخص 1 ...             108   \n",
              "\n",
              "   dialogue_length  \n",
              "0              731  \n",
              "1              359  \n",
              "2             1589  \n",
              "3              344  \n",
              "4              950  "
            ],
            "text/html": [
              "\n",
              "  <div id=\"df-366219ba-e1e9-4203-94c8-98397213353d\" class=\"colab-df-container\">\n",
              "    <div>\n",
              "<style scoped>\n",
              "    .dataframe tbody tr th:only-of-type {\n",
              "        vertical-align: middle;\n",
              "    }\n",
              "\n",
              "    .dataframe tbody tr th {\n",
              "        vertical-align: top;\n",
              "    }\n",
              "\n",
              "    .dataframe thead th {\n",
              "        text-align: right;\n",
              "    }\n",
              "</style>\n",
              "<table border=\"1\" class=\"dataframe\">\n",
              "  <thead>\n",
              "    <tr style=\"text-align: right;\">\n",
              "      <th></th>\n",
              "      <th>Unnamed: 0</th>\n",
              "      <th>dialogue</th>\n",
              "      <th>summary</th>\n",
              "      <th>summary_length</th>\n",
              "      <th>dialogue_length</th>\n",
              "    </tr>\n",
              "  </thead>\n",
              "  <tbody>\n",
              "    <tr>\n",
              "      <th>0</th>\n",
              "      <td>131</td>\n",
              "      <td>الشخص 1: ماذا تريد لتناول الإفطار؟\\n  الشخص 2:...</td>\n",
              "      <td>الشخص 1 والشخص 2 يتحدثان عما يجب رؤيته اليوم.س...</td>\n",
              "      <td>97</td>\n",
              "      <td>731</td>\n",
              "    </tr>\n",
              "    <tr>\n",
              "      <th>1</th>\n",
              "      <td>743</td>\n",
              "      <td>الشخص 1: آسف!اعذرني!تلقيت رسالتك.\\n  الشخص 2: ...</td>\n",
              "      <td>لقد دهش الشخص 2 للحصول على رسالة تايلور التي ي...</td>\n",
              "      <td>144</td>\n",
              "      <td>359</td>\n",
              "    </tr>\n",
              "    <tr>\n",
              "      <th>2</th>\n",
              "      <td>281</td>\n",
              "      <td>إيلا: مرحبا هناك!كيف؟لم أسمع منك على مر العصور...</td>\n",
              "      <td>إيلا لديها علة في المعدة سيئة ، هي في ألم.يقتر...</td>\n",
              "      <td>167</td>\n",
              "      <td>1589</td>\n",
              "    </tr>\n",
              "    <tr>\n",
              "      <th>3</th>\n",
              "      <td>790</td>\n",
              "      <td>لوكاس سالي: يرجى العثور على الدعوة الرسمية الم...</td>\n",
              "      <td>تمت دعوة كاثرين دوم من قبل لوكاس سالي لإجراء م...</td>\n",
              "      <td>110</td>\n",
              "      <td>344</td>\n",
              "    </tr>\n",
              "    <tr>\n",
              "      <th>4</th>\n",
              "      <td>293</td>\n",
              "      <td>الشخص 1: واو ، هناك الكثير من الفوانيس لتقديره...</td>\n",
              "      <td>الشخص 1 والشخص 2 يقدران الفوانيس.يسأل الشخص 1 ...</td>\n",
              "      <td>108</td>\n",
              "      <td>950</td>\n",
              "    </tr>\n",
              "  </tbody>\n",
              "</table>\n",
              "</div>\n",
              "    <div class=\"colab-df-buttons\">\n",
              "\n",
              "  <div class=\"colab-df-container\">\n",
              "    <button class=\"colab-df-convert\" onclick=\"convertToInteractive('df-366219ba-e1e9-4203-94c8-98397213353d')\"\n",
              "            title=\"Convert this dataframe to an interactive table.\"\n",
              "            style=\"display:none;\">\n",
              "\n",
              "  <svg xmlns=\"http://www.w3.org/2000/svg\" height=\"24px\" viewBox=\"0 -960 960 960\">\n",
              "    <path d=\"M120-120v-720h720v720H120Zm60-500h600v-160H180v160Zm220 220h160v-160H400v160Zm0 220h160v-160H400v160ZM180-400h160v-160H180v160Zm440 0h160v-160H620v160ZM180-180h160v-160H180v160Zm440 0h160v-160H620v160Z\"/>\n",
              "  </svg>\n",
              "    </button>\n",
              "\n",
              "  <style>\n",
              "    .colab-df-container {\n",
              "      display:flex;\n",
              "      gap: 12px;\n",
              "    }\n",
              "\n",
              "    .colab-df-convert {\n",
              "      background-color: #E8F0FE;\n",
              "      border: none;\n",
              "      border-radius: 50%;\n",
              "      cursor: pointer;\n",
              "      display: none;\n",
              "      fill: #1967D2;\n",
              "      height: 32px;\n",
              "      padding: 0 0 0 0;\n",
              "      width: 32px;\n",
              "    }\n",
              "\n",
              "    .colab-df-convert:hover {\n",
              "      background-color: #E2EBFA;\n",
              "      box-shadow: 0px 1px 2px rgba(60, 64, 67, 0.3), 0px 1px 3px 1px rgba(60, 64, 67, 0.15);\n",
              "      fill: #174EA6;\n",
              "    }\n",
              "\n",
              "    .colab-df-buttons div {\n",
              "      margin-bottom: 4px;\n",
              "    }\n",
              "\n",
              "    [theme=dark] .colab-df-convert {\n",
              "      background-color: #3B4455;\n",
              "      fill: #D2E3FC;\n",
              "    }\n",
              "\n",
              "    [theme=dark] .colab-df-convert:hover {\n",
              "      background-color: #434B5C;\n",
              "      box-shadow: 0px 1px 3px 1px rgba(0, 0, 0, 0.15);\n",
              "      filter: drop-shadow(0px 1px 2px rgba(0, 0, 0, 0.3));\n",
              "      fill: #FFFFFF;\n",
              "    }\n",
              "  </style>\n",
              "\n",
              "    <script>\n",
              "      const buttonEl =\n",
              "        document.querySelector('#df-366219ba-e1e9-4203-94c8-98397213353d button.colab-df-convert');\n",
              "      buttonEl.style.display =\n",
              "        google.colab.kernel.accessAllowed ? 'block' : 'none';\n",
              "\n",
              "      async function convertToInteractive(key) {\n",
              "        const element = document.querySelector('#df-366219ba-e1e9-4203-94c8-98397213353d');\n",
              "        const dataTable =\n",
              "          await google.colab.kernel.invokeFunction('convertToInteractive',\n",
              "                                                    [key], {});\n",
              "        if (!dataTable) return;\n",
              "\n",
              "        const docLinkHtml = 'Like what you see? Visit the ' +\n",
              "          '<a target=\"_blank\" href=https://colab.research.google.com/notebooks/data_table.ipynb>data table notebook</a>'\n",
              "          + ' to learn more about interactive tables.';\n",
              "        element.innerHTML = '';\n",
              "        dataTable['output_type'] = 'display_data';\n",
              "        await google.colab.output.renderOutput(dataTable, element);\n",
              "        const docLink = document.createElement('div');\n",
              "        docLink.innerHTML = docLinkHtml;\n",
              "        element.appendChild(docLink);\n",
              "      }\n",
              "    </script>\n",
              "  </div>\n",
              "\n",
              "\n",
              "<div id=\"df-9913cf70-ea34-4dfa-9a24-c890eda2784d\">\n",
              "  <button class=\"colab-df-quickchart\" onclick=\"quickchart('df-9913cf70-ea34-4dfa-9a24-c890eda2784d')\"\n",
              "            title=\"Suggest charts\"\n",
              "            style=\"display:none;\">\n",
              "\n",
              "<svg xmlns=\"http://www.w3.org/2000/svg\" height=\"24px\"viewBox=\"0 0 24 24\"\n",
              "     width=\"24px\">\n",
              "    <g>\n",
              "        <path d=\"M19 3H5c-1.1 0-2 .9-2 2v14c0 1.1.9 2 2 2h14c1.1 0 2-.9 2-2V5c0-1.1-.9-2-2-2zM9 17H7v-7h2v7zm4 0h-2V7h2v10zm4 0h-2v-4h2v4z\"/>\n",
              "    </g>\n",
              "</svg>\n",
              "  </button>\n",
              "\n",
              "<style>\n",
              "  .colab-df-quickchart {\n",
              "      --bg-color: #E8F0FE;\n",
              "      --fill-color: #1967D2;\n",
              "      --hover-bg-color: #E2EBFA;\n",
              "      --hover-fill-color: #174EA6;\n",
              "      --disabled-fill-color: #AAA;\n",
              "      --disabled-bg-color: #DDD;\n",
              "  }\n",
              "\n",
              "  [theme=dark] .colab-df-quickchart {\n",
              "      --bg-color: #3B4455;\n",
              "      --fill-color: #D2E3FC;\n",
              "      --hover-bg-color: #434B5C;\n",
              "      --hover-fill-color: #FFFFFF;\n",
              "      --disabled-bg-color: #3B4455;\n",
              "      --disabled-fill-color: #666;\n",
              "  }\n",
              "\n",
              "  .colab-df-quickchart {\n",
              "    background-color: var(--bg-color);\n",
              "    border: none;\n",
              "    border-radius: 50%;\n",
              "    cursor: pointer;\n",
              "    display: none;\n",
              "    fill: var(--fill-color);\n",
              "    height: 32px;\n",
              "    padding: 0;\n",
              "    width: 32px;\n",
              "  }\n",
              "\n",
              "  .colab-df-quickchart:hover {\n",
              "    background-color: var(--hover-bg-color);\n",
              "    box-shadow: 0 1px 2px rgba(60, 64, 67, 0.3), 0 1px 3px 1px rgba(60, 64, 67, 0.15);\n",
              "    fill: var(--button-hover-fill-color);\n",
              "  }\n",
              "\n",
              "  .colab-df-quickchart-complete:disabled,\n",
              "  .colab-df-quickchart-complete:disabled:hover {\n",
              "    background-color: var(--disabled-bg-color);\n",
              "    fill: var(--disabled-fill-color);\n",
              "    box-shadow: none;\n",
              "  }\n",
              "\n",
              "  .colab-df-spinner {\n",
              "    border: 2px solid var(--fill-color);\n",
              "    border-color: transparent;\n",
              "    border-bottom-color: var(--fill-color);\n",
              "    animation:\n",
              "      spin 1s steps(1) infinite;\n",
              "  }\n",
              "\n",
              "  @keyframes spin {\n",
              "    0% {\n",
              "      border-color: transparent;\n",
              "      border-bottom-color: var(--fill-color);\n",
              "      border-left-color: var(--fill-color);\n",
              "    }\n",
              "    20% {\n",
              "      border-color: transparent;\n",
              "      border-left-color: var(--fill-color);\n",
              "      border-top-color: var(--fill-color);\n",
              "    }\n",
              "    30% {\n",
              "      border-color: transparent;\n",
              "      border-left-color: var(--fill-color);\n",
              "      border-top-color: var(--fill-color);\n",
              "      border-right-color: var(--fill-color);\n",
              "    }\n",
              "    40% {\n",
              "      border-color: transparent;\n",
              "      border-right-color: var(--fill-color);\n",
              "      border-top-color: var(--fill-color);\n",
              "    }\n",
              "    60% {\n",
              "      border-color: transparent;\n",
              "      border-right-color: var(--fill-color);\n",
              "    }\n",
              "    80% {\n",
              "      border-color: transparent;\n",
              "      border-right-color: var(--fill-color);\n",
              "      border-bottom-color: var(--fill-color);\n",
              "    }\n",
              "    90% {\n",
              "      border-color: transparent;\n",
              "      border-bottom-color: var(--fill-color);\n",
              "    }\n",
              "  }\n",
              "</style>\n",
              "\n",
              "  <script>\n",
              "    async function quickchart(key) {\n",
              "      const quickchartButtonEl =\n",
              "        document.querySelector('#' + key + ' button');\n",
              "      quickchartButtonEl.disabled = true;  // To prevent multiple clicks.\n",
              "      quickchartButtonEl.classList.add('colab-df-spinner');\n",
              "      try {\n",
              "        const charts = await google.colab.kernel.invokeFunction(\n",
              "            'suggestCharts', [key], {});\n",
              "      } catch (error) {\n",
              "        console.error('Error during call to suggestCharts:', error);\n",
              "      }\n",
              "      quickchartButtonEl.classList.remove('colab-df-spinner');\n",
              "      quickchartButtonEl.classList.add('colab-df-quickchart-complete');\n",
              "    }\n",
              "    (() => {\n",
              "      let quickchartButtonEl =\n",
              "        document.querySelector('#df-9913cf70-ea34-4dfa-9a24-c890eda2784d button');\n",
              "      quickchartButtonEl.style.display =\n",
              "        google.colab.kernel.accessAllowed ? 'block' : 'none';\n",
              "    })();\n",
              "  </script>\n",
              "</div>\n",
              "\n",
              "    </div>\n",
              "  </div>\n"
            ],
            "application/vnd.google.colaboratory.intrinsic+json": {
              "type": "dataframe",
              "variable_name": "df",
              "summary": "{\n  \"name\": \"df\",\n  \"rows\": 800,\n  \"fields\": [\n    {\n      \"column\": \"Unnamed: 0\",\n      \"properties\": {\n        \"dtype\": \"number\",\n        \"std\": 289,\n        \"min\": 0,\n        \"max\": 999,\n        \"num_unique_values\": 800,\n        \"samples\": [\n          133,\n          73,\n          850\n        ],\n        \"semantic_type\": \"\",\n        \"description\": \"\"\n      }\n    },\n    {\n      \"column\": \"dialogue\",\n      \"properties\": {\n        \"dtype\": \"string\",\n        \"num_unique_values\": 797,\n        \"samples\": [\n          \"\\u0627\\u0644\\u0634\\u062e\\u0635 1: [\\u0637\\u0631\\u0642 \\u0639\\u0644\\u0649 \\u0627\\u0644\\u0628\\u0627\\u0628.] \\u062a\\u0639\\u0627\\u0644 \\u060c \\u0645\\u0646 \\u0641\\u0636\\u0644\\u0643.\\n  \\u0627\\u0644\\u0634\\u062e\\u0635 2: \\u0645\\u0631\\u062d\\u0628\\u0627 \\u060c \\u0643\\u064a\\u062a.\\u0623\\u064a\\u0646 \\u062c\\u064a\\u0646\\u061f\\u0623\\u0631\\u064a\\u062f\\u0647\\u0627 \\u0623\\u0646 \\u062a\\u0643\\u062a\\u0628 \\u0647\\u0630\\u0647 \\u0627\\u0644\\u0631\\u0633\\u0627\\u0644\\u0629 \\u0644\\u064a.\\n  \\u0627\\u0644\\u0634\\u062e\\u0635 1: \\u0623\\u062e\\u0634\\u0649 \\u0623\\u0646\\u0647\\u0627 \\u0644\\u0627 \\u062a\\u0633\\u062a\\u0637\\u064a\\u0639 \\u0630\\u0644\\u0643 \\u060c \\u062a\\u0648\\u0645.\\u0625\\u0646\\u0647\\u0627 \\u0644\\u0627 \\u062a\\u0639\\u0645\\u0644 \\u0627\\u0644\\u064a\\u0648\\u0645.\\n  \\u0627\\u0644\\u0634\\u062e\\u0635 2: \\u0623\\u0648\\u0647 \\u060c \\u0644\\u0645\\u0627\\u0630\\u0627\\u061f\\u0647\\u0644 \\u0647\\u064a \\u0645\\u0631\\u064a\\u0636\\u0629\\u061f\\n  \\u0627\\u0644\\u0634\\u062e\\u0635 1: \\u0644\\u0627.\\u0625\\u0646\\u0647\\u0627 \\u062a\\u062f\\u0631\\u0633 \\u0644\\u0627\\u0645\\u062a\\u062d\\u0627\\u0646.\\n  \\u0627\\u0644\\u0634\\u062e\\u0635 2: \\u0627\\u0645\\u062a\\u062d\\u0627\\u0646.\\u0647\\u0644 \\u0633\\u062a\\u0630\\u0647\\u0628 \\u0625\\u0644\\u0649 \\u0627\\u0644\\u0645\\u062f\\u0631\\u0633\\u0629\\u061f\\n  \\u0627\\u0644\\u0634\\u062e\\u0635 1: \\u0646\\u0639\\u0645 \\u060c \\u0647\\u064a.\\u0625\\u0646\\u0647\\u0627 \\u062a\\u062a\\u0639\\u0644\\u0645 \\u0627\\u0644\\u064a\\u0627\\u0628\\u0627\\u0646\\u064a\\u0629 \\u0641\\u064a \\u0627\\u0644\\u0645\\u062f\\u0631\\u0633\\u0629 \\u0627\\u0644\\u0644\\u064a\\u0644\\u064a\\u0629.\\n  \\u0627\\u0644\\u0634\\u062e\\u0635 2: \\u0623\\u0631\\u0649.\\u0647\\u0644 \\u0633\\u062a\\u0630\\u0647\\u0628 \\u0625\\u0644\\u0649 \\u0627\\u0644\\u0645\\u062f\\u0631\\u0633\\u0629 \\u0627\\u0644\\u0644\\u064a\\u0644\\u064a\\u0629 \\u0623\\u064a\\u0636\\u064b\\u0627\\u061f\\n  \\u0627\\u0644\\u0634\\u062e\\u0635 1: \\u0644\\u0627 \\u060c \\u0644\\u0633\\u062a \\u0643\\u0630\\u0644\\u0643 \\u060c \\u0644\\u064a\\u0633 \\u0647\\u0630\\u0627 \\u0627\\u0644\\u0639\\u0627\\u0645.\\u0644\\u0643\\u0646\\u0646\\u064a \\u0623\\u0641\\u0643\\u0631 \\u0641\\u064a \\u0623\\u062e\\u0630 \\u062f\\u0648\\u0631\\u0629 \\u0641\\u064a \\u0627\\u0644\\u0639\\u0627\\u0645 \\u0627\\u0644\\u0645\\u0642\\u0628\\u0644.\\n  \\u0627\\u0644\\u0634\\u062e\\u0635 2: \\u0647\\u0630\\u0647 \\u0641\\u0643\\u0631\\u0629 \\u062c\\u064a\\u062f\\u0629.\\u0647\\u0644 \\u0647\\u0649 \\u0645\\u0643\\u0644\\u0641\\u0629\\u061f\\n  \\u0627\\u0644\\u0634\\u062e\\u0635 1: \\u0644\\u0627 \\u060c \\u0644\\u064a\\u0633 \\u062c\\u062f\\u0627.\\u0639\\u0644\\u0649 \\u0623\\u064a \\u062d\\u0627\\u0644 \\u060c \\u0627\\u0644\\u0623\\u0645\\u0631 \\u064a\\u0633\\u062a\\u062d\\u0642 \\u0627\\u0644\\u0645\\u0627\\u0644.\",\n          \"\\u0647\\u0627\\u0631\\u0648\\u0646: \\u0647\\u0644 \\u062a\\u0631\\u064a\\u062f \\u0633\\u0645\\u0627\\u0639 \\u0645\\u0632\\u062d\\u0629\\u061f\\u061b \\u0635\\n \\u0641\\u064a\\u0644\\u064a\\u0628: \\u0644\\u0627 \\u060c \\u0644\\u0627 agaaaaain !!\\n \\u0647\\u0627\\u0631\\u0648\\u0646: \\u0647\\u0643\\u0630\\u0627 ...\\n \\u0641\\u064a\\u0644\\u064a\\u0628: \\u0642\\u0644\\u062a \\u0644\\u0627!\\n \\u0647\\u0627\\u0631\\u0648\\u0646: ooookay ....: <\\u0639\\u0644\\u0649 \\u0623\\u064a \\u062d\\u0627\\u0644 \\u060c \\u0645\\u0627 \\u0627\\u0644\\u0623\\u0645\\u0631\\u061f\\n \\u0641\\u064a\\u0644\\u064a\\u0628: \\u0644\\u0642\\u062f \\u0642\\u0636\\u064a\\u062a \\u064a\\u0648\\u0645 \\u0631\\u0647\\u064a\\u0628 \\u061b/\\n \\u0622\\u0631\\u0648\\u0646: cmon \\u060c \\u0628\\u0635\\u0642\\u0647\\u0627\\n \\u0641\\u064a\\u0644\\u064a\\u0628: \\u063a\\u0636\\u0628 \\u062f\\u064a\\u0632\\u064a \\u0645\\u0646\\u064a \\u060c \\u0644\\u0623\\u0646\\u0646\\u064a \\u0646\\u0633\\u064a\\u062a \\u0639\\u0634\\u0627\\u0621 \\u0627\\u0644\\u0630\\u0643\\u0631\\u0649 \\u0627\\u0644\\u0633\\u0646\\u0648\\u064a\\u0629 ...\\n \\u0647\\u0627\\u0631\\u0648\\u0646: \\u0644\\u0643\\u0646 \\u0644\\u0627 \\u064a\\u0632\\u0627\\u0644 \\u0628\\u0625\\u0645\\u0643\\u0627\\u0646\\u0643 \\u0627\\u0644\\u0630\\u0647\\u0627\\u0628 \\u060c \\u0623\\u0644\\u064a\\u0633 \\u0643\\u0630\\u0644\\u0643\\u061f\\n \\u0641\\u064a\\u0644\\u064a\\u0628: \\u0644\\u064a\\u0633 \\u0628\\u0627\\u0644\\u0636\\u0628\\u0637 ... \\u0643\\u0646\\u062a \\u0641\\u064a \\u0637\\u0631\\u064a\\u0642\\u064a \\u0625\\u0644\\u0649 \\u062d\\u0641\\u0644\\u0629 \\u0645\\u0639 \\u0623\\u0648\\u0644\\u0627\\u062f \\u0645\\u0646 \\u0627\\u0644\\u0639\\u0645\\u0644 \\u060c \\u0623\\u0631\\u062a\\u062f\\u064a \\u0645\\u0644\\u0627\\u0628\\u0633 \\u062f\\u062c\\u0627\\u062c o.o\\n \\u0647\\u0627\\u0631\\u0648\\u0646: \\u0647\\u0647\\u0647\\u0647\\u0647\\u0647\\u0647\\u0647\\u0647\\u0647\\u0647\\u0647\\u0647\\u0647\\u0647\\u0647\\u0647\\u0647\\u0647\\u0647\\u0647\\u0647\\u0647\\u0647\\u0647\\u0647\\u0647\\u0647\\u0647\\u0647\\u0647\\u0647\\u0647\\u0647\\u0647\\u0647\\u0647\\u0647\\u0647\\u0647\\u0647\\u0647\\n \\u0641\\u064a\\u0644\\u064a\\u0628: \\u0623\\u0648\\u0642\\u0641\\u0647 \\u060c \\u0625\\u0646\\u0647 \\u062c\\u0627\\u062f !!\\n \\u0647\\u0627\\u0631\\u0648\\u0646: \\u0644\\u0648\\u0648\\u0648\\u0644\\n \\u0641\\u064a\\u0644\\u064a\\u0628: \\u0642\\u0627\\u0644\\u062a \\u0625\\u0646\\u0647\\u0627 \\u062a\\u0631\\u064a\\u062f \\u0627\\u0644\\u0627\\u0646\\u0641\\u0635\\u0627\\u0644 \\u0645\\u0639\\u064a !!\\n \\u0622\\u0631\\u0648\\u0646: \\u0643\\u0645\\u0627 \\u0647\\u0648 \\u0627\\u0644\\u062d\\u0627\\u0644 \\u062f\\u0627\\u0626\\u0645\\u064b\\u0627 \\u060c \\u0633\\u0648\\u0641 \\u062a\\u0628\\u0631\\u062f \\u0642\\u0644\\u064a\\u0644\\u0627\\u064b \\u0648\\u0633\\u062a\\u0643\\u0648\\u0646 \\u0639\\u0644\\u0649 \\u0645\\u0627 \\u064a\\u0631\\u0627\\u0645 \\u060c \\u0633\\u062a\\u0631\\u0649.\\n \\u0641\\u064a\\u0644\\u064a\\u0628: \\u0646\\u0639\\u0645 \\u060c \\u0631\\u0628\\u0645\\u0627\",\n          \"\\u062c\\u0648\\u0646: \\u0645\\u0631\\u062d\\u0628\\u0627 \\u0639\\u0632\\u064a\\u0632\\u062a\\u064a \\u0643\\u064a\\u0641 \\u062d\\u0627\\u0644\\u0643 \\u0627\\u0644\\u0622\\u0646\\u061f\\n \\u0645\\u0627\\u0631\\u064a: \\u0644\\u0627 \\u062a\\u062e\\u062a\\u0644\\u0641 \\u0643\\u062b\\u064a\\u0631\\u064b\\u0627 ..\\n \\u062c\\u0648\\u0646: \\u0623\\u0646\\u0627 \\u0622\\u0633\\u0641 \\u062c\\u062f\\u064b\\u0627 \\u0644\\u0623\\u0646\\u0646\\u064a \\u0627\\u0636\\u0637\\u0631\\u0631\\u062a \\u0625\\u0644\\u0649 \\u062a\\u0631\\u0643\\u0643 \\u0641\\u064a \\u0647\\u0630\\u0647 \\u0627\\u0644\\u062d\\u0627\\u0644\\u0629\\u061f\\n \\u0645\\u0627\\u0631\\u064a: \\u0644\\u0627 \\u060c \\u0644\\u0627 \\u0628\\u0623\\u0633 \\u060c \\u0648\\u0623\\u0646\\u0627 \\u0623\\u0639\\u0644\\u0645 \\u0623\\u0646\\u0647\\u0627 \\u0643\\u0627\\u0646\\u062a \\u0639\\u0627\\u062c\\u0644\\u0629\\n \\u062c\\u0648\\u0646: \\u0647\\u0644 \\u0623\\u0643\\u0644\\u062a \\u0634\\u064a\\u0626\\u064b\\u0627 \\u0644\\u0627 \\u0645\\u0639\\u0646\\u0649 \\u0644\\u0647\\u061f\\n \\u0645\\u0627\\u0631\\u064a: \\u0644\\u0627 ...\\n \\u062c\\u0648\\u0646: \\u0625\\u0630\\u0646 \\u0645\\u0627 \\u0647\\u0648 \\u0633\\u0628\\u0628 \\u0627\\u0644\\u0631\\u0645\\u064a\\u061f\\n \\u0645\\u0627\\u0631\\u064a: \\u0644\\u0627 \\u0623\\u0639\\u0631\\u0641.\\n \\u062c\\u0648\\u0646: \\u062e\\u0630 \\u0645\\u0648\\u0639\\u062f\\u064b\\u0627 \\u0633\\u0623\\u0639\\u0648\\u062f \\u0628\\u062d\\u0644\\u0648\\u0644 \\u0627\\u0644\\u0633\\u0627\\u0639\\u0629 1 \\u0645\\u0633\\u0627\\u0621\\u064b \\u0648\\u0633\\u0648\\u0641 \\u0646\\u0630\\u0647\\u0628 \\u0645\\u0646\\n \\u0645\\u0627\\u0631\\u064a: \\u0644\\u0627 ... \\u0623\\u0639\\u062a\\u0642\\u062f \\u0623\\u0646\\u0647 \\u0634\\u064a\\u0621 \\u0622\\u062e\\u0631 ..\\n \\u062c\\u0648\\u0646: \\u0645\\u0627\\u0630\\u0627\\u061f\\u0647\\u0648 \\u0643\\u0644 \\u0634\\u064a\\u0621 \\u0637\\u064a\\u0628\\u061f\\n \\u0645\\u0627\\u0631\\u064a: \\u0646\\u0639\\u0645 .. \\u0641\\u0642\\u0637\\n \\u062c\\u0648\\u0646: \\u0641\\u0642\\u0637 \\u064a\\u0627 \\u0644\\u0647\\u0627 \\u0645\\u0646 \\u0637\\u0641\\u0644\\u061f\\u0644\\u0627 \\u0634\\u064a\\u0621 \\u062c\\u0627\\u062f \\u0635\\u062d\\u064a\\u062d\\u061f\\n \\u0645\\u0627\\u0631\\u064a: \\u0623\\u0648\\u0647 \\u0644\\u0627 ... \\u0623\\u0639\\u062a\\u0642\\u062f \\u0623\\u0646\\u0646\\u064a .. \\u0644\\u0627 \\u0623\\u0639\\u0631\\u0641 \\u0625\\u0630\\u0627 \\u0643\\u0627\\u0646 \\u064a\\u062c\\u0628 \\u0623\\u0646 \\u0623\\u062e\\u0628\\u0631\\u0643 \\u0647\\u0646\\u0627\\n \\u062c\\u0648\\u0646: \\u062a\\u0639\\u0627\\u0644 \\u0642\\u0644 \\u0644\\u064a .... \\u0623\\u0646\\u0627 \\u0642\\u0644\\u0642 \\u0644\\u0644\\u063a\\u0627\\u064a\\u0629\\n \\u0645\\u0627\\u0631\\u064a: \\u0623\\u0639\\u062a\\u0642\\u062f \\u0623\\u0646\\u0646\\u064a \\u062d\\u0627\\u0645\\u0644 ... \\u0644\\u0643\\u0646\\u0646\\u064a \\u0644\\u0633\\u062a \\u0645\\u062a\\u0623\\u0643\\u062f\\u064b\\u0627\\n \\u062c\\u0648\\u0646: \\u0645\\u0627\\u0630\\u0627 \\u061f\\u061f\\u0645\\u062b\\u0644 \\u0641\\u064a \\u0627\\u0644\\u0648\\u0627\\u0642\\u0639\\n \\u0645\\u0627\\u0631\\u064a: \\u0623\\u062e\\u0628\\u0631\\u062a\\u0643 \\u0623\\u0646\\u0646\\u064a \\u0644\\u0633\\u062a \\u0645\\u062a\\u0623\\u0643\\u062f\\u064b\\u0627 ..\\n \\u062c\\u0648\\u0646: \\u0623\\u0646\\u0627 \\u0642\\u0627\\u062f\\u0645 \\u0641\\u064a \\u063a\\u0636\\u0648\\u0646 \\u0646\\u0635\\u0641 \\u0633\\u0627\\u0639\\u0629 \\u0639\\u0644\\u0649 \\u0627\\u0633\\u062a\\u0639\\u062f\\u0627\\u062f \\u060c \\u0633\\u0646\\u0631\\u0649 \\u0627\\u0644\\u0637\\u0628\\u064a\\u0628.\\u0644\\u0627 \\u0623\\u0633\\u062a\\u0637\\u064a\\u0639 \\u0627\\u0644\\u0627\\u0646\\u062a\\u0638\\u0627\\u0631: \\u0627\\u0628\\u062a\\u0633\\u0627\\u0645\\u0629:\\n \\u0645\\u0627\\u0631\\u064a: \\u0644\\u0627 \\u062a\\u0643\\u0648\\u0646 \\u0645\\u062a\\u062d\\u0645\\u0633\\u064b\\u0627 \\u062c\\u062f\\u064b\\u0627 \\u064a\\u0645\\u0643\\u0646\\u0646\\u064a \\u0627\\u0644\\u062d\\u0635\\u0648\\u0644 \\u0639\\u0644\\u0649 \\u0634\\u0631\\u064a\\u0637 \\u0627\\u062e\\u062a\\u0628\\u0627\\u0631 \\u0648\\u0627\\u0644\\u062a\\u062d\\u0642\\u0642 ....\\n \\u062c\\u0648\\u0646: \\u0644\\u0627 \\u0623\\u0631\\u064a\\u062f \\u0623\\u0646 \\u064a\\u0639\\u0637\\u064a\\u0646\\u064a \\u0627\\u0644\\u0637\\u0628\\u064a\\u0628 \\u0623\\u0646 \\u064a\\u0639\\u0637\\u064a\\u0646\\u064a \\u0627\\u0644\\u0623\\u062e\\u0628\\u0627\\u0631 100 \\u066a.\\n \\u0645\\u0627\\u0631\\u064a: \\u0644\\u0648\\u0644 \\u0627\\u0644\\u062c\\u0646\\u0648\\u0646\\n \\u062c\\u0648\\u0646: \\u0646\\u0639\\u0645 \\u0623\\u0646\\u0627 \\u0645\\u0633\\u062a\\u0639\\u062f \\u0627\\u0644\\u0622\\u0646 ..\\n \\u0645\\u0627\\u0631\\u064a: \\u062d\\u0633\\u0646\\u064b\\u0627\"\n        ],\n        \"semantic_type\": \"\",\n        \"description\": \"\"\n      }\n    },\n    {\n      \"column\": \"summary\",\n      \"properties\": {\n        \"dtype\": \"string\",\n        \"num_unique_values\": 800,\n        \"samples\": [\n          \"\\u064a\\u0630\\u0647\\u0628 \\u063a\\u0631\\u064a\\u0633 \\u0648\\u0646\\u0627\\u062a\\u0627\\u0644\\u064a \\u0625\\u0644\\u0649 \\u0632\\u0648\\u0645\\u0628\\u0627 \\u0627\\u0644\\u064a\\u0648\\u0645 \\u0641\\u064a \\u0627\\u0644\\u0633\\u0627\\u0639\\u0629 5 \\u0645\\u0633\\u0627\\u0621\\u064b.\\u0633\\u062a\\u062c\\u0644\\u0628 \\u063a\\u0631\\u064a\\u0633 \\u0643\\u062a\\u0627\\u0628 \\u0646\\u0627\\u062a\\u0627\\u0644\\u064a.\\u0644\\u0642\\u062f \\u0623\\u0646\\u0647\\u064a\\u062a\\u0647\\u0627 \\u0644\\u064a\\u0644\\u0629 \\u0623\\u0645\\u0633.\",\n          \"\\u062a\\u062e\\u0628\\u0631 \\u0644\\u0648\\u0631\\u0627 \\u062a\\u064a\\u0645 \\u0623\\u0646\\u0647 \\u064a\\u062c\\u0628 \\u0639\\u0644\\u064a\\u0647\\u0645 \\u0627\\u0644\\u0628\\u062f\\u0621 \\u0641\\u064a \\u0631\\u0624\\u064a\\u0629 \\u0623\\u0634\\u062e\\u0627\\u0635 \\u0622\\u062e\\u0631\\u064a\\u0646 \\u0644\\u0623\\u0646 \\u062a\\u064a\\u0645 \\u062c\\u064a\\u062f \\u062c\\u062f\\u064b\\u0627 \\u0628\\u0627\\u0644\\u0646\\u0633\\u0628\\u0629 \\u0644\\u0647\\u0627 \\u060c \\u0644\\u0643\\u0646\\u0647\\u0627 \\u0633\\u062a\\u062c\\u0639\\u0644\\u0647 \\u064a\\u0635\\u0628 \\u0628\\u0623\\u0630\\u0649 \\u0641\\u0642\\u0637.\\u062f\\u0647\\u0634 \\u062a\\u064a\\u0645 \\u0648\\u064a\\u0631\\u064a\\u062f \\u0641\\u0631\\u0635\\u0629 \\u0623\\u062e\\u0631\\u0649 \\u060c \\u0644\\u0643\\u0646 \\u0644\\u0648\\u0631\\u0627 \\u0645\\u0635\\u0645\\u0645\\u0629 \\u0639\\u0644\\u0649 \\u0627\\u0644\\u0645\\u063a\\u0627\\u062f\\u0631\\u0629.\",\n          \"\\u0645\\u0627\\u0631\\u064a \\u062a\\u0639\\u062a\\u0642\\u062f \\u0623\\u0646\\u0647\\u0627 \\u062d\\u0627\\u0645\\u0644.\\u062c\\u0648\\u0646 \\u064a\\u0631\\u064a\\u062f \\u0623\\u0646 \\u064a\\u0623\\u062e\\u0630\\u0647\\u0627 \\u0625\\u0644\\u0649 \\u0627\\u0644\\u0637\\u0628\\u064a\\u0628 \\u0644\\u062a\\u0623\\u0643\\u064a\\u062f \\u0630\\u0644\\u0643.\"\n        ],\n        \"semantic_type\": \"\",\n        \"description\": \"\"\n      }\n    },\n    {\n      \"column\": \"summary_length\",\n      \"properties\": {\n        \"dtype\": \"number\",\n        \"std\": 57,\n        \"min\": 12,\n        \"max\": 761,\n        \"num_unique_values\": 205,\n        \"samples\": [\n          60,\n          39,\n          121\n        ],\n        \"semantic_type\": \"\",\n        \"description\": \"\"\n      }\n    },\n    {\n      \"column\": \"dialogue_length\",\n      \"properties\": {\n        \"dtype\": \"number\",\n        \"std\": 366,\n        \"min\": 50,\n        \"max\": 3472,\n        \"num_unique_values\": 555,\n        \"samples\": [\n          266,\n          392,\n          230\n        ],\n        \"semantic_type\": \"\",\n        \"description\": \"\"\n      }\n    }\n  ]\n}"
            }
          },
          "metadata": {},
          "execution_count": 161
        }
      ]
    },
    {
      "cell_type": "code",
      "source": [
        "df['summary_length'].plot(kind = 'hist');"
      ],
      "metadata": {
        "colab": {
          "base_uri": "https://localhost:8080/",
          "height": 430
        },
        "id": "OGnnBXFHAkTM",
        "outputId": "4e1f22fe-9e4b-42cd-cb01-50b998f1b77d"
      },
      "id": "OGnnBXFHAkTM",
      "execution_count": 162,
      "outputs": [
        {
          "output_type": "display_data",
          "data": {
            "text/plain": [
              "<Figure size 640x480 with 1 Axes>"
            ],
            "image/png": "[encoded data removed]"
          },
          "metadata": {}
        }
      ]
    },
    {
      "cell_type": "code",
      "source": [
        "df['dialogue_length'].plot(kind = 'hist');"
      ],
      "metadata": {
        "colab": {
          "base_uri": "https://localhost:8080/",
          "height": 430
        },
        "id": "rLkXOikVApZt",
        "outputId": "a288dfcd-390d-444b-ac43-bef660b3f7f2"
      },
      "id": "rLkXOikVApZt",
      "execution_count": 163,
      "outputs": [
        {
          "output_type": "display_data",
          "data": {
            "text/plain": [
              "<Figure size 640x480 with 1 Axes>"
            ],
            "image/png": "[encoded data removed]"
          },
          "metadata": {}
        }
      ]
    },
    {
      "cell_type": "code",
      "source": [
        "df.sample(5)"
      ],
      "metadata": {
        "colab": {
          "base_uri": "https://localhost:8080/",
          "height": 206
        },
        "id": "Yh7SukMvA8Jh",
        "outputId": "ce142a59-1633-4ea7-95fc-07f76f383dec"
      },
      "id": "Yh7SukMvA8Jh",
      "execution_count": 164,
      "outputs": [
        {
          "output_type": "execute_result",
          "data": {
            "text/plain": [
              "     Unnamed: 0                                           dialogue  \\\n",
              "207         918  جيمي: نحن في شارع elm ، أين الآن؟\\n تينا: انتظ...   \n",
              "19          907  الشخص 1: اليوم ، لقد دعا ضيفًا خاصًا ، البروفي...   \n",
              "727         307  الشخص 1: الرجاء مساعدة نفسك في أطباقك.أتمنى أن...   \n",
              "525         445  الشخص 1: حسنًا.أريد أن أعيد الجميع إلى هذا الم...   \n",
              "496          59  ناتالي: <file_photo>\\n ناتالي: في التقدم\\n كري...   \n",
              "\n",
              "                                               summary  summary_length  \\\n",
              "207  جيمي في انتظار تينا في شارع الدردار.سوف يجتمعو...              64   \n",
              "19   البروفيسور.يقدم يانغ بعض النصائح حول الجوانب ا...             324   \n",
              "727  الشخص 1 يسأل الشخص 2 من تجربة الوصفة الخاصة لل...              78   \n",
              "525  سيبدأ الشخص 1 والشخص 2 اجتماعًا تحضيرًا في الس...              80   \n",
              "496  أرسلت ناتالي صورة لكريستين ودانا.أنها تكمل على...             106   \n",
              "\n",
              "     dialogue_length  \n",
              "207              205  \n",
              "19              2053  \n",
              "727              256  \n",
              "525              372  \n",
              "496              523  "
            ],
            "text/html": [
              "\n",
              "  <div id=\"df-a1540f9d-dc91-4306-af3e-4f226835321d\" class=\"colab-df-container\">\n",
              "    <div>\n",
              "<style scoped>\n",
              "    .dataframe tbody tr th:only-of-type {\n",
              "        vertical-align: middle;\n",
              "    }\n",
              "\n",
              "    .dataframe tbody tr th {\n",
              "        vertical-align: top;\n",
              "    }\n",
              "\n",
              "    .dataframe thead th {\n",
              "        text-align: right;\n",
              "    }\n",
              "</style>\n",
              "<table border=\"1\" class=\"dataframe\">\n",
              "  <thead>\n",
              "    <tr style=\"text-align: right;\">\n",
              "      <th></th>\n",
              "      <th>Unnamed: 0</th>\n",
              "      <th>dialogue</th>\n",
              "      <th>summary</th>\n",
              "      <th>summary_length</th>\n",
              "      <th>dialogue_length</th>\n",
              "    </tr>\n",
              "  </thead>\n",
              "  <tbody>\n",
              "    <tr>\n",
              "      <th>207</th>\n",
              "      <td>918</td>\n",
              "      <td>جيمي: نحن في شارع elm ، أين الآن؟\\n تينا: انتظ...</td>\n",
              "      <td>جيمي في انتظار تينا في شارع الدردار.سوف يجتمعو...</td>\n",
              "      <td>64</td>\n",
              "      <td>205</td>\n",
              "    </tr>\n",
              "    <tr>\n",
              "      <th>19</th>\n",
              "      <td>907</td>\n",
              "      <td>الشخص 1: اليوم ، لقد دعا ضيفًا خاصًا ، البروفي...</td>\n",
              "      <td>البروفيسور.يقدم يانغ بعض النصائح حول الجوانب ا...</td>\n",
              "      <td>324</td>\n",
              "      <td>2053</td>\n",
              "    </tr>\n",
              "    <tr>\n",
              "      <th>727</th>\n",
              "      <td>307</td>\n",
              "      <td>الشخص 1: الرجاء مساعدة نفسك في أطباقك.أتمنى أن...</td>\n",
              "      <td>الشخص 1 يسأل الشخص 2 من تجربة الوصفة الخاصة لل...</td>\n",
              "      <td>78</td>\n",
              "      <td>256</td>\n",
              "    </tr>\n",
              "    <tr>\n",
              "      <th>525</th>\n",
              "      <td>445</td>\n",
              "      <td>الشخص 1: حسنًا.أريد أن أعيد الجميع إلى هذا الم...</td>\n",
              "      <td>سيبدأ الشخص 1 والشخص 2 اجتماعًا تحضيرًا في الس...</td>\n",
              "      <td>80</td>\n",
              "      <td>372</td>\n",
              "    </tr>\n",
              "    <tr>\n",
              "      <th>496</th>\n",
              "      <td>59</td>\n",
              "      <td>ناتالي: &lt;file_photo&gt;\\n ناتالي: في التقدم\\n كري...</td>\n",
              "      <td>أرسلت ناتالي صورة لكريستين ودانا.أنها تكمل على...</td>\n",
              "      <td>106</td>\n",
              "      <td>523</td>\n",
              "    </tr>\n",
              "  </tbody>\n",
              "</table>\n",
              "</div>\n",
              "    <div class=\"colab-df-buttons\">\n",
              "\n",
              "  <div class=\"colab-df-container\">\n",
              "    <button class=\"colab-df-convert\" onclick=\"convertToInteractive('df-a1540f9d-dc91-4306-af3e-4f226835321d')\"\n",
              "            title=\"Convert this dataframe to an interactive table.\"\n",
              "            style=\"display:none;\">\n",
              "\n",
              "  <svg xmlns=\"http://www.w3.org/2000/svg\" height=\"24px\" viewBox=\"0 -960 960 960\">\n",
              "    <path d=\"M120-120v-720h720v720H120Zm60-500h600v-160H180v160Zm220 220h160v-160H400v160Zm0 220h160v-160H400v160ZM180-400h160v-160H180v160Zm440 0h160v-160H620v160ZM180-180h160v-160H180v160Zm440 0h160v-160H620v160Z\"/>\n",
              "  </svg>\n",
              "    </button>\n",
              "\n",
              "  <style>\n",
              "    .colab-df-container {\n",
              "      display:flex;\n",
              "      gap: 12px;\n",
              "    }\n",
              "\n",
              "    .colab-df-convert {\n",
              "      background-color: #E8F0FE;\n",
              "      border: none;\n",
              "      border-radius: 50%;\n",
              "      cursor: pointer;\n",
              "      display: none;\n",
              "      fill: #1967D2;\n",
              "      height: 32px;\n",
              "      padding: 0 0 0 0;\n",
              "      width: 32px;\n",
              "    }\n",
              "\n",
              "    .colab-df-convert:hover {\n",
              "      background-color: #E2EBFA;\n",
              "      box-shadow: 0px 1px 2px rgba(60, 64, 67, 0.3), 0px 1px 3px 1px rgba(60, 64, 67, 0.15);\n",
              "      fill: #174EA6;\n",
              "    }\n",
              "\n",
              "    .colab-df-buttons div {\n",
              "      margin-bottom: 4px;\n",
              "    }\n",
              "\n",
              "    [theme=dark] .colab-df-convert {\n",
              "      background-color: #3B4455;\n",
              "      fill: #D2E3FC;\n",
              "    }\n",
              "\n",
              "    [theme=dark] .colab-df-convert:hover {\n",
              "      background-color: #434B5C;\n",
              "      box-shadow: 0px 1px 3px 1px rgba(0, 0, 0, 0.15);\n",
              "      filter: drop-shadow(0px 1px 2px rgba(0, 0, 0, 0.3));\n",
              "      fill: #FFFFFF;\n",
              "    }\n",
              "  </style>\n",
              "\n",
              "    <script>\n",
              "      const buttonEl =\n",
              "        document.querySelector('#df-a1540f9d-dc91-4306-af3e-4f226835321d button.colab-df-convert');\n",
              "      buttonEl.style.display =\n",
              "        google.colab.kernel.accessAllowed ? 'block' : 'none';\n",
              "\n",
              "      async function convertToInteractive(key) {\n",
              "        const element = document.querySelector('#df-a1540f9d-dc91-4306-af3e-4f226835321d');\n",
              "        const dataTable =\n",
              "          await google.colab.kernel.invokeFunction('convertToInteractive',\n",
              "                                                    [key], {});\n",
              "        if (!dataTable) return;\n",
              "\n",
              "        const docLinkHtml = 'Like what you see? Visit the ' +\n",
              "          '<a target=\"_blank\" href=https://colab.research.google.com/notebooks/data_table.ipynb>data table notebook</a>'\n",
              "          + ' to learn more about interactive tables.';\n",
              "        element.innerHTML = '';\n",
              "        dataTable['output_type'] = 'display_data';\n",
              "        await google.colab.output.renderOutput(dataTable, element);\n",
              "        const docLink = document.createElement('div');\n",
              "        docLink.innerHTML = docLinkHtml;\n",
              "        element.appendChild(docLink);\n",
              "      }\n",
              "    </script>\n",
              "  </div>\n",
              "\n",
              "\n",
              "<div id=\"df-31357554-875d-4c08-ab9d-d9e5a1641a92\">\n",
              "  <button class=\"colab-df-quickchart\" onclick=\"quickchart('df-31357554-875d-4c08-ab9d-d9e5a1641a92')\"\n",
              "            title=\"Suggest charts\"\n",
              "            style=\"display:none;\">\n",
              "\n",
              "<svg xmlns=\"http://www.w3.org/2000/svg\" height=\"24px\"viewBox=\"0 0 24 24\"\n",
              "     width=\"24px\">\n",
              "    <g>\n",
              "        <path d=\"M19 3H5c-1.1 0-2 .9-2 2v14c0 1.1.9 2 2 2h14c1.1 0 2-.9 2-2V5c0-1.1-.9-2-2-2zM9 17H7v-7h2v7zm4 0h-2V7h2v10zm4 0h-2v-4h2v4z\"/>\n",
              "    </g>\n",
              "</svg>\n",
              "  </button>\n",
              "\n",
              "<style>\n",
              "  .colab-df-quickchart {\n",
              "      --bg-color: #E8F0FE;\n",
              "      --fill-color: #1967D2;\n",
              "      --hover-bg-color: #E2EBFA;\n",
              "      --hover-fill-color: #174EA6;\n",
              "      --disabled-fill-color: #AAA;\n",
              "      --disabled-bg-color: #DDD;\n",
              "  }\n",
              "\n",
              "  [theme=dark] .colab-df-quickchart {\n",
              "      --bg-color: #3B4455;\n",
              "      --fill-color: #D2E3FC;\n",
              "      --hover-bg-color: #434B5C;\n",
              "      --hover-fill-color: #FFFFFF;\n",
              "      --disabled-bg-color: #3B4455;\n",
              "      --disabled-fill-color: #666;\n",
              "  }\n",
              "\n",
              "  .colab-df-quickchart {\n",
              "    background-color: var(--bg-color);\n",
              "    border: none;\n",
              "    border-radius: 50%;\n",
              "    cursor: pointer;\n",
              "    display: none;\n",
              "    fill: var(--fill-color);\n",
              "    height: 32px;\n",
              "    padding: 0;\n",
              "    width: 32px;\n",
              "  }\n",
              "\n",
              "  .colab-df-quickchart:hover {\n",
              "    background-color: var(--hover-bg-color);\n",
              "    box-shadow: 0 1px 2px rgba(60, 64, 67, 0.3), 0 1px 3px 1px rgba(60, 64, 67, 0.15);\n",
              "    fill: var(--button-hover-fill-color);\n",
              "  }\n",
              "\n",
              "  .colab-df-quickchart-complete:disabled,\n",
              "  .colab-df-quickchart-complete:disabled:hover {\n",
              "    background-color: var(--disabled-bg-color);\n",
              "    fill: var(--disabled-fill-color);\n",
              "    box-shadow: none;\n",
              "  }\n",
              "\n",
              "  .colab-df-spinner {\n",
              "    border: 2px solid var(--fill-color);\n",
              "    border-color: transparent;\n",
              "    border-bottom-color: var(--fill-color);\n",
              "    animation:\n",
              "      spin 1s steps(1) infinite;\n",
              "  }\n",
              "\n",
              "  @keyframes spin {\n",
              "    0% {\n",
              "      border-color: transparent;\n",
              "      border-bottom-color: var(--fill-color);\n",
              "      border-left-color: var(--fill-color);\n",
              "    }\n",
              "    20% {\n",
              "      border-color: transparent;\n",
              "      border-left-color: var(--fill-color);\n",
              "      border-top-color: var(--fill-color);\n",
              "    }\n",
              "    30% {\n",
              "      border-color: transparent;\n",
              "      border-left-color: var(--fill-color);\n",
              "      border-top-color: var(--fill-color);\n",
              "      border-right-color: var(--fill-color);\n",
              "    }\n",
              "    40% {\n",
              "      border-color: transparent;\n",
              "      border-right-color: var(--fill-color);\n",
              "      border-top-color: var(--fill-color);\n",
              "    }\n",
              "    60% {\n",
              "      border-color: transparent;\n",
              "      border-right-color: var(--fill-color);\n",
              "    }\n",
              "    80% {\n",
              "      border-color: transparent;\n",
              "      border-right-color: var(--fill-color);\n",
              "      border-bottom-color: var(--fill-color);\n",
              "    }\n",
              "    90% {\n",
              "      border-color: transparent;\n",
              "      border-bottom-color: var(--fill-color);\n",
              "    }\n",
              "  }\n",
              "</style>\n",
              "\n",
              "  <script>\n",
              "    async function quickchart(key) {\n",
              "      const quickchartButtonEl =\n",
              "        document.querySelector('#' + key + ' button');\n",
              "      quickchartButtonEl.disabled = true;  // To prevent multiple clicks.\n",
              "      quickchartButtonEl.classList.add('colab-df-spinner');\n",
              "      try {\n",
              "        const charts = await google.colab.kernel.invokeFunction(\n",
              "            'suggestCharts', [key], {});\n",
              "      } catch (error) {\n",
              "        console.error('Error during call to suggestCharts:', error);\n",
              "      }\n",
              "      quickchartButtonEl.classList.remove('colab-df-spinner');\n",
              "      quickchartButtonEl.classList.add('colab-df-quickchart-complete');\n",
              "    }\n",
              "    (() => {\n",
              "      let quickchartButtonEl =\n",
              "        document.querySelector('#df-31357554-875d-4c08-ab9d-d9e5a1641a92 button');\n",
              "      quickchartButtonEl.style.display =\n",
              "        google.colab.kernel.accessAllowed ? 'block' : 'none';\n",
              "    })();\n",
              "  </script>\n",
              "</div>\n",
              "\n",
              "    </div>\n",
              "  </div>\n"
            ],
            "application/vnd.google.colaboratory.intrinsic+json": {
              "type": "dataframe",
              "summary": "{\n  \"name\": \"df\",\n  \"rows\": 5,\n  \"fields\": [\n    {\n      \"column\": \"Unnamed: 0\",\n      \"properties\": {\n        \"dtype\": \"number\",\n        \"std\": 377,\n        \"min\": 59,\n        \"max\": 918,\n        \"num_unique_values\": 5,\n        \"samples\": [\n          907,\n          59,\n          307\n        ],\n        \"semantic_type\": \"\",\n        \"description\": \"\"\n      }\n    },\n    {\n      \"column\": \"dialogue\",\n      \"properties\": {\n        \"dtype\": \"string\",\n        \"num_unique_values\": 5,\n        \"samples\": [\n          \"\\u0627\\u0644\\u0634\\u062e\\u0635 1: \\u0627\\u0644\\u064a\\u0648\\u0645 \\u060c \\u0644\\u0642\\u062f \\u062f\\u0639\\u0627 \\u0636\\u064a\\u0641\\u064b\\u0627 \\u062e\\u0627\\u0635\\u064b\\u0627 \\u060c \\u0627\\u0644\\u0628\\u0631\\u0648\\u0641\\u064a\\u0633\\u0648\\u0631.\\u064a\\u0627\\u0646\\u063a.\\u0633\\u0648\\u0641 \\u064a\\u0642\\u062f\\u0645 \\u0644\\u0646\\u0627 \\u0628\\u0639\\u0636 \\u0627\\u0644\\u0646\\u0635\\u0627\\u0626\\u062d \\u062d\\u0648\\u0644 \\u0627\\u0644\\u062c\\u0648\\u0627\\u0646\\u0628 \\u0627\\u0644\\u0642\\u0627\\u0646\\u0648\\u0646\\u064a\\u0629 \\u0644\\u0644\\u0623\\u0639\\u0645\\u0627\\u0644 \\u0627\\u0644\\u062f\\u0648\\u0644\\u064a\\u0629.\\u0646\\u0635\\u064a\\u062d\\u062a\\u0643 \\u0627\\u0644\\u0642\\u0627\\u0646\\u0648\\u0646\\u064a\\u0629 \\u0627\\u0644\\u062f\\u0648\\u0644\\u064a\\u0629 \\u0645\\u0647\\u0645\\u0629 \\u0644\\u0631\\u0641\\u0627\\u0647\\u064a\\u0629 \\u0623\\u0639\\u0645\\u0627\\u0644\\u0646\\u0627.\\u064a\\u0631\\u062c\\u0649 \\u0625\\u0639\\u0637\\u0627\\u0626\\u0646\\u0627 \\u0628\\u0639\\u0636 \\u0627\\u0644\\u0645\\u062d\\u0627\\u0645\\u0648\\u0646 \\u062d\\u0648\\u0644 \\u0627\\u0644\\u0642\\u0636\\u0627\\u064a\\u0627 \\u0645\\u062b\\u0644 \\u0627\\u0644\\u0642\\u0648\\u0627\\u0646\\u064a\\u0646 \\u0627\\u0644\\u062a\\u064a \\u062a\\u062d\\u0643\\u0645 \\u0627\\u0644\\u0639\\u0642\\u062f \\u060c \\u0623\\u0648 \\u0645\\u0627 \\u0647\\u0648 \\u0627\\u0644\\u0644\\u062c\\u0648\\u0621 \\u0627\\u0644\\u0645\\u062a\\u0627\\u062d \\u0644\\u0644\\u062a\\u0642\\u0635\\u064a\\u0631 \\u0623\\u0648 \\u062e\\u0631\\u0642 \\u0627\\u0644\\u0639\\u0642\\u062f \\u0645\\u0646 \\u0642\\u0628\\u0644 \\u0639\\u0645\\u0644\\u0627\\u0626\\u0646\\u0627 \\u0623\\u0648 \\u0645\\u0627 \\u064a\\u062c\\u0628 \\u0627\\u0644\\u0642\\u064a\\u0627\\u0645 \\u0628\\u0647 \\u0625\\u0630\\u0627 \\u0646\\u0634\\u0623 \\u0646\\u0632\\u0627\\u0639.\\n  \\u0627\\u0644\\u0634\\u062e\\u0635 2: \\u0625\\u0646 \\u0623\\u0647\\u0645\\u064a\\u0629 \\u0641\\u0647\\u0645 \\u0627\\u0644\\u0641\\u0648\\u0627\\u0631\\u0642 \\u0648\\u0627\\u0644\\u0641\\u0631\\u0648\\u0642 \\u0628\\u064a\\u0646 \\u0627\\u0644\\u0645\\u0645\\u0627\\u0631\\u0633\\u0627\\u062a \\u0627\\u0644\\u0639\\u0627\\u062f\\u064a\\u0629 \\u0648\\u0627\\u0644\\u0645\\u0645\\u0627\\u0631\\u0633\\u0627\\u062a \\u0627\\u0644\\u062a\\u062c\\u0627\\u0631\\u064a\\u0629 \\u0627\\u0644\\u0623\\u062c\\u0646\\u0628\\u064a\\u0629 \\u064a\\u0645\\u062b\\u0644\\u0648\\u0646 \\u062a\\u062d\\u062f\\u064a\\u064b\\u0627 \\u0645\\u0633\\u062a\\u0645\\u0631\\u064b\\u0627 \\u0644\\u0623\\u0635\\u062d\\u0627\\u0628 \\u0627\\u0644\\u0645\\u0634\\u0627\\u0631\\u064a\\u0639 \\u0648\\u0627\\u0644\\u062a\\u062c\\u0627\\u0631 \\u0627\\u0644\\u0639\\u0627\\u0644\\u0645\\u064a\\u064a\\u0646.\\u0639\\u0644\\u0649 \\u0627\\u0644\\u0631\\u063a\\u0645 \\u0645\\u0646 \\u0627\\u0644\\u0639\\u062f\\u064a\\u062f \\u0645\\u0646 \\u0627\\u0644\\u0628\\u0644\\u062f\\u0627\\u0646 \\u060c \\u0644\\u0627 \\u062a\\u0632\\u0627\\u0644 \\u0627\\u062d\\u062a\\u0643\\u0627\\u0643\\u0627\\u062a \\u0627\\u0644\\u062a\\u062c\\u0627\\u0631\\u0629 \\u0648\\u0627\\u0644\\u0627\\u0633\\u062a\\u062b\\u0645\\u0627\\u0631 \\u0647\\u064a \\u0627\\u0644\\u0633\\u0627\\u0626\\u062f\\u0629 \\u0628\\u064a\\u0646 \\u0627\\u0644\\u0639\\u0636\\u0648\\u064a\\u0629 \\u0627\\u0644\\u062d\\u0627\\u0644\\u064a\\u0629.\\u0648\\u0645\\u0639 \\u0630\\u0644\\u0643 \\u060c \\u0633\\u064a\\u062a\\u0645 \\u0625\\u062f\\u0627\\u0631\\u0629 \\u0647\\u0630\\u0647 \\u0627\\u0644\\u0627\\u062d\\u062a\\u0643\\u0627\\u0643\\u0627\\u062a \\u0628\\u0634\\u0643\\u0644 \\u0623\\u0641\\u0636\\u0644 \\u0628\\u0645\\u0648\\u062c\\u0628 \\u0642\\u0648\\u0627\\u0639\\u062f \\u0627\\u0644\\u062a\\u062c\\u0627\\u0631\\u0629 \\u0648\\u0622\\u0644\\u064a\\u0629 \\u062a\\u0633\\u0648\\u064a\\u0629 \\u0627\\u0644\\u0645\\u0646\\u0638\\u0645\\u0629 \\u0644\\u0644\\u0645\\u0646\\u0638\\u0645\\u0629.\\n  \\u0627\\u0644\\u0634\\u062e\\u0635 1: \\u0639\\u0644\\u0649 \\u0627\\u0644\\u0631\\u063a\\u0645 \\u0645\\u0646 \\u0630\\u0644\\u0643 \\u060c \\u064a\\u062c\\u0628 \\u0623\\u0646 \\u062a\\u0643\\u0648\\u0646 \\u0639\\u0642\\u0648\\u062f \\u0627\\u0644\\u0639\\u0645\\u0644 \\u0627\\u0644\\u062f\\u0648\\u0644\\u064a\\u0629 \\u0648\\u0627\\u0644\\u062a\\u0631\\u062a\\u064a\\u0628 \\u062f\\u0642\\u064a\\u0642\\u0629 \\u0648\\u0645\\u062d\\u062f\\u062f\\u0629 \\u0648\\u0634\\u0627\\u0645\\u0644\\u0629 \\u0644\\u062a\\u0642\\u0644\\u064a\\u0644 \\u0633\\u0648\\u0621 \\u0627\\u0644\\u0641\\u0647\\u0645 \\u0648\\u0627\\u0644\\u0645\\u0641\\u0627\\u0647\\u064a\\u0645 \\u0627\\u0644\\u062e\\u0627\\u0637\\u0626\\u0629 \\u0648\\u0627\\u0644\\u062e\\u0644\\u0627\\u0641\\u0627\\u062a \\u0625\\u0644\\u0649 \\u0627\\u0644\\u062d\\u062f \\u0627\\u0644\\u0623\\u062f\\u0646\\u0649.\\n  \\u0627\\u0644\\u0634\\u062e\\u0635 2: \\u062a\\u062d\\u062f\\u062b \\u0627\\u0644\\u0645\\u0634\\u0643\\u0644\\u0629 \\u0648\\u0627\\u0644\\u0646\\u0632\\u0627\\u0639\\u0627\\u062a \\u0628\\u0634\\u0643\\u0644 \\u0631\\u0626\\u064a\\u0633\\u064a \\u0628\\u0633\\u0628\\u0628 \\u0627\\u062e\\u062a\\u0644\\u0627\\u0641 \\u0642\\u0648\\u0627\\u0646\\u064a\\u0646 \\u0627\\u0644\\u0628\\u0644\\u062f\\u0627\\u0646 \\u0627\\u0644\\u0645\\u0639\\u0646\\u064a\\u0629.\\u0644\\u0647\\u0630\\u0627 \\u0627\\u0644\\u0633\\u0628\\u0628 \\u0628\\u0627\\u0644\\u0630\\u0627\\u062a \\u060c \\u0644\\u0627 \\u0628\\u062f \\u0645\\u0646 \\u0625\\u062b\\u0628\\u0627\\u062a \\u0645\\u0646 \\u0627\\u0644\\u0628\\u062f\\u0627\\u064a\\u0629 \\u0627\\u0644\\u0630\\u064a \\u064a\\u062d\\u0643\\u0645\\u0647 \\u0627\\u0644\\u0642\\u0627\\u0646\\u0648\\u0646 \\u0639\\u0646\\u062f\\u0645\\u0627 \\u062a\\u0646\\u0634\\u0623 \\u0627\\u0644\\u0646\\u0632\\u0627\\u0639\\u0627\\u062a.\\u0627\\u0644\\u0645\\u0628\\u062f\\u0623 \\u0627\\u0644\\u0623\\u0633\\u0627\\u0633\\u064a \\u0644\\u062c\\u0645\\u064a\\u0639 \\u0627\\u0644\\u0639\\u0642\\u0648\\u062f \\u0627\\u0644\\u062f\\u0648\\u0644\\u064a\\u0629 \\u0647\\u0648 \\u0627\\u0644\\u0642\\u0648\\u0627\\u0646\\u064a\\u0646 \\u0648\\u0627\\u0644\\u0644\\u0648\\u0627\\u0626\\u062d \\u0627\\u0644\\u0645\\u0639\\u0645\\u0648\\u0644 \\u0628\\u0647\\u0627.\\u062a\\u0623\\u0643\\u062f \\u0645\\u0646 \\u0623\\u0646 \\u0634\\u0631\\u0637 \\u0627\\u0644\\u062a\\u062d\\u0643\\u064a\\u0645 \\u0641\\u064a \\u0639\\u0642\\u062f \\u0639\\u0645\\u0644\\u0643 \\u064a\\u0643\\u0648\\u0646 \\u0634\\u0627\\u0645\\u0644\\u0627\\u064b.\\n  \\u0627\\u0644\\u0634\\u062e\\u0635 1: \\u0643\\u064a\\u0641 \\u064a\\u0645\\u0643\\u0646\\u0646\\u0627 \\u062d\\u0645\\u0627\\u064a\\u0629 \\u0628\\u0631\\u0627\\u0621\\u0627\\u062a \\u0627\\u0644\\u0627\\u062e\\u062a\\u0631\\u0627\\u0639 \\u0648\\u0633\\u0648\\u0642 \\u0627\\u0644\\u062a\\u062c\\u0627\\u0631\\u0629 \\u0641\\u064a \\u0627\\u0644\\u062e\\u0627\\u0631\\u062c\\u061f\\n  \\u0627\\u0644\\u0634\\u062e\\u0635 2: \\u0646\\u0639\\u0645 \\u060c \\u0633\\u064a\\u0643\\u0648\\u0646 \\u0645\\u0646 \\u0627\\u0647\\u062a\\u0645\\u0627\\u0645\\u0643 \\u0628\\u0623\\u0642\\u0635\\u0649 \\u0645\\u0635\\u0644\\u062d\\u0629 \\u0644\\u062d\\u0645\\u0627\\u064a\\u0629 \\u0645\\u0644\\u0643\\u064a\\u062a\\u0643 \\u0627\\u0644\\u0641\\u0643\\u0631\\u064a\\u0629 \\u0645\\u062b\\u0644 \\u0627\\u0628\\u062a\\u0643\\u0627\\u0631\\u0627\\u062a\\u0643 \\u0648\\u0641\\u0643\\u0631\\u062a\\u0643 \\u0648\\u062a\\u0635\\u0645\\u064a\\u0645\\u0627\\u062a\\u0643 \\u0648\\u062d\\u0642\\u0648\\u0642 \\u0627\\u0644\\u0637\\u0628\\u0639 \\u0648\\u0627\\u0644\\u0646\\u0634\\u0631 \\u0641\\u064a \\u0628\\u0644\\u062f\\u0643 \\u0627\\u0644\\u0645\\u0633\\u062a\\u0647\\u062f\\u0641.\\n  \\u0627\\u0644\\u0634\\u062e\\u0635 1: \\u0643\\u0645\\u0627 \\u062a\\u0639\\u0644\\u0645\\u0648\\u0646 \\u060c \\u0641\\u0625\\u0646 \\u062a\\u0631\\u0643\\u064a\\u0632\\u0646\\u0627 \\u0627\\u0644\\u0631\\u0626\\u064a\\u0633\\u064a \\u0647\\u0648 \\u0627\\u062e\\u062a\\u0631\\u0627\\u0642 \\u0623\\u0633\\u0648\\u0627\\u0642 \\u0627\\u0644\\u0628\\u0644\\u062f\\u0627\\u0646 \\u0641\\u064a \\u0622\\u0633\\u064a\\u0627.\\u0645\\u0627 \\u0647\\u0648 \\u0627\\u0644\\u0625\\u0637\\u0627\\u0631 \\u0627\\u0644\\u0642\\u0627\\u0646\\u0648\\u0646\\u064a \\u0627\\u0644\\u062d\\u0627\\u0644\\u064a \\u0641\\u064a \\u0627\\u0644\\u0628\\u0644\\u062f\\u0627\\u0646\\u061f\\n  \\u0627\\u0644\\u0634\\u062e\\u0635 2: \\u0643\\u0627\\u0646 \\u0627\\u0644\\u0627\\u0641\\u062a\\u0642\\u0627\\u0631 \\u0625\\u0644\\u0649 \\u0627\\u0644\\u0634\\u0641\\u0627\\u0641\\u064a\\u0629 \\u0627\\u0644\\u062a\\u0646\\u0638\\u064a\\u0645\\u064a\\u0629 \\u064a\\u0645\\u062b\\u0644 \\u0645\\u0634\\u0643\\u0644\\u0629 \\u0648\\u0644\\u0627 \\u064a\\u0632\\u0627\\u0644 \\u0625\\u0644\\u0649 \\u062d\\u062f \\u0645\\u0627.\\u0648\\u0645\\u0639 \\u0630\\u0644\\u0643 \\u060c \\u0641\\u0625\\u0646 \\u0627\\u0644\\u0628\\u0644\\u062f\\u0627\\u0646 \\u062a\\u062a\\u0642\\u062f\\u0645 \\u0625\\u0644\\u0649 \\u0627\\u0644\\u0623\\u0645\\u0627\\u0645 \\u0644\\u062a\\u0639\\u0645\\u064a\\u0642 \\u0625\\u0635\\u0644\\u0627\\u062d\\u0627\\u062a\\u0647\\u0627 \\u060c \\u0633\\u062a\\u0634\\u0645\\u0644 \\u0627\\u0644\\u062a\\u063a\\u064a\\u064a\\u0631\\u0627\\u062a \\u0627\\u0644\\u062c\\u062f\\u064a\\u062f\\u0629 \\u0645\\u0624\\u0633\\u0633\\u0629 \\u0627\\u0644\\u0647\\u064a\\u0627\\u0643\\u0644 \\u0627\\u0644\\u0642\\u0627\\u0646\\u0648\\u0646\\u064a\\u0629 \\u0644\\u0644\\u062d\\u0641\\u0627\\u0638 \\u0639\\u0644\\u0649 \\u0645\\u0633\\u062a\\u0648\\u064a\\u0627\\u062a \\u0639\\u0627\\u0644\\u064a\\u0629 \\u0645\\u0646 \\u0627\\u0644\\u0627\\u0633\\u062a\\u062b\\u0645\\u0627\\u0631\\u0627\\u062a \\u0627\\u0644\\u0623\\u062c\\u0646\\u0628\\u064a\\u0629 \\u0648\\u0643\\u0630\\u0644\\u0643 \\u0627\\u0644\\u0627\\u0633\\u062a\\u062b\\u0645\\u0627\\u0631\\u0627\\u062a \\u0627\\u0644\\u0645\\u062d\\u0644\\u064a\\u0629.\\u0633\\u064a\\u0624\\u062f\\u064a \\u0630\\u0644\\u0643 \\u0628\\u0627\\u0644\\u062a\\u0623\\u0643\\u064a\\u062f \\u0625\\u0644\\u0649 \\u062a\\u0639\\u0632\\u064a\\u0632 \\u0627\\u0644\\u0642\\u0627\\u0646\\u0648\\u0646 \\u0648\\u0627\\u0644\\u0644\\u0648\\u0627\\u0626\\u062d \\u0641\\u064a \\u0627\\u0644\\u0628\\u0644\\u062f\\u0627\\u0646 \\u060c \\u0648\\u062e\\u0627\\u0635\\u0629 \\u0627\\u0644\\u0645\\u062c\\u0627\\u0644\\u0627\\u062a \\u0627\\u0644\\u0645\\u062a\\u0639\\u0644\\u0642\\u0629 \\u0628\\u0627\\u0644\\u0642\\u0636\\u0627\\u064a\\u0627 \\u0627\\u0644\\u062a\\u062c\\u0627\\u0631\\u064a\\u0629.\\n  \\u0627\\u0644\\u0634\\u062e\\u0635 1: \\u0642\\u0628\\u0644 \\u0639\\u062f\\u0629 \\u0633\\u0646\\u0648\\u0627\\u062a \\u060c \\u0642\\u0627\\u0645\\u062a \\u0627\\u0644\\u0628\\u0644\\u062f\\u0627\\u0646 \\u0648\\u0627\\u0644\\u0635\\u064a\\u0646 \\u0628\\u062a\\u062c\\u0645\\u064a\\u0639 \\u0645\\u0630\\u0643\\u0631\\u0627\\u062a \\u0627\\u0644\\u062a\\u0641\\u0627\\u0647\\u0645 \\u060c \\u0648\\u0627\\u0644\\u062a\\u064a \\u0633\\u062a\\u0639\\u0645\\u0644 \\u0639\\u0644\\u064a\\u0647\\u0627 \\u0627\\u0644\\u0628\\u0644\\u062f\\u0627\\u0646 \\u0639\\u0644\\u0649 \\u062a\\u062d\\u0633\\u064a\\u0646 \\u062d\\u0645\\u0627\\u064a\\u0629 \\u062d\\u0642\\u0648\\u0642 \\u0627\\u0644\\u062d\\u0643\\u0648\\u0645\\u0629 \\u0627\\u0644\\u0641\\u0643\\u0631\\u064a\\u0629 \\u0641\\u064a \\u0642\\u0648\\u0627\\u0646\\u064a\\u0646\\u0647\\u0627 \\u0639\\u0644\\u0649 \\u0645\\u062f\\u0627\\u0631 \\u0627\\u0644\\u0639\\u0627\\u0645\\u064a\\u0646 \\u0625\\u0644\\u0649 \\u062b\\u0644\\u0627\\u062b \\u0633\\u0646\\u0648\\u0627\\u062a.\\n  \\u0627\\u0644\\u0634\\u062e\\u0635 2: \\u0639\\u0644\\u0649 \\u0648\\u062c\\u0647 \\u0627\\u0644\\u062a\\u062d\\u062f\\u064a\\u062f \\u060c \\u0641\\u0625\\u0646 \\u0627\\u0644\\u0625\\u062c\\u0631\\u0627\\u0621\\u0627\\u062a \\u0627\\u0644\\u062a\\u064a \\u0627\\u0644\\u062a\\u0632\\u0645\\u062a \\u0628\\u0647\\u0627 \\u0627\\u0644\\u0628\\u0644\\u062f\\u0627\\u0646 \\u0627\\u0644\\u062a\\u064a \\u0627\\u0644\\u062a\\u0632\\u0645\\u062a \\u0628\\u0647\\u0627 \\u0627\\u0644\\u0627\\u062a\\u0641\\u0627\\u0642.\",\n          \"\\u0646\\u0627\\u062a\\u0627\\u0644\\u064a: <file_photo>\\n \\u0646\\u0627\\u062a\\u0627\\u0644\\u064a: \\u0641\\u064a \\u0627\\u0644\\u062a\\u0642\\u062f\\u0645\\n \\u0643\\u0631\\u064a\\u0633\\u062a\\u064a\\u0646: \\u0648\\u0627\\u0648 \\u0625\\u0646\\u0647 \\u0631\\u0627\\u0626\\u0639\\n \\u062f\\u0627\\u0646\\u0627: \\u0647\\u0630\\u0627 \\u062c\\u0645\\u064a\\u0644!\\n \\u062f\\u0627\\u0646\\u0627: \\u0644\\u0643\\u0646 \\u0623\\u064a\\u0646 \\u0648\\u062c\\u0647\\u0643\\u061f \\u061b \\u062f\\n \\u0646\\u0627\\u062a\\u0627\\u0644\\u064a: \\u0627\\u0644\\u0648\\u062c\\u0647 \\u0644\\u0645 \\u064a\\u0643\\u0646 \\u0645\\u0646\\u0627\\u0633\\u0628\\u064b\\u0627 \\u0644\\u0644\\u0638\\u0647\\u0648\\u0631 \\u0641\\u064a xd \\u0627\\u0644\\u0639\\u0627\\u0645\\n \\u0643\\u0631\\u064a\\u0633\\u062a\\u064a\\u0646: \\u0647\\u0627\\u0647\\u0627\\u0647\\u0627 \\u062d\\u0633\\u0646\\u0627\\u064b \\u0639\\u0644\\u0649 \\u0627\\u0644\\u0623\\u0642\\u0644 \\u0627\\u0644\\u0641\\u0633\\u062a\\u0627\\u0646 \\u062c\\u064a\\u062f \\u0628\\u0645\\u0627 \\u0641\\u064a\\u0647 \\u0627\\u0644\\u0643\\u0641\\u0627\\u064a\\u0629\\n \\u062f\\u0627\\u0646\\u0627: \\u0645\\u0627 \\u0647\\u0648 \\u0645\\u0639 \\u0627\\u0644\\u0648\\u062c\\u0647\\u061f:\\u062f\\n \\u0646\\u0627\\u062a\\u0627\\u0644\\u064a: \\u0623\\u0648\\u0647 \\u060c \\u0644\\u0627 \\u0628\\u062f \\u0644\\u064a \\u0645\\u0646 \\u0642\\u0637\\u0639 \\u0627\\u0644\\u064a\\u0648\\u0645\\u064a\\u0627\\u062a \\u0645\\u0631\\u0629 \\u0623\\u062e\\u0631\\u0649\\n \\u0646\\u0627\\u062a\\u0627\\u0644\\u064a: \\u0623\\u0646\\u0627 \\u0648\\u062d\\u064a\\u062f \\u0627\\u0644\\u0642\\u0631\\u0646 xd\\n \\u0643\\u0631\\u064a\\u0633\\u062a\\u064a\\u0646: \\u0647\\u0627\\u0647\\u0627\\u0647\\u0627 \\u0646\\u0639\\u0645 \\u0623\\u0639\\u0631\\u0641 \\u0628\\u0627\\u0644\\u0636\\u0628\\u0637 \\u0643\\u064a\\u0641 \\u064a\\u0628\\u062f\\u0648 \\u0627\\u0644\\u0623\\u0645\\u0631\\n \\u0643\\u0631\\u064a\\u0633\\u062a\\u064a\\u0646: \\u0623\\u0646\\u0627 \\u0646\\u0641\\u0633\\u064a \\u0623\\u0643\\u0644\\u062a \\u062d\\u0627\\u0646\\u0629 \\u0623\\u0645\\u0633 \\u0648\\u0627\\u0644\\u064a\\u0648\\u0645 ...\\n \\u0643\\u0631\\u064a\\u0633\\u062a\\u064a\\u0646: <file_gif>\\n \\u062f\\u0627\\u0646\\u0627: \\u0647\\u0644 \\u0623\\u0646\\u0627 \\u0627\\u0644\\u0634\\u062e\\u0635 \\u0627\\u0644\\u0648\\u062d\\u064a\\u062f \\u0641\\u064a \\u0627\\u0644\\u0639\\u0627\\u0644\\u0645 \\u0627\\u0644\\u0630\\u064a \\u064a\\u0645\\u0643\\u0646 \\u0623\\u0646 \\u064a\\u0623\\u0643\\u0644 \\u0645\\u0630\\u0643\\u0631\\u0627\\u062a \\u0645\\u062b\\u0644 \\u0647\\u0630\\u0627 \\u061f: \\u062f\\n \\u0646\\u0627\\u062a\\u0627\\u0644\\u064a: <file_gif>\",\n          \"\\u0627\\u0644\\u0634\\u062e\\u0635 1: \\u0627\\u0644\\u0631\\u062c\\u0627\\u0621 \\u0645\\u0633\\u0627\\u0639\\u062f\\u0629 \\u0646\\u0641\\u0633\\u0643 \\u0641\\u064a \\u0623\\u0637\\u0628\\u0627\\u0642\\u0643.\\u0623\\u062a\\u0645\\u0646\\u0649 \\u0623\\u0646 \\u062a\\u0633\\u062a\\u0645\\u062a\\u0639 \\u0628\\u0645\\u0627 \\u062d\\u0635\\u0644\\u062a \\u0639\\u0644\\u064a\\u0647.\\n  \\u0627\\u0644\\u0634\\u062e\\u0635 2: \\u064a\\u0646\\u0627\\u0633\\u0628 \\u0630\\u0648\\u0642\\u064a.\\u0623\\u0646\\u062a \\u062d\\u0642\\u0627 \\u0637\\u0628\\u0627\\u062e \\u062c\\u064a\\u062f.\\n  \\u0627\\u0644\\u0634\\u062e\\u0635 1: \\u0647\\u0644 \\u062a\\u0631\\u063a\\u0628 \\u0641\\u064a \\u062a\\u062c\\u0631\\u0628\\u0629 \\u0648\\u0635\\u0641\\u062a\\u064a \\u0627\\u0644\\u062e\\u0627\\u0635\\u0629\\u061f\\n  \\u0627\\u0644\\u0634\\u062e\\u0635 2: \\u0648\\u0627\\u0648 \\u060c \\u062f\\u0639\\u0646\\u064a \\u0623\\u062d\\u0627\\u0648\\u0644.\\u0637\\u0639\\u0645\\u0647\\u0627 \\u062c\\u0645\\u064a\\u0644.\\u0643\\u064a\\u0641 \\u062a\\u062c\\u0639\\u0644 \\u0630\\u0644\\u0643\\u061f\\n  \\u0627\\u0644\\u0634\\u062e\\u0635 1: \\u0625\\u0646\\u0647 \\u0633\\u0647\\u0644 \\u0645\\u062b\\u0644 \\u0641\\u0637\\u064a\\u0631\\u0629.\\u0623\\u0646\\u0627 \\u062f\\u0627\\u0626\\u0645\\u0627 \\u0627\\u062a\\u0628\\u0639 \\u0627\\u0644\\u0648\\u0635\\u0641\\u0627\\u062a.\"\n        ],\n        \"semantic_type\": \"\",\n        \"description\": \"\"\n      }\n    },\n    {\n      \"column\": \"summary\",\n      \"properties\": {\n        \"dtype\": \"string\",\n        \"num_unique_values\": 5,\n        \"samples\": [\n          \"\\u0627\\u0644\\u0628\\u0631\\u0648\\u0641\\u064a\\u0633\\u0648\\u0631.\\u064a\\u0642\\u062f\\u0645 \\u064a\\u0627\\u0646\\u063a \\u0628\\u0639\\u0636 \\u0627\\u0644\\u0646\\u0635\\u0627\\u0626\\u062d \\u062d\\u0648\\u0644 \\u0627\\u0644\\u062c\\u0648\\u0627\\u0646\\u0628 \\u0627\\u0644\\u0642\\u0627\\u0646\\u0648\\u0646\\u064a\\u0629 \\u0644\\u0644\\u0623\\u0639\\u0645\\u0627\\u0644 \\u0627\\u0644\\u062f\\u0648\\u0644\\u064a\\u0629.\\u0627\\u0644\\u0628\\u0631\\u0648\\u0641\\u064a\\u0633\\u0648\\u0631.\\u064a\\u062a\\u062d\\u062f\\u062b \\u064a\\u0627\\u0646\\u063a \\u0639\\u0646 \\u0627\\u0644\\u0645\\u0648\\u0631\\u062f \\u0627\\u0644\\u0645\\u062a\\u0627\\u062d \\u0644\\u0644\\u062a\\u062e\\u0644\\u0641 \\u0639\\u0646 \\u0627\\u0644\\u0633\\u062f\\u0627\\u062f \\u0623\\u0648 \\u062e\\u0631\\u0642 \\u0627\\u0644\\u0639\\u0642\\u062f \\u0645\\u0646 \\u0642\\u0628\\u0644 \\u0627\\u0644\\u0639\\u0645\\u0644\\u0627\\u0621 \\u060c \\u0648\\u0623\\u0647\\u0645\\u064a\\u0629 \\u0639\\u0642\\u062f \\u0627\\u0644\\u0639\\u0645\\u0644 \\u0627\\u0644\\u062f\\u0648\\u0644\\u064a \\u0627\\u0644\\u062f\\u0642\\u064a\\u0642 \\u0648\\u0627\\u0644\\u0645\\u062d\\u062f\\u062f \\u0648\\u0627\\u0644\\u0634\\u0627\\u0645\\u0644 \\u060c \\u0648\\u0645\\u0627 \\u064a\\u062c\\u0628 \\u0627\\u0644\\u0642\\u064a\\u0627\\u0645 \\u0628\\u0647 \\u0625\\u0630\\u0627 \\u0646\\u0634\\u0623 \\u0646\\u0632\\u0627\\u0639 \\u060c \\u0648\\u0637\\u0631\\u064a\\u0642\\u0629 \\u062d\\u0645\\u0627\\u064a\\u0629 \\u0628\\u0631\\u0627\\u0621\\u0627\\u062a \\u0627\\u0644\\u0627\\u062e\\u062a\\u0631\\u0627\\u0639 \\u0648\\u0633\\u0648\\u0642 \\u0627\\u0644\\u062a\\u062c\\u0627\\u0631\\u0629 \\u0641\\u064a \\u0627\\u0644\\u062e\\u0627\\u0631\\u062c \\u060c\\u0648\\u0627\\u0644\\u0625\\u0637\\u0627\\u0631 \\u0627\\u0644\\u0642\\u0627\\u0646\\u0648\\u0646\\u064a \\u0627\\u0644\\u062d\\u0627\\u0644\\u064a \\u0641\\u064a \\u0622\\u0633\\u064a\\u0627.\",\n          \"\\u0623\\u0631\\u0633\\u0644\\u062a \\u0646\\u0627\\u062a\\u0627\\u0644\\u064a \\u0635\\u0648\\u0631\\u0629 \\u0644\\u0643\\u0631\\u064a\\u0633\\u062a\\u064a\\u0646 \\u0648\\u062f\\u0627\\u0646\\u0627.\\u0623\\u0646\\u0647\\u0627 \\u062a\\u0643\\u0645\\u0644 \\u0639\\u0644\\u0649 \\u0627\\u0644\\u0641\\u0633\\u062a\\u0627\\u0646.\\u0646\\u0627\\u062a\\u0627\\u0644\\u064a \\u0648\\u0643\\u0631\\u064a\\u0633\\u062a\\u064a\\u0646 \\u0644\\u062f\\u064a\\u0647\\u0645 \\u0645\\u0634\\u0643\\u0644\\u0629 \\u0645\\u0639 \\u064a\\u0648\\u0645\\u064a\\u0627\\u062a.\\u062f\\u0627\\u0646\\u0627 \\u0644\\u0645 \\u062a\\u0641\\u0639\\u0644.\",\n          \"\\u0627\\u0644\\u0634\\u062e\\u0635 1 \\u064a\\u0633\\u0623\\u0644 \\u0627\\u0644\\u0634\\u062e\\u0635 2 \\u0645\\u0646 \\u062a\\u062c\\u0631\\u0628\\u0629 \\u0627\\u0644\\u0648\\u0635\\u0641\\u0629 \\u0627\\u0644\\u062e\\u0627\\u0635\\u0629 \\u0644\\u0644\\u0634\\u062e\\u0635 1 \\u0627\\u0644\\u0630\\u064a \\u064a\\u0639\\u062a\\u0642\\u062f \\u0627\\u0644\\u0634\\u062e\\u0635 2 \\u0644\\u0637\\u064a\\u0641\\u064b\\u0627.\"\n        ],\n        \"semantic_type\": \"\",\n        \"description\": \"\"\n      }\n    },\n    {\n      \"column\": \"summary_length\",\n      \"properties\": {\n        \"dtype\": \"number\",\n        \"std\": 109,\n        \"min\": 64,\n        \"max\": 324,\n        \"num_unique_values\": 5,\n        \"samples\": [\n          324,\n          106,\n          78\n        ],\n        \"semantic_type\": \"\",\n        \"description\": \"\"\n      }\n    },\n    {\n      \"column\": \"dialogue_length\",\n      \"properties\": {\n        \"dtype\": \"number\",\n        \"std\": 776,\n        \"min\": 205,\n        \"max\": 2053,\n        \"num_unique_values\": 5,\n        \"samples\": [\n          2053,\n          523,\n          256\n        ],\n        \"semantic_type\": \"\",\n        \"description\": \"\"\n      }\n    }\n  ]\n}"
            }
          },
          "metadata": {},
          "execution_count": 164
        }
      ]
    },
    {
      "cell_type": "code",
      "source": [
        "!pip install pyarabic"
      ],
      "metadata": {
        "colab": {
          "base_uri": "https://localhost:8080/"
        },
        "id": "LrootY-LBLYJ",
        "outputId": "946cbd45-1b50-47a8-a145-430dcfb524fa"
      },
      "id": "LrootY-LBLYJ",
      "execution_count": 165,
      "outputs": [
        {
          "output_type": "stream",
          "name": "stdout",
          "text": [
            "Requirement already satisfied: pyarabic in /usr/local/lib/python3.10/dist-packages (0.6.15)\n",
            "Requirement already satisfied: six>=1.14.0 in /usr/local/lib/python3.10/dist-packages (from pyarabic) (1.16.0)\n"
          ]
        }
      ]
    },
    {
      "cell_type": "code",
      "source": [
        "import re\n",
        "from pyarabic.araby import strip_tashkeel , strip_harakat , strip_tatweel , normalize_hamza"
      ],
      "metadata": {
        "id": "dsLpk3l8BIib"
      },
      "id": "dsLpk3l8BIib",
      "execution_count": 166,
      "outputs": []
    },
    {
      "cell_type": "code",
      "source": [
        "!pip install emoji"
      ],
      "metadata": {
        "colab": {
          "base_uri": "https://localhost:8080/"
        },
        "id": "7Ao4BO3zDebS",
        "outputId": "3c45f0f1-8341-4aab-a2ca-25be8e2d134c"
      },
      "id": "7Ao4BO3zDebS",
      "execution_count": 167,
      "outputs": [
        {
          "output_type": "stream",
          "name": "stdout",
          "text": [
            "Requirement already satisfied: emoji in /usr/local/lib/python3.10/dist-packages (2.12.1)\n",
            "Requirement already satisfied: typing-extensions>=4.7.0 in /usr/local/lib/python3.10/dist-packages (from emoji) (4.12.2)\n"
          ]
        }
      ]
    },
    {
      "cell_type": "code",
      "source": [
        "import emoji"
      ],
      "metadata": {
        "id": "s01J0h9SDrEX"
      },
      "id": "s01J0h9SDrEX",
      "execution_count": 168,
      "outputs": []
    },
    {
      "cell_type": "code",
      "source": [
        "numbers = r'[\\d+]'\n",
        "punct = r'[^\\w\\s]'\n",
        "pattern_n =r'[^[[\\w][\\n]'\n",
        "pattern_eng = r'([A-Za-z])\\w+'\n",
        "re_patterns = '|'.join([numbers,punct])"
      ],
      "metadata": {
        "id": "BI3iRwIdB_yZ"
      },
      "id": "BI3iRwIdB_yZ",
      "execution_count": 169,
      "outputs": []
    },
    {
      "cell_type": "code",
      "source": [
        "def clean_data(text):\n",
        "  text = re.sub(numbers , '' , text)\n",
        "  text = re.sub(pattern_n , ' ' , text)\n",
        "  text = re.sub(pattern_eng , '' , text)\n",
        "  text = re.sub(punct , '' , text)\n",
        "  text=re.sub(re_patterns,'',text)\n",
        "  text = strip_tashkeel(text)\n",
        "  text = normalize_hamza(text)\n",
        "\n",
        "\n",
        "  return text"
      ],
      "metadata": {
        "id": "zOtaD4IPDuxw"
      },
      "id": "zOtaD4IPDuxw",
      "execution_count": 170,
      "outputs": []
    },
    {
      "cell_type": "code",
      "source": [
        "df['summary'] = df['summary'].apply(clean_data)\n",
        "df['dialogue'] = df['dialogue'].apply(clean_data)\n"
      ],
      "metadata": {
        "id": "u8cS03tQCDNw"
      },
      "id": "u8cS03tQCDNw",
      "execution_count": 171,
      "outputs": []
    },
    {
      "cell_type": "code",
      "source": [
        "df.head()"
      ],
      "metadata": {
        "colab": {
          "base_uri": "https://localhost:8080/",
          "height": 206
        },
        "id": "F_HDbEd2IxRW",
        "outputId": "31f67895-46ce-4580-cb4e-ae8795eb670a"
      },
      "id": "F_HDbEd2IxRW",
      "execution_count": 172,
      "outputs": [
        {
          "output_type": "execute_result",
          "data": {
            "text/plain": [
              "   Unnamed: 0                                           dialogue  \\\n",
              "0         131  الشخص  ماذا تريد لتناول الءفطار   الشخص  حسنا ...   \n",
              "1         743  الشخص  ءءسفاعذرنيتلقيت رسالتك   الشخص  تايلورت...   \n",
              "2         281  ءيلا مرحبا هناككيفلم ءسمع منك على مر العصور  ف...   \n",
              "3         790  لوكاس سالي يرجى العثور على الدعوة الرسمية المر...   \n",
              "4         293  الشخص  واو  هناك الكثير من الفوانيس لتقديرهاال...   \n",
              "\n",
              "                                             summary  summary_length  \\\n",
              "0  الشخص  والشخص  يتحدثان عما يجب رءيته اليومسوف ...              97   \n",
              "1  لقد دهش الشخص  للحصول على رسالة تايلور التي يع...             144   \n",
              "2  ءيلا لديها علة في المعدة سيءة  هي في ءلميقترح ...             167   \n",
              "3  تمت دعوة كاثرين دوم من قبل لوكاس سالي لءجراء م...             110   \n",
              "4  الشخص  والشخص  يقدران الفوانيسيسءل الشخص  عن م...             108   \n",
              "\n",
              "   dialogue_length  \n",
              "0              731  \n",
              "1              359  \n",
              "2             1589  \n",
              "3              344  \n",
              "4              950  "
            ],
            "text/html": [
              "\n",
              "  <div id=\"df-b3e0016e-28f1-48a0-b124-5d2a3d0bb4e5\" class=\"colab-df-container\">\n",
              "    <div>\n",
              "<style scoped>\n",
              "    .dataframe tbody tr th:only-of-type {\n",
              "        vertical-align: middle;\n",
              "    }\n",
              "\n",
              "    .dataframe tbody tr th {\n",
              "        vertical-align: top;\n",
              "    }\n",
              "\n",
              "    .dataframe thead th {\n",
              "        text-align: right;\n",
              "    }\n",
              "</style>\n",
              "<table border=\"1\" class=\"dataframe\">\n",
              "  <thead>\n",
              "    <tr style=\"text-align: right;\">\n",
              "      <th></th>\n",
              "      <th>Unnamed: 0</th>\n",
              "      <th>dialogue</th>\n",
              "      <th>summary</th>\n",
              "      <th>summary_length</th>\n",
              "      <th>dialogue_length</th>\n",
              "    </tr>\n",
              "  </thead>\n",
              "  <tbody>\n",
              "    <tr>\n",
              "      <th>0</th>\n",
              "      <td>131</td>\n",
              "      <td>الشخص  ماذا تريد لتناول الءفطار   الشخص  حسنا ...</td>\n",
              "      <td>الشخص  والشخص  يتحدثان عما يجب رءيته اليومسوف ...</td>\n",
              "      <td>97</td>\n",
              "      <td>731</td>\n",
              "    </tr>\n",
              "    <tr>\n",
              "      <th>1</th>\n",
              "      <td>743</td>\n",
              "      <td>الشخص  ءءسفاعذرنيتلقيت رسالتك   الشخص  تايلورت...</td>\n",
              "      <td>لقد دهش الشخص  للحصول على رسالة تايلور التي يع...</td>\n",
              "      <td>144</td>\n",
              "      <td>359</td>\n",
              "    </tr>\n",
              "    <tr>\n",
              "      <th>2</th>\n",
              "      <td>281</td>\n",
              "      <td>ءيلا مرحبا هناككيفلم ءسمع منك على مر العصور  ف...</td>\n",
              "      <td>ءيلا لديها علة في المعدة سيءة  هي في ءلميقترح ...</td>\n",
              "      <td>167</td>\n",
              "      <td>1589</td>\n",
              "    </tr>\n",
              "    <tr>\n",
              "      <th>3</th>\n",
              "      <td>790</td>\n",
              "      <td>لوكاس سالي يرجى العثور على الدعوة الرسمية المر...</td>\n",
              "      <td>تمت دعوة كاثرين دوم من قبل لوكاس سالي لءجراء م...</td>\n",
              "      <td>110</td>\n",
              "      <td>344</td>\n",
              "    </tr>\n",
              "    <tr>\n",
              "      <th>4</th>\n",
              "      <td>293</td>\n",
              "      <td>الشخص  واو  هناك الكثير من الفوانيس لتقديرهاال...</td>\n",
              "      <td>الشخص  والشخص  يقدران الفوانيسيسءل الشخص  عن م...</td>\n",
              "      <td>108</td>\n",
              "      <td>950</td>\n",
              "    </tr>\n",
              "  </tbody>\n",
              "</table>\n",
              "</div>\n",
              "    <div class=\"colab-df-buttons\">\n",
              "\n",
              "  <div class=\"colab-df-container\">\n",
              "    <button class=\"colab-df-convert\" onclick=\"convertToInteractive('df-b3e0016e-28f1-48a0-b124-5d2a3d0bb4e5')\"\n",
              "            title=\"Convert this dataframe to an interactive table.\"\n",
              "            style=\"display:none;\">\n",
              "\n",
              "  <svg xmlns=\"http://www.w3.org/2000/svg\" height=\"24px\" viewBox=\"0 -960 960 960\">\n",
              "    <path d=\"M120-120v-720h720v720H120Zm60-500h600v-160H180v160Zm220 220h160v-160H400v160Zm0 220h160v-160H400v160ZM180-400h160v-160H180v160Zm440 0h160v-160H620v160ZM180-180h160v-160H180v160Zm440 0h160v-160H620v160Z\"/>\n",
              "  </svg>\n",
              "    </button>\n",
              "\n",
              "  <style>\n",
              "    .colab-df-container {\n",
              "      display:flex;\n",
              "      gap: 12px;\n",
              "    }\n",
              "\n",
              "    .colab-df-convert {\n",
              "      background-color: #E8F0FE;\n",
              "      border: none;\n",
              "      border-radius: 50%;\n",
              "      cursor: pointer;\n",
              "      display: none;\n",
              "      fill: #1967D2;\n",
              "      height: 32px;\n",
              "      padding: 0 0 0 0;\n",
              "      width: 32px;\n",
              "    }\n",
              "\n",
              "    .colab-df-convert:hover {\n",
              "      background-color: #E2EBFA;\n",
              "      box-shadow: 0px 1px 2px rgba(60, 64, 67, 0.3), 0px 1px 3px 1px rgba(60, 64, 67, 0.15);\n",
              "      fill: #174EA6;\n",
              "    }\n",
              "\n",
              "    .colab-df-buttons div {\n",
              "      margin-bottom: 4px;\n",
              "    }\n",
              "\n",
              "    [theme=dark] .colab-df-convert {\n",
              "      background-color: #3B4455;\n",
              "      fill: #D2E3FC;\n",
              "    }\n",
              "\n",
              "    [theme=dark] .colab-df-convert:hover {\n",
              "      background-color: #434B5C;\n",
              "      box-shadow: 0px 1px 3px 1px rgba(0, 0, 0, 0.15);\n",
              "      filter: drop-shadow(0px 1px 2px rgba(0, 0, 0, 0.3));\n",
              "      fill: #FFFFFF;\n",
              "    }\n",
              "  </style>\n",
              "\n",
              "    <script>\n",
              "      const buttonEl =\n",
              "        document.querySelector('#df-b3e0016e-28f1-48a0-b124-5d2a3d0bb4e5 button.colab-df-convert');\n",
              "      buttonEl.style.display =\n",
              "        google.colab.kernel.accessAllowed ? 'block' : 'none';\n",
              "\n",
              "      async function convertToInteractive(key) {\n",
              "        const element = document.querySelector('#df-b3e0016e-28f1-48a0-b124-5d2a3d0bb4e5');\n",
              "        const dataTable =\n",
              "          await google.colab.kernel.invokeFunction('convertToInteractive',\n",
              "                                                    [key], {});\n",
              "        if (!dataTable) return;\n",
              "\n",
              "        const docLinkHtml = 'Like what you see? Visit the ' +\n",
              "          '<a target=\"_blank\" href=https://colab.research.google.com/notebooks/data_table.ipynb>data table notebook</a>'\n",
              "          + ' to learn more about interactive tables.';\n",
              "        element.innerHTML = '';\n",
              "        dataTable['output_type'] = 'display_data';\n",
              "        await google.colab.output.renderOutput(dataTable, element);\n",
              "        const docLink = document.createElement('div');\n",
              "        docLink.innerHTML = docLinkHtml;\n",
              "        element.appendChild(docLink);\n",
              "      }\n",
              "    </script>\n",
              "  </div>\n",
              "\n",
              "\n",
              "<div id=\"df-d472c87c-4e48-4899-a065-ca256434120e\">\n",
              "  <button class=\"colab-df-quickchart\" onclick=\"quickchart('df-d472c87c-4e48-4899-a065-ca256434120e')\"\n",
              "            title=\"Suggest charts\"\n",
              "            style=\"display:none;\">\n",
              "\n",
              "<svg xmlns=\"http://www.w3.org/2000/svg\" height=\"24px\"viewBox=\"0 0 24 24\"\n",
              "     width=\"24px\">\n",
              "    <g>\n",
              "        <path d=\"M19 3H5c-1.1 0-2 .9-2 2v14c0 1.1.9 2 2 2h14c1.1 0 2-.9 2-2V5c0-1.1-.9-2-2-2zM9 17H7v-7h2v7zm4 0h-2V7h2v10zm4 0h-2v-4h2v4z\"/>\n",
              "    </g>\n",
              "</svg>\n",
              "  </button>\n",
              "\n",
              "<style>\n",
              "  .colab-df-quickchart {\n",
              "      --bg-color: #E8F0FE;\n",
              "      --fill-color: #1967D2;\n",
              "      --hover-bg-color: #E2EBFA;\n",
              "      --hover-fill-color: #174EA6;\n",
              "      --disabled-fill-color: #AAA;\n",
              "      --disabled-bg-color: #DDD;\n",
              "  }\n",
              "\n",
              "  [theme=dark] .colab-df-quickchart {\n",
              "      --bg-color: #3B4455;\n",
              "      --fill-color: #D2E3FC;\n",
              "      --hover-bg-color: #434B5C;\n",
              "      --hover-fill-color: #FFFFFF;\n",
              "      --disabled-bg-color: #3B4455;\n",
              "      --disabled-fill-color: #666;\n",
              "  }\n",
              "\n",
              "  .colab-df-quickchart {\n",
              "    background-color: var(--bg-color);\n",
              "    border: none;\n",
              "    border-radius: 50%;\n",
              "    cursor: pointer;\n",
              "    display: none;\n",
              "    fill: var(--fill-color);\n",
              "    height: 32px;\n",
              "    padding: 0;\n",
              "    width: 32px;\n",
              "  }\n",
              "\n",
              "  .colab-df-quickchart:hover {\n",
              "    background-color: var(--hover-bg-color);\n",
              "    box-shadow: 0 1px 2px rgba(60, 64, 67, 0.3), 0 1px 3px 1px rgba(60, 64, 67, 0.15);\n",
              "    fill: var(--button-hover-fill-color);\n",
              "  }\n",
              "\n",
              "  .colab-df-quickchart-complete:disabled,\n",
              "  .colab-df-quickchart-complete:disabled:hover {\n",
              "    background-color: var(--disabled-bg-color);\n",
              "    fill: var(--disabled-fill-color);\n",
              "    box-shadow: none;\n",
              "  }\n",
              "\n",
              "  .colab-df-spinner {\n",
              "    border: 2px solid var(--fill-color);\n",
              "    border-color: transparent;\n",
              "    border-bottom-color: var(--fill-color);\n",
              "    animation:\n",
              "      spin 1s steps(1) infinite;\n",
              "  }\n",
              "\n",
              "  @keyframes spin {\n",
              "    0% {\n",
              "      border-color: transparent;\n",
              "      border-bottom-color: var(--fill-color);\n",
              "      border-left-color: var(--fill-color);\n",
              "    }\n",
              "    20% {\n",
              "      border-color: transparent;\n",
              "      border-left-color: var(--fill-color);\n",
              "      border-top-color: var(--fill-color);\n",
              "    }\n",
              "    30% {\n",
              "      border-color: transparent;\n",
              "      border-left-color: var(--fill-color);\n",
              "      border-top-color: var(--fill-color);\n",
              "      border-right-color: var(--fill-color);\n",
              "    }\n",
              "    40% {\n",
              "      border-color: transparent;\n",
              "      border-right-color: var(--fill-color);\n",
              "      border-top-color: var(--fill-color);\n",
              "    }\n",
              "    60% {\n",
              "      border-color: transparent;\n",
              "      border-right-color: var(--fill-color);\n",
              "    }\n",
              "    80% {\n",
              "      border-color: transparent;\n",
              "      border-right-color: var(--fill-color);\n",
              "      border-bottom-color: var(--fill-color);\n",
              "    }\n",
              "    90% {\n",
              "      border-color: transparent;\n",
              "      border-bottom-color: var(--fill-color);\n",
              "    }\n",
              "  }\n",
              "</style>\n",
              "\n",
              "  <script>\n",
              "    async function quickchart(key) {\n",
              "      const quickchartButtonEl =\n",
              "        document.querySelector('#' + key + ' button');\n",
              "      quickchartButtonEl.disabled = true;  // To prevent multiple clicks.\n",
              "      quickchartButtonEl.classList.add('colab-df-spinner');\n",
              "      try {\n",
              "        const charts = await google.colab.kernel.invokeFunction(\n",
              "            'suggestCharts', [key], {});\n",
              "      } catch (error) {\n",
              "        console.error('Error during call to suggestCharts:', error);\n",
              "      }\n",
              "      quickchartButtonEl.classList.remove('colab-df-spinner');\n",
              "      quickchartButtonEl.classList.add('colab-df-quickchart-complete');\n",
              "    }\n",
              "    (() => {\n",
              "      let quickchartButtonEl =\n",
              "        document.querySelector('#df-d472c87c-4e48-4899-a065-ca256434120e button');\n",
              "      quickchartButtonEl.style.display =\n",
              "        google.colab.kernel.accessAllowed ? 'block' : 'none';\n",
              "    })();\n",
              "  </script>\n",
              "</div>\n",
              "\n",
              "    </div>\n",
              "  </div>\n"
            ],
            "application/vnd.google.colaboratory.intrinsic+json": {
              "type": "dataframe",
              "variable_name": "df",
              "summary": "{\n  \"name\": \"df\",\n  \"rows\": 800,\n  \"fields\": [\n    {\n      \"column\": \"Unnamed: 0\",\n      \"properties\": {\n        \"dtype\": \"number\",\n        \"std\": 289,\n        \"min\": 0,\n        \"max\": 999,\n        \"num_unique_values\": 800,\n        \"samples\": [\n          133,\n          73,\n          850\n        ],\n        \"semantic_type\": \"\",\n        \"description\": \"\"\n      }\n    },\n    {\n      \"column\": \"dialogue\",\n      \"properties\": {\n        \"dtype\": \"string\",\n        \"num_unique_values\": 797,\n        \"samples\": [\n          \"\\u0627\\u0644\\u0634\\u062e\\u0635  \\u0637\\u0631\\u0642 \\u0639\\u0644\\u0649 \\u0627\\u0644\\u0628\\u0627\\u0628 \\u062a\\u0639\\u0627\\u0644  \\u0645\\u0646 \\u0641\\u0636\\u0644\\u0643   \\u0627\\u0644\\u0634\\u062e\\u0635  \\u0645\\u0631\\u062d\\u0628\\u0627  \\u0643\\u064a\\u062a\\u0621\\u064a\\u0646 \\u062c\\u064a\\u0646\\u0621\\u0631\\u064a\\u062f\\u0647\\u0627 \\u0621\\u0646 \\u062a\\u0643\\u062a\\u0628 \\u0647\\u0630\\u0647 \\u0627\\u0644\\u0631\\u0633\\u0627\\u0644\\u0629 \\u0644\\u064a   \\u0627\\u0644\\u0634\\u062e\\u0635  \\u0621\\u062e\\u0634\\u0649 \\u0621\\u0646\\u0647\\u0627 \\u0644\\u0627 \\u062a\\u0633\\u062a\\u0637\\u064a\\u0639 \\u0630\\u0644\\u0643  \\u062a\\u0648\\u0645\\u0621\\u0646\\u0647\\u0627 \\u0644\\u0627 \\u062a\\u0639\\u0645\\u0644 \\u0627\\u0644\\u064a\\u0648\\u0645   \\u0627\\u0644\\u0634\\u062e\\u0635  \\u0621\\u0648\\u0647  \\u0644\\u0645\\u0627\\u0630\\u0627\\u0647\\u0644 \\u0647\\u064a \\u0645\\u0631\\u064a\\u0636\\u0629   \\u0627\\u0644\\u0634\\u062e\\u0635  \\u0644\\u0627\\u0621\\u0646\\u0647\\u0627 \\u062a\\u062f\\u0631\\u0633 \\u0644\\u0627\\u0645\\u062a\\u062d\\u0627\\u0646   \\u0627\\u0644\\u0634\\u062e\\u0635  \\u0627\\u0645\\u062a\\u062d\\u0627\\u0646\\u0647\\u0644 \\u0633\\u062a\\u0630\\u0647\\u0628 \\u0621\\u0644\\u0649 \\u0627\\u0644\\u0645\\u062f\\u0631\\u0633\\u0629   \\u0627\\u0644\\u0634\\u062e\\u0635  \\u0646\\u0639\\u0645  \\u0647\\u064a\\u0621\\u0646\\u0647\\u0627 \\u062a\\u062a\\u0639\\u0644\\u0645 \\u0627\\u0644\\u064a\\u0627\\u0628\\u0627\\u0646\\u064a\\u0629 \\u0641\\u064a \\u0627\\u0644\\u0645\\u062f\\u0631\\u0633\\u0629 \\u0627\\u0644\\u0644\\u064a\\u0644\\u064a\\u0629   \\u0627\\u0644\\u0634\\u062e\\u0635  \\u0621\\u0631\\u0649\\u0647\\u0644 \\u0633\\u062a\\u0630\\u0647\\u0628 \\u0621\\u0644\\u0649 \\u0627\\u0644\\u0645\\u062f\\u0631\\u0633\\u0629 \\u0627\\u0644\\u0644\\u064a\\u0644\\u064a\\u0629 \\u0621\\u064a\\u0636\\u0627   \\u0627\\u0644\\u0634\\u062e\\u0635  \\u0644\\u0627  \\u0644\\u0633\\u062a \\u0643\\u0630\\u0644\\u0643  \\u0644\\u064a\\u0633 \\u0647\\u0630\\u0627 \\u0627\\u0644\\u0639\\u0627\\u0645\\u0644\\u0643\\u0646\\u0646\\u064a \\u0621\\u0641\\u0643\\u0631 \\u0641\\u064a \\u0621\\u062e\\u0630 \\u062f\\u0648\\u0631\\u0629 \\u0641\\u064a \\u0627\\u0644\\u0639\\u0627\\u0645 \\u0627\\u0644\\u0645\\u0642\\u0628\\u0644   \\u0627\\u0644\\u0634\\u062e\\u0635  \\u0647\\u0630\\u0647 \\u0641\\u0643\\u0631\\u0629 \\u062c\\u064a\\u062f\\u0629\\u0647\\u0644 \\u0647\\u0649 \\u0645\\u0643\\u0644\\u0641\\u0629   \\u0627\\u0644\\u0634\\u062e\\u0635  \\u0644\\u0627  \\u0644\\u064a\\u0633 \\u062c\\u062f\\u0627\\u0639\\u0644\\u0649 \\u0621\\u064a \\u062d\\u0627\\u0644  \\u0627\\u0644\\u0621\\u0645\\u0631 \\u064a\\u0633\\u062a\\u062d\\u0642 \\u0627\\u0644\\u0645\\u0627\\u0644\",\n          \"\\u0647\\u0627\\u0631\\u0648\\u0646 \\u0647\\u0644 \\u062a\\u0631\\u064a\\u062f \\u0633\\u0645\\u0627\\u0639 \\u0645\\u0632\\u062d\\u0629 \\u0635\\n \\u0641\\u064a\\u0644\\u064a\\u0628 \\u0644\\u0627  \\u0644\\u0627    \\u0647\\u0627\\u0631\\u0648\\u0646 \\u0647\\u0643\\u0630\\u0627   \\u0641\\u064a\\u0644\\u064a\\u0628 \\u0642\\u0644\\u062a \\u0644\\u0627  \\u0647\\u0627\\u0631\\u0648\\u0646   \\u0639\\u0644\\u0649 \\u0621\\u064a \\u062d\\u0627\\u0644  \\u0645\\u0627 \\u0627\\u0644\\u0621\\u0645\\u0631  \\u0641\\u064a\\u0644\\u064a\\u0628 \\u0644\\u0642\\u062f \\u0642\\u0636\\u064a\\u062a \\u064a\\u0648\\u0645 \\u0631\\u0647\\u064a\\u0628   \\u0621\\u0621\\u0631\\u0648\\u0646   \\u0628\\u0635\\u0642\\u0647\\u0627\\n \\u0641\\u064a\\u0644\\u064a\\u0628 \\u063a\\u0636\\u0628 \\u062f\\u064a\\u0632\\u064a \\u0645\\u0646\\u064a  \\u0644\\u0621\\u0646\\u0646\\u064a \\u0646\\u0633\\u064a\\u062a \\u0639\\u0634\\u0627\\u0621 \\u0627\\u0644\\u0630\\u0643\\u0631\\u0649 \\u0627\\u0644\\u0633\\u0646\\u0648\\u064a\\u0629   \\u0647\\u0627\\u0631\\u0648\\u0646 \\u0644\\u0643\\u0646 \\u0644\\u0627 \\u064a\\u0632\\u0627\\u0644 \\u0628\\u0621\\u0645\\u0643\\u0627\\u0646\\u0643 \\u0627\\u0644\\u0630\\u0647\\u0627\\u0628  \\u0621\\u0644\\u064a\\u0633 \\u0643\\u0630\\u0644\\u0643  \\u0641\\u064a\\u0644\\u064a\\u0628 \\u0644\\u064a\\u0633 \\u0628\\u0627\\u0644\\u0636\\u0628\\u0637  \\u0643\\u0646\\u062a \\u0641\\u064a \\u0637\\u0631\\u064a\\u0642\\u064a \\u0621\\u0644\\u0649 \\u062d\\u0641\\u0644\\u0629 \\u0645\\u0639 \\u0621\\u0648\\u0644\\u0627\\u062f \\u0645\\u0646 \\u0627\\u0644\\u0639\\u0645\\u0644  \\u0621\\u0631\\u062a\\u062f\\u064a \\u0645\\u0644\\u0627\\u0628\\u0633 \\u062f\\u062c\\u0627\\u062c oo\\n \\u0647\\u0627\\u0631\\u0648\\u0646 \\u0647\\u0647\\u0647\\u0647\\u0647\\u0647\\u0647\\u0647\\u0647\\u0647\\u0647\\u0647\\u0647\\u0647\\u0647\\u0647\\u0647\\u0647\\u0647\\u0647\\u0647\\u0647\\u0647\\u0647\\u0647\\u0647\\u0647\\u0647\\u0647\\u0647\\u0647\\u0647\\u0647\\u0647\\u0647\\u0647\\u0647\\u0647\\u0647\\u0647\\u0647\\u0647\\n \\u0641\\u064a\\u0644\\u064a\\u0628 \\u0621\\u0648\\u0642\\u0641\\u0647  \\u0621\\u0646\\u0647 \\u062c\\u0627\\u062f   \\u0647\\u0627\\u0631\\u0648\\u0646 \\u0644\\u0648\\u0648\\u0648\\u0644\\n \\u0641\\u064a\\u0644\\u064a\\u0628 \\u0642\\u0627\\u0644\\u062a \\u0621\\u0646\\u0647\\u0627 \\u062a\\u0631\\u064a\\u062f \\u0627\\u0644\\u0627\\u0646\\u0641\\u0635\\u0627\\u0644 \\u0645\\u0639\\u064a   \\u0621\\u0621\\u0631\\u0648\\u0646 \\u0643\\u0645\\u0627 \\u0647\\u0648 \\u0627\\u0644\\u062d\\u0627\\u0644 \\u062f\\u0627\\u0621\\u0645\\u0627  \\u0633\\u0648\\u0641 \\u062a\\u0628\\u0631\\u062f \\u0642\\u0644\\u064a\\u0644\\u0627 \\u0648\\u0633\\u062a\\u0643\\u0648\\u0646 \\u0639\\u0644\\u0649 \\u0645\\u0627 \\u064a\\u0631\\u0627\\u0645  \\u0633\\u062a\\u0631\\u0649  \\u0641\\u064a\\u0644\\u064a\\u0628 \\u0646\\u0639\\u0645  \\u0631\\u0628\\u0645\\u0627\",\n          \"\\u062c\\u0648\\u0646 \\u0645\\u0631\\u062d\\u0628\\u0627 \\u0639\\u0632\\u064a\\u0632\\u062a\\u064a \\u0643\\u064a\\u0641 \\u062d\\u0627\\u0644\\u0643 \\u0627\\u0644\\u0621\\u0621\\u0646  \\u0645\\u0627\\u0631\\u064a \\u0644\\u0627 \\u062a\\u062e\\u062a\\u0644\\u0641 \\u0643\\u062b\\u064a\\u0631\\u0627   \\u062c\\u0648\\u0646 \\u0621\\u0646\\u0627 \\u0621\\u0621\\u0633\\u0641 \\u062c\\u062f\\u0627 \\u0644\\u0621\\u0646\\u0646\\u064a \\u0627\\u0636\\u0637\\u0631\\u0631\\u062a \\u0621\\u0644\\u0649 \\u062a\\u0631\\u0643\\u0643 \\u0641\\u064a \\u0647\\u0630\\u0647 \\u0627\\u0644\\u062d\\u0627\\u0644\\u0629  \\u0645\\u0627\\u0631\\u064a \\u0644\\u0627  \\u0644\\u0627 \\u0628\\u0621\\u0633  \\u0648\\u0621\\u0646\\u0627 \\u0621\\u0639\\u0644\\u0645 \\u0621\\u0646\\u0647\\u0627 \\u0643\\u0627\\u0646\\u062a \\u0639\\u0627\\u062c\\u0644\\u0629\\n \\u062c\\u0648\\u0646 \\u0647\\u0644 \\u0621\\u0643\\u0644\\u062a \\u0634\\u064a\\u0621\\u0627 \\u0644\\u0627 \\u0645\\u0639\\u0646\\u0649 \\u0644\\u0647  \\u0645\\u0627\\u0631\\u064a \\u0644\\u0627   \\u062c\\u0648\\u0646 \\u0621\\u0630\\u0646 \\u0645\\u0627 \\u0647\\u0648 \\u0633\\u0628\\u0628 \\u0627\\u0644\\u0631\\u0645\\u064a  \\u0645\\u0627\\u0631\\u064a \\u0644\\u0627 \\u0621\\u0639\\u0631\\u0641  \\u062c\\u0648\\u0646 \\u062e\\u0630 \\u0645\\u0648\\u0639\\u062f\\u0627 \\u0633\\u0621\\u0639\\u0648\\u062f \\u0628\\u062d\\u0644\\u0648\\u0644 \\u0627\\u0644\\u0633\\u0627\\u0639\\u0629  \\u0645\\u0633\\u0627\\u0621 \\u0648\\u0633\\u0648\\u0641 \\u0646\\u0630\\u0647\\u0628 \\u0645\\u0646\\n \\u0645\\u0627\\u0631\\u064a \\u0644\\u0627  \\u0621\\u0639\\u062a\\u0642\\u062f \\u0621\\u0646\\u0647 \\u0634\\u064a\\u0621 \\u0621\\u0621\\u062e\\u0631   \\u062c\\u0648\\u0646 \\u0645\\u0627\\u0630\\u0627\\u0647\\u0648 \\u0643\\u0644 \\u0634\\u064a\\u0621 \\u0637\\u064a\\u0628  \\u0645\\u0627\\u0631\\u064a \\u0646\\u0639\\u0645  \\u0641\\u0642\\u0637\\n \\u062c\\u0648\\u0646 \\u0641\\u0642\\u0637 \\u064a\\u0627 \\u0644\\u0647\\u0627 \\u0645\\u0646 \\u0637\\u0641\\u0644\\u0644\\u0627 \\u0634\\u064a\\u0621 \\u062c\\u0627\\u062f \\u0635\\u062d\\u064a\\u062d  \\u0645\\u0627\\u0631\\u064a \\u0621\\u0648\\u0647 \\u0644\\u0627  \\u0621\\u0639\\u062a\\u0642\\u062f \\u0621\\u0646\\u0646\\u064a  \\u0644\\u0627 \\u0621\\u0639\\u0631\\u0641 \\u0621\\u0630\\u0627 \\u0643\\u0627\\u0646 \\u064a\\u062c\\u0628 \\u0621\\u0646 \\u0621\\u062e\\u0628\\u0631\\u0643 \\u0647\\u0646\\u0627\\n \\u062c\\u0648\\u0646 \\u062a\\u0639\\u0627\\u0644 \\u0642\\u0644 \\u0644\\u064a  \\u0621\\u0646\\u0627 \\u0642\\u0644\\u0642 \\u0644\\u0644\\u063a\\u0627\\u064a\\u0629\\n \\u0645\\u0627\\u0631\\u064a \\u0621\\u0639\\u062a\\u0642\\u062f \\u0621\\u0646\\u0646\\u064a \\u062d\\u0627\\u0645\\u0644  \\u0644\\u0643\\u0646\\u0646\\u064a \\u0644\\u0633\\u062a \\u0645\\u062a\\u0621\\u0643\\u062f\\u0627\\n \\u062c\\u0648\\u0646 \\u0645\\u0627\\u0630\\u0627 \\u0645\\u062b\\u0644 \\u0641\\u064a \\u0627\\u0644\\u0648\\u0627\\u0642\\u0639\\n \\u0645\\u0627\\u0631\\u064a \\u0621\\u062e\\u0628\\u0631\\u062a\\u0643 \\u0621\\u0646\\u0646\\u064a \\u0644\\u0633\\u062a \\u0645\\u062a\\u0621\\u0643\\u062f\\u0627   \\u062c\\u0648\\u0646 \\u0621\\u0646\\u0627 \\u0642\\u0627\\u062f\\u0645 \\u0641\\u064a \\u063a\\u0636\\u0648\\u0646 \\u0646\\u0635\\u0641 \\u0633\\u0627\\u0639\\u0629 \\u0639\\u0644\\u0649 \\u0627\\u0633\\u062a\\u0639\\u062f\\u0627\\u062f  \\u0633\\u0646\\u0631\\u0649 \\u0627\\u0644\\u0637\\u0628\\u064a\\u0628\\u0644\\u0627 \\u0621\\u0633\\u062a\\u0637\\u064a\\u0639 \\u0627\\u0644\\u0627\\u0646\\u062a\\u0638\\u0627\\u0631 \\u0627\\u0628\\u062a\\u0633\\u0627\\u0645\\u0629  \\u0645\\u0627\\u0631\\u064a \\u0644\\u0627 \\u062a\\u0643\\u0648\\u0646 \\u0645\\u062a\\u062d\\u0645\\u0633\\u0627 \\u062c\\u062f\\u0627 \\u064a\\u0645\\u0643\\u0646\\u0646\\u064a \\u0627\\u0644\\u062d\\u0635\\u0648\\u0644 \\u0639\\u0644\\u0649 \\u0634\\u0631\\u064a\\u0637 \\u0627\\u062e\\u062a\\u0628\\u0627\\u0631 \\u0648\\u0627\\u0644\\u062a\\u062d\\u0642\\u0642   \\u062c\\u0648\\u0646 \\u0644\\u0627 \\u0621\\u0631\\u064a\\u062f \\u0621\\u0646 \\u064a\\u0639\\u0637\\u064a\\u0646\\u064a \\u0627\\u0644\\u0637\\u0628\\u064a\\u0628 \\u0621\\u0646 \\u064a\\u0639\\u0637\\u064a\\u0646\\u064a \\u0627\\u0644\\u0621\\u062e\\u0628\\u0627\\u0631    \\u0645\\u0627\\u0631\\u064a \\u0644\\u0648\\u0644 \\u0627\\u0644\\u062c\\u0646\\u0648\\u0646\\n \\u062c\\u0648\\u0646 \\u0646\\u0639\\u0645 \\u0621\\u0646\\u0627 \\u0645\\u0633\\u062a\\u0639\\u062f \\u0627\\u0644\\u0621\\u0621\\u0646   \\u0645\\u0627\\u0631\\u064a \\u062d\\u0633\\u0646\\u0627\"\n        ],\n        \"semantic_type\": \"\",\n        \"description\": \"\"\n      }\n    },\n    {\n      \"column\": \"summary\",\n      \"properties\": {\n        \"dtype\": \"string\",\n        \"num_unique_values\": 800,\n        \"samples\": [\n          \"\\u064a\\u0630\\u0647\\u0628 \\u063a\\u0631\\u064a\\u0633 \\u0648\\u0646\\u0627\\u062a\\u0627\\u0644\\u064a \\u0621\\u0644\\u0649 \\u0632\\u0648\\u0645\\u0628\\u0627 \\u0627\\u0644\\u064a\\u0648\\u0645 \\u0641\\u064a \\u0627\\u0644\\u0633\\u0627\\u0639\\u0629  \\u0645\\u0633\\u0627\\u0621\\u0633\\u062a\\u062c\\u0644\\u0628 \\u063a\\u0631\\u064a\\u0633 \\u0643\\u062a\\u0627\\u0628 \\u0646\\u0627\\u062a\\u0627\\u0644\\u064a\\u0644\\u0642\\u062f \\u0621\\u0646\\u0647\\u064a\\u062a\\u0647\\u0627 \\u0644\\u064a\\u0644\\u0629 \\u0621\\u0645\\u0633\",\n          \"\\u062a\\u062e\\u0628\\u0631 \\u0644\\u0648\\u0631\\u0627 \\u062a\\u064a\\u0645 \\u0621\\u0646\\u0647 \\u064a\\u062c\\u0628 \\u0639\\u0644\\u064a\\u0647\\u0645 \\u0627\\u0644\\u0628\\u062f\\u0621 \\u0641\\u064a \\u0631\\u0621\\u064a\\u0629 \\u0621\\u0634\\u062e\\u0627\\u0635 \\u0621\\u0621\\u062e\\u0631\\u064a\\u0646 \\u0644\\u0621\\u0646 \\u062a\\u064a\\u0645 \\u062c\\u064a\\u062f \\u062c\\u062f\\u0627 \\u0628\\u0627\\u0644\\u0646\\u0633\\u0628\\u0629 \\u0644\\u0647\\u0627  \\u0644\\u0643\\u0646\\u0647\\u0627 \\u0633\\u062a\\u062c\\u0639\\u0644\\u0647 \\u064a\\u0635\\u0628 \\u0628\\u0621\\u0630\\u0649 \\u0641\\u0642\\u0637\\u062f\\u0647\\u0634 \\u062a\\u064a\\u0645 \\u0648\\u064a\\u0631\\u064a\\u062f \\u0641\\u0631\\u0635\\u0629 \\u0621\\u062e\\u0631\\u0649  \\u0644\\u0643\\u0646 \\u0644\\u0648\\u0631\\u0627 \\u0645\\u0635\\u0645\\u0645\\u0629 \\u0639\\u0644\\u0649 \\u0627\\u0644\\u0645\\u063a\\u0627\\u062f\\u0631\\u0629\",\n          \"\\u0645\\u0627\\u0631\\u064a \\u062a\\u0639\\u062a\\u0642\\u062f \\u0621\\u0646\\u0647\\u0627 \\u062d\\u0627\\u0645\\u0644\\u062c\\u0648\\u0646 \\u064a\\u0631\\u064a\\u062f \\u0621\\u0646 \\u064a\\u0621\\u062e\\u0630\\u0647\\u0627 \\u0621\\u0644\\u0649 \\u0627\\u0644\\u0637\\u0628\\u064a\\u0628 \\u0644\\u062a\\u0621\\u0643\\u064a\\u062f \\u0630\\u0644\\u0643\"\n        ],\n        \"semantic_type\": \"\",\n        \"description\": \"\"\n      }\n    },\n    {\n      \"column\": \"summary_length\",\n      \"properties\": {\n        \"dtype\": \"number\",\n        \"std\": 57,\n        \"min\": 12,\n        \"max\": 761,\n        \"num_unique_values\": 205,\n        \"samples\": [\n          60,\n          39,\n          121\n        ],\n        \"semantic_type\": \"\",\n        \"description\": \"\"\n      }\n    },\n    {\n      \"column\": \"dialogue_length\",\n      \"properties\": {\n        \"dtype\": \"number\",\n        \"std\": 366,\n        \"min\": 50,\n        \"max\": 3472,\n        \"num_unique_values\": 555,\n        \"samples\": [\n          266,\n          392,\n          230\n        ],\n        \"semantic_type\": \"\",\n        \"description\": \"\"\n      }\n    }\n  ]\n}"
            }
          },
          "metadata": {},
          "execution_count": 172
        }
      ]
    },
    {
      "cell_type": "code",
      "source": [
        "df_test['summary'] = df_test['summary'].apply(clean_data)\n",
        "df_test['dialogue'] = df_test['dialogue'].apply(clean_data)"
      ],
      "metadata": {
        "id": "edqGL92jLQxo"
      },
      "id": "edqGL92jLQxo",
      "execution_count": 173,
      "outputs": []
    },
    {
      "cell_type": "code",
      "source": [
        "df_test.head()"
      ],
      "metadata": {
        "colab": {
          "base_uri": "https://localhost:8080/",
          "height": 206
        },
        "id": "sVxwz_6YIkZ6",
        "outputId": "b2b76512-6986-45ec-e87e-a3367e87a347"
      },
      "id": "sVxwz_6YIkZ6",
      "execution_count": 174,
      "outputs": [
        {
          "output_type": "execute_result",
          "data": {
            "text/plain": [
              "   Unnamed: 0                                           dialogue  \\\n",
              "0         340  الشخص  هل هناك ءي خطء   الشخص  ءنا قلق بشءن اب...   \n",
              "1         887  الشخص  لماذا لا نحصل على بعض القمصان يا حبيبي ...   \n",
              "2         635  ساندرا اللعنة هذه العاهرة سخيفءنا ءكرهها كثيرا...   \n",
              "3         101  الشخص  هل يمكنني استعارة خمسة دولارات   الشخص ...   \n",
              "4         765  جودي لنفعل شيءا مجنونا  ليام مثل  تامار بونجي ...   \n",
              "\n",
              "                                             summary  \n",
              "0  يقترح الشخص  الشخص  السماح للطفل باتخاذ قرار خ...  \n",
              "1  يريد الشخص  الحصول على بعض القمصان للشخص   وال...  \n",
              "2  كان ساندرا حجة مع رءيسهاوجدت عرض عمل وهي تفكر ...  \n",
              "3  الشخص  يريد اقتراض المال من الشخص الشخص  يوافق...  \n",
              "4  تريد جودي ءن تفعل شيءا مجنوناليام وتامار تبادل...  "
            ],
            "text/html": [
              "\n",
              "  <div id=\"df-38594896-905c-4e3c-aba7-0d18e424588e\" class=\"colab-df-container\">\n",
              "    <div>\n",
              "<style scoped>\n",
              "    .dataframe tbody tr th:only-of-type {\n",
              "        vertical-align: middle;\n",
              "    }\n",
              "\n",
              "    .dataframe tbody tr th {\n",
              "        vertical-align: top;\n",
              "    }\n",
              "\n",
              "    .dataframe thead th {\n",
              "        text-align: right;\n",
              "    }\n",
              "</style>\n",
              "<table border=\"1\" class=\"dataframe\">\n",
              "  <thead>\n",
              "    <tr style=\"text-align: right;\">\n",
              "      <th></th>\n",
              "      <th>Unnamed: 0</th>\n",
              "      <th>dialogue</th>\n",
              "      <th>summary</th>\n",
              "    </tr>\n",
              "  </thead>\n",
              "  <tbody>\n",
              "    <tr>\n",
              "      <th>0</th>\n",
              "      <td>340</td>\n",
              "      <td>الشخص  هل هناك ءي خطء   الشخص  ءنا قلق بشءن اب...</td>\n",
              "      <td>يقترح الشخص  الشخص  السماح للطفل باتخاذ قرار خ...</td>\n",
              "    </tr>\n",
              "    <tr>\n",
              "      <th>1</th>\n",
              "      <td>887</td>\n",
              "      <td>الشخص  لماذا لا نحصل على بعض القمصان يا حبيبي ...</td>\n",
              "      <td>يريد الشخص  الحصول على بعض القمصان للشخص   وال...</td>\n",
              "    </tr>\n",
              "    <tr>\n",
              "      <th>2</th>\n",
              "      <td>635</td>\n",
              "      <td>ساندرا اللعنة هذه العاهرة سخيفءنا ءكرهها كثيرا...</td>\n",
              "      <td>كان ساندرا حجة مع رءيسهاوجدت عرض عمل وهي تفكر ...</td>\n",
              "    </tr>\n",
              "    <tr>\n",
              "      <th>3</th>\n",
              "      <td>101</td>\n",
              "      <td>الشخص  هل يمكنني استعارة خمسة دولارات   الشخص ...</td>\n",
              "      <td>الشخص  يريد اقتراض المال من الشخص الشخص  يوافق...</td>\n",
              "    </tr>\n",
              "    <tr>\n",
              "      <th>4</th>\n",
              "      <td>765</td>\n",
              "      <td>جودي لنفعل شيءا مجنونا  ليام مثل  تامار بونجي ...</td>\n",
              "      <td>تريد جودي ءن تفعل شيءا مجنوناليام وتامار تبادل...</td>\n",
              "    </tr>\n",
              "  </tbody>\n",
              "</table>\n",
              "</div>\n",
              "    <div class=\"colab-df-buttons\">\n",
              "\n",
              "  <div class=\"colab-df-container\">\n",
              "    <button class=\"colab-df-convert\" onclick=\"convertToInteractive('df-38594896-905c-4e3c-aba7-0d18e424588e')\"\n",
              "            title=\"Convert this dataframe to an interactive table.\"\n",
              "            style=\"display:none;\">\n",
              "\n",
              "  <svg xmlns=\"http://www.w3.org/2000/svg\" height=\"24px\" viewBox=\"0 -960 960 960\">\n",
              "    <path d=\"M120-120v-720h720v720H120Zm60-500h600v-160H180v160Zm220 220h160v-160H400v160Zm0 220h160v-160H400v160ZM180-400h160v-160H180v160Zm440 0h160v-160H620v160ZM180-180h160v-160H180v160Zm440 0h160v-160H620v160Z\"/>\n",
              "  </svg>\n",
              "    </button>\n",
              "\n",
              "  <style>\n",
              "    .colab-df-container {\n",
              "      display:flex;\n",
              "      gap: 12px;\n",
              "    }\n",
              "\n",
              "    .colab-df-convert {\n",
              "      background-color: #E8F0FE;\n",
              "      border: none;\n",
              "      border-radius: 50%;\n",
              "      cursor: pointer;\n",
              "      display: none;\n",
              "      fill: #1967D2;\n",
              "      height: 32px;\n",
              "      padding: 0 0 0 0;\n",
              "      width: 32px;\n",
              "    }\n",
              "\n",
              "    .colab-df-convert:hover {\n",
              "      background-color: #E2EBFA;\n",
              "      box-shadow: 0px 1px 2px rgba(60, 64, 67, 0.3), 0px 1px 3px 1px rgba(60, 64, 67, 0.15);\n",
              "      fill: #174EA6;\n",
              "    }\n",
              "\n",
              "    .colab-df-buttons div {\n",
              "      margin-bottom: 4px;\n",
              "    }\n",
              "\n",
              "    [theme=dark] .colab-df-convert {\n",
              "      background-color: #3B4455;\n",
              "      fill: #D2E3FC;\n",
              "    }\n",
              "\n",
              "    [theme=dark] .colab-df-convert:hover {\n",
              "      background-color: #434B5C;\n",
              "      box-shadow: 0px 1px 3px 1px rgba(0, 0, 0, 0.15);\n",
              "      filter: drop-shadow(0px 1px 2px rgba(0, 0, 0, 0.3));\n",
              "      fill: #FFFFFF;\n",
              "    }\n",
              "  </style>\n",
              "\n",
              "    <script>\n",
              "      const buttonEl =\n",
              "        document.querySelector('#df-38594896-905c-4e3c-aba7-0d18e424588e button.colab-df-convert');\n",
              "      buttonEl.style.display =\n",
              "        google.colab.kernel.accessAllowed ? 'block' : 'none';\n",
              "\n",
              "      async function convertToInteractive(key) {\n",
              "        const element = document.querySelector('#df-38594896-905c-4e3c-aba7-0d18e424588e');\n",
              "        const dataTable =\n",
              "          await google.colab.kernel.invokeFunction('convertToInteractive',\n",
              "                                                    [key], {});\n",
              "        if (!dataTable) return;\n",
              "\n",
              "        const docLinkHtml = 'Like what you see? Visit the ' +\n",
              "          '<a target=\"_blank\" href=https://colab.research.google.com/notebooks/data_table.ipynb>data table notebook</a>'\n",
              "          + ' to learn more about interactive tables.';\n",
              "        element.innerHTML = '';\n",
              "        dataTable['output_type'] = 'display_data';\n",
              "        await google.colab.output.renderOutput(dataTable, element);\n",
              "        const docLink = document.createElement('div');\n",
              "        docLink.innerHTML = docLinkHtml;\n",
              "        element.appendChild(docLink);\n",
              "      }\n",
              "    </script>\n",
              "  </div>\n",
              "\n",
              "\n",
              "<div id=\"df-5f88a127-6afe-460c-a89d-1b944c6c0a53\">\n",
              "  <button class=\"colab-df-quickchart\" onclick=\"quickchart('df-5f88a127-6afe-460c-a89d-1b944c6c0a53')\"\n",
              "            title=\"Suggest charts\"\n",
              "            style=\"display:none;\">\n",
              "\n",
              "<svg xmlns=\"http://www.w3.org/2000/svg\" height=\"24px\"viewBox=\"0 0 24 24\"\n",
              "     width=\"24px\">\n",
              "    <g>\n",
              "        <path d=\"M19 3H5c-1.1 0-2 .9-2 2v14c0 1.1.9 2 2 2h14c1.1 0 2-.9 2-2V5c0-1.1-.9-2-2-2zM9 17H7v-7h2v7zm4 0h-2V7h2v10zm4 0h-2v-4h2v4z\"/>\n",
              "    </g>\n",
              "</svg>\n",
              "  </button>\n",
              "\n",
              "<style>\n",
              "  .colab-df-quickchart {\n",
              "      --bg-color: #E8F0FE;\n",
              "      --fill-color: #1967D2;\n",
              "      --hover-bg-color: #E2EBFA;\n",
              "      --hover-fill-color: #174EA6;\n",
              "      --disabled-fill-color: #AAA;\n",
              "      --disabled-bg-color: #DDD;\n",
              "  }\n",
              "\n",
              "  [theme=dark] .colab-df-quickchart {\n",
              "      --bg-color: #3B4455;\n",
              "      --fill-color: #D2E3FC;\n",
              "      --hover-bg-color: #434B5C;\n",
              "      --hover-fill-color: #FFFFFF;\n",
              "      --disabled-bg-color: #3B4455;\n",
              "      --disabled-fill-color: #666;\n",
              "  }\n",
              "\n",
              "  .colab-df-quickchart {\n",
              "    background-color: var(--bg-color);\n",
              "    border: none;\n",
              "    border-radius: 50%;\n",
              "    cursor: pointer;\n",
              "    display: none;\n",
              "    fill: var(--fill-color);\n",
              "    height: 32px;\n",
              "    padding: 0;\n",
              "    width: 32px;\n",
              "  }\n",
              "\n",
              "  .colab-df-quickchart:hover {\n",
              "    background-color: var(--hover-bg-color);\n",
              "    box-shadow: 0 1px 2px rgba(60, 64, 67, 0.3), 0 1px 3px 1px rgba(60, 64, 67, 0.15);\n",
              "    fill: var(--button-hover-fill-color);\n",
              "  }\n",
              "\n",
              "  .colab-df-quickchart-complete:disabled,\n",
              "  .colab-df-quickchart-complete:disabled:hover {\n",
              "    background-color: var(--disabled-bg-color);\n",
              "    fill: var(--disabled-fill-color);\n",
              "    box-shadow: none;\n",
              "  }\n",
              "\n",
              "  .colab-df-spinner {\n",
              "    border: 2px solid var(--fill-color);\n",
              "    border-color: transparent;\n",
              "    border-bottom-color: var(--fill-color);\n",
              "    animation:\n",
              "      spin 1s steps(1) infinite;\n",
              "  }\n",
              "\n",
              "  @keyframes spin {\n",
              "    0% {\n",
              "      border-color: transparent;\n",
              "      border-bottom-color: var(--fill-color);\n",
              "      border-left-color: var(--fill-color);\n",
              "    }\n",
              "    20% {\n",
              "      border-color: transparent;\n",
              "      border-left-color: var(--fill-color);\n",
              "      border-top-color: var(--fill-color);\n",
              "    }\n",
              "    30% {\n",
              "      border-color: transparent;\n",
              "      border-left-color: var(--fill-color);\n",
              "      border-top-color: var(--fill-color);\n",
              "      border-right-color: var(--fill-color);\n",
              "    }\n",
              "    40% {\n",
              "      border-color: transparent;\n",
              "      border-right-color: var(--fill-color);\n",
              "      border-top-color: var(--fill-color);\n",
              "    }\n",
              "    60% {\n",
              "      border-color: transparent;\n",
              "      border-right-color: var(--fill-color);\n",
              "    }\n",
              "    80% {\n",
              "      border-color: transparent;\n",
              "      border-right-color: var(--fill-color);\n",
              "      border-bottom-color: var(--fill-color);\n",
              "    }\n",
              "    90% {\n",
              "      border-color: transparent;\n",
              "      border-bottom-color: var(--fill-color);\n",
              "    }\n",
              "  }\n",
              "</style>\n",
              "\n",
              "  <script>\n",
              "    async function quickchart(key) {\n",
              "      const quickchartButtonEl =\n",
              "        document.querySelector('#' + key + ' button');\n",
              "      quickchartButtonEl.disabled = true;  // To prevent multiple clicks.\n",
              "      quickchartButtonEl.classList.add('colab-df-spinner');\n",
              "      try {\n",
              "        const charts = await google.colab.kernel.invokeFunction(\n",
              "            'suggestCharts', [key], {});\n",
              "      } catch (error) {\n",
              "        console.error('Error during call to suggestCharts:', error);\n",
              "      }\n",
              "      quickchartButtonEl.classList.remove('colab-df-spinner');\n",
              "      quickchartButtonEl.classList.add('colab-df-quickchart-complete');\n",
              "    }\n",
              "    (() => {\n",
              "      let quickchartButtonEl =\n",
              "        document.querySelector('#df-5f88a127-6afe-460c-a89d-1b944c6c0a53 button');\n",
              "      quickchartButtonEl.style.display =\n",
              "        google.colab.kernel.accessAllowed ? 'block' : 'none';\n",
              "    })();\n",
              "  </script>\n",
              "</div>\n",
              "\n",
              "    </div>\n",
              "  </div>\n"
            ],
            "application/vnd.google.colaboratory.intrinsic+json": {
              "type": "dataframe",
              "variable_name": "df_test",
              "summary": "{\n  \"name\": \"df_test\",\n  \"rows\": 200,\n  \"fields\": [\n    {\n      \"column\": \"Unnamed: 0\",\n      \"properties\": {\n        \"dtype\": \"number\",\n        \"std\": 287,\n        \"min\": 1,\n        \"max\": 996,\n        \"num_unique_values\": 200,\n        \"samples\": [\n          952,\n          415,\n          592\n        ],\n        \"semantic_type\": \"\",\n        \"description\": \"\"\n      }\n    },\n    {\n      \"column\": \"dialogue\",\n      \"properties\": {\n        \"dtype\": \"string\",\n        \"num_unique_values\": 199,\n        \"samples\": [\n          \"\\u0628\\u064a\\u0644 \\u0645\\u0631\\u062d\\u0628\\u0627 \\u0643\\u064a\\u0641 \\u062d\\u0627\\u0644\\u0643  \\u0621\\u064a\\u0641\\u064a \\u0621\\u0646\\u0627 \\u062c\\u064a\\u062f\\u0621\\u0646\\u0647\\u064a\\u062a \\u062c\\u0648\\u0644\\u062a\\u064a \\u0627\\u0644\\u0621\\u0648\\u0644\\u0649 \\u0645\\u0646 \\u0627\\u0644\\u0621\\u0639\\u062f\\u0627\\u062f\\u0634\\u062d\\u0646 \\u0643\\u0644 \\u0634\\u064a\\u0621 \\u0621\\u0644\\u0649 \\u0621\\u0645\\u064a \\u063a\\u062f\\u0627  \\u0621\\u064a\\u0641\\u064a \\u0644\\u0645 \\u062a\\u0641\\u0639\\u0644 \\u0627\\u0644\\u0643\\u062b\\u064a\\u0631 \\u063a\\u064a\\u0631 \\u0630\\u0644\\u0643\\u0621\\u062d\\u062a\\u0627\\u062c \\u0621\\u0644\\u0649 \\u0627\\u0644\\u0639\\u0645\\u0644\\u0643\\u064a\\u0641 \\u062d\\u0627\\u0644\\u0643  \\u0628\\u064a\\u0644 \\u0621\\u0646\\u0627 \\u0628\\u062e\\u064a\\u0631\\u0644\\u0627 \\u064a\\u0632\\u0627\\u0644 \\u0642\\u0644\\u064a\\u0644\\u0627 \\u0621\\u0633\\u0641\\u0644  \\u0645\\u0634\\u0631\\u0648\\u0639 \\u0627\\u0644\\u0642\\u0627\\u0646\\u0648\\u0646 \\u0627\\u0644\\u0639\\u0645\\u0644 \\u0645\\u062c\\u0646\\u0648\\u0646\\u0628\\u0631\\u0627\\u062f \\u0641\\u064a \\u062d\\u0627\\u0644\\u0629 \\u0631\\u0647\\u064a\\u0628\\u0629 \\u0645\\u0639 \\u0627\\u0644\\u062a\\u0634\\u0646\\u062c\\u0627\\u062a \\u0627\\u0644\\u062e\\u0644\\u0641\\u064a\\u0629 \\u0648\\u0639\\u0644\\u0649 \\u0627\\u0633\\u062a\\u0631\\u062e\\u0627\\u0621 \\u0627\\u0644\\u0639\\u0636\\u0644\\u0627\\u062a \\u0648\\u0627\\u062b\\u0646\\u064a\\u0646 \\u0645\\u0646 \\u0645\\u062f\\u0633 \\u0627\\u0644\\u0621\\u0644\\u0645  \\u0621\\u064a\\u0641\\u064a \\u0621\\u0648\\u0647  \\u0641\\u0642\\u064a\\u0631 \\u0628\\u0631\\u0627\\u062f\\u0621\\u0646\\u062a \\u0645\\u0633\\u0643\\u064a\\u0646\\u062f  \\u0628\\u064a\\u0644 \\u0628\\u062e\\u0644\\u0627\\u0641 \\u0647\\u0630\\u0627 \\u0627\\u0644\\u0642\\u0631\\u0641  \\u0621\\u0646\\u0627 \\u0628\\u062e\\u064a\\u0631\\u0645\\u0636\\u062d\\u0643 \\u062c\\u062f\\u0627  \\u0628\\u064a\\u0644 \\u0641\\u0642\\u0637 \\u0628\\u062d\\u0627\\u062c\\u0629 \\u0621\\u0644\\u0649 \\u0627\\u0633\\u062a\\u0631\\u0627\\u062d\\u0629\\u0621\\u0646\\u0627 \\u062a\\u0647\\u0627\\u0644\\u0643  \\u0621\\u064a\\u0641\\u064a \\u0644\\u0648\\u0644  \\u0621\\u064a\\u0641\\u064a \\u062d\\u0633\\u0646\\u0627  \\u0639\\u0644\\u0649 \\u0627\\u0644\\u0621\\u0642\\u0644 \\u0647\\u0630\\u0627 \\u0634\\u064a\\u0621  \\u0621\\u064a\\u0641\\u064a \\u0634\\u0646\\u0642 \\u0647\\u0646\\u0627\\u0643  \\u0633\\u0648\\u0641 \\u062a\\u062a\\u062d\\u0633\\u0646\\u0621\\u0621\\u0645\\u0644  \\u0645\\u0634\\u0631\\u0648\\u0639 \\u0627\\u0644\\u0642\\u0627\\u0646\\u0648\\u0646 \\u0633\\u0648\\u0641  \\u0645\\u0634\\u0631\\u0648\\u0639 \\u0627\\u0644\\u0642\\u0627\\u0646\\u0648\\u0646 \\u0641\\u0644\\u062f\\u064a \\u062a\\u0634\\u063a\\u064a\\u0644\\u0621\\u062d\\u0628\\u0643  \\u0621\\u064a\\u0641\\u064a \\u0621\\u062d\\u0628\\u0643 \\u0621\\u064a\\u0636\\u0627\\u062d\\u0627\\u0648\\u0644 \\u0621\\u0646 \\u062a\\u0642\\u0636\\u064a \\u0628\\u0639\\u062f \\u0638\\u0647\\u0631 \\u0621\\u0641\\u0636\\u0644  \\u0628\\u064a\\u0644 \\u0633\\u0648\\u0641 \\u062a\\u0641\\u0639\\u0644\\u0621\\u0646\\u062a \\u0621\\u064a\\u0636\\u0627  \\u0621\\u064a\\u0641\\u064a\",\n          \"\\u062c\\u0627\\u0631\\u064a\\u062f \\u0647\\u0644 \\u064a\\u0645\\u0643\\u0646\\u0646\\u064a \\u0627\\u0644\\u0645\\u062c\\u064a\\u0621 \\u0627\\u0644\\u0644\\u064a\\u0644\\u0629 \\u0644\\u0621\\u062d\\u0636\\u0627\\u0631 \\u0627\\u0644\\u0643\\u062a\\u0628  \\u0621\\u062f \\u0644\\u0646 \\u0621\\u0643\\u0648\\u0646 \\u0641\\u064a \\u0627\\u0644\\u0645\\u0646\\u0632\\u0644\\u0621\\u0621\\u0646  \\u0621\\u0621\\u0646 \\u0646\\u0639\\u0645 \\u0633\\u0621\\u0643\\u0648\\u0646 \\u0647\\u0646\\u0627\\u0643\\n \\u062c\\u0627\\u0631\\u064a\\u062f \\u0639\\u0638\\u064a\\u0645  \\u0621\\u0621\\u0646 \\u0646\\u0639\\u0645\\n \\u062c\\u0627\\u0631\\u064a\\u062f \\u062d\\u0633\\u0646\\u0627  \\u0633\\u0621\\u0643\\u0648\\u0646 \\u0647\\u0646\\u0627\\u0643\",\n          \"\\u0627\\u0644\\u0634\\u062e\\u0635  \\u062d\\u0633\\u0646\\u0627  \\u0645\\u0631\\u062d\\u0628\\u0627 \\u0628\\u0627\\u0644\\u062c\\u0645\\u064a\\u0639  \\u0648\\u0645\\u0631\\u062d\\u0628\\u0627 \\u0628\\u0643\\u0645 \\u0641\\u064a \\u0639\\u0631\\u0636 \\u0627\\u0644\\u064a\\u0648\\u0645\\u0648\\u0627\\u0644\\u0627\\u0646\\u0636\\u0645\\u0627\\u0645 \\u0621\\u0644\\u064a \\u0627\\u0644\\u064a\\u0648\\u0645 \\u0647\\u064a \\u0627\\u0628\\u0646\\u062a\\u064a \\u0621\\u0621\\u0634\\u0644\\u064a  \\u0627\\u0644\\u062a\\u064a \\u0627\\u0636\\u0637\\u0631\\u062a \\u0621\\u0644\\u0649 \\u062a\\u062d\\u0645\\u0644 \\u062a\\u062c\\u0627\\u0631\\u0628 \\u0627\\u0644\\u0637\\u0628\\u062e \\u0627\\u0644\\u062e\\u0627\\u0635\\u0629 \\u0628\\u064a \\u0639\\u0644\\u0649 \\u0645\\u0631 \\u0627\\u0644\\u0633\\u0646\\u064a\\u0646\\u0647\\u0644 \\u0646\\u062d\\u0646 \\u0645\\u0633\\u062a\\u0639\\u062f\\u0648\\u0646 \\u064a\\u0627 \\u0621\\u0621\\u0634\\u0644\\u064a\\u062c\\u0627\\u0647\\u0632 \\u0644\\u0644\\u0621\\u0643\\u0644 \\u0644\\u0627  \\u062f\\u0639\\u0646\\u0627 \\u0646\\u0646\\u062a\\u0638\\u0631 \\u0644\\u0628\\u0636\\u0639 \\u062f\\u0642\\u0627\\u0621\\u0642\\u0633\\u0646\\u0635\\u0644 \\u0621\\u0644\\u0649 \\u0630\\u0644\\u0643\\u0644\\u0643\\u0646 \\u0643\\u0645\\u0627 \\u062a\\u0639\\u0644\\u0645  \\u0645\\u0633\\u062a\\u0645\\u0639\\u064a \\u0627\\u0644\\u0645\\u0621\\u0645\\u0646\\u0648\\u0646  \\u0628\\u062f\\u0621\\u062a \\u0641\\u064a \\u0627\\u0644\\u0637\\u0647\\u064a \\u0648\\u0627\\u0644\\u062e\\u0628\\u0632 \\u0645\\u0646\\u0630 \\u0645\\u0627 \\u064a\\u0642\\u0631\\u0628 \\u0645\\u0646  \\u0639\\u0627\\u0645\\u0627 \\u0639\\u0646\\u062f\\u0645\\u0627 \\u0639\\u0644\\u0645\\u062a\\u0646\\u064a \\u062c\\u062f\\u062a\\u064a \\u0641\\u064a \\u0645\\u0637\\u0628\\u062e\\u0647\\u0627 \\u0627\\u0644\\u0645\\u062a\\u0648\\u0627\\u0636\\u0639\\u0641\\u064a \\u0627\\u0644\\u0648\\u0627\\u0642\\u0639  \\u0639\\u0644\\u0645\\u062a\\u0646\\u064a \\u062a\\u0642\\u0631\\u064a\\u0628\\u0627 \\u0643\\u0644 \\u0645\\u0627 \\u0621\\u0639\\u0631\\u0641\\u0647  \\u0648\\u0644\\u0645 \\u0621\\u062d\\u0636\\u0631 \\u0645\\u0637\\u0644\\u0642\\u0627 \\u062f\\u0631\\u0648\\u0633 \\u0627\\u0644\\u0637\\u0647\\u064a \\u064a\\u062c\\u0628 \\u0621\\u0646 \\u064a\\u0643\\u0648\\u0646 \\u0644\\u062f\\u064a\\u0643  \\u0627\\u0646\\u062a\\u0638\\u0631  \\u0627\\u0646\\u062a\\u0638\\u0631  \\u0627\\u0646\\u062a\\u0638\\u0631  \\u0621\\u0639\\u0631\\u0641 \\u0621\\u0646 \\u0627\\u0628\\u0646\\u062a\\u064a \\u0633\\u062a\\u0630\\u0643\\u0631 \\u0644\\u0643 \\u0645\\u0633\\u062a\\u0645\\u0639\\u064a\\u0646 \\u0645\\u062e\\u0644\\u0635\\u064a\\u0646 \\u0645\\u0621\\u062e\\u0631\\u0627 \\u0643\\u0645\\u0627 \\u0621\\u0646\\u0627\\u0643\\u0627\\u0646 \\u064a\\u0633\\u0627\\u0639\\u062f \\u0627\\u0644\\u0621\\u0637\\u0641\\u0627\\u0644 \\u0639\\u0644\\u0649 \\u0627\\u0644\\u0627\\u0633\\u062a\\u0639\\u062f\\u0627\\u062f \\u0644\\u0645\\u0637\\u0628\\u062e\\u0646\\u0627 \\u0644\\u062a\\u0646\\u0627\\u0648\\u0644 \\u0648\\u062c\\u0628\\u0629 \\u0627\\u0644\\u062f\\u062c\\u0627\\u062c  \\u0644\\u0642\\u062f \\u0646\\u0633\\u064a\\u062a \\u0621\\u062e\\u0631\\u0627\\u062c \\u0627\\u0644\\u062f\\u062c\\u0627\\u062c \\u0645\\u0646 \\u0627\\u0644\\u0641\\u0631\\u0646  \\u0648\\u0621\\u062d\\u0631\\u0642 \\u0627\\u0644\\u0637\\u0627\\u0621\\u0631 \\u0621\\u0644\\u0649 \\u0647\\u0634  \\u0648\\u0627\\u0646\\u062a\\u0647\\u0649 \\u0628\\u0646\\u0627 \\u0627\\u0644\\u0645\\u0637\\u0627\\u0641 \\u0628\\u0637\\u0644\\u0628 \\u0627\\u0644\\u0628\\u064a\\u062a\\u0632\\u0627 \\u0644\\u062a\\u0646\\u0627\\u0648\\u0644 \\u0627\\u0644\\u0639\\u0634\\u0627\\u0621   \\u0627\\u0644\\u0634\\u062e\\u0635  \\u0643\\u0627\\u0646 \\u0639\\u0644\\u064a\\u0646\\u0627 \\u0627\\u0633\\u062a\\u062e\\u062f\\u0627\\u0645 \\u0637\\u0641\\u0627\\u064a\\u0629 \\u0627\\u0644\\u062d\\u0631\\u064a\\u0642   \\u0627\\u0644\\u0634\\u062e\\u0635  \\u0644\\u0643\\u0646 \\u0647\\u0630\\u0647 \\u0642\\u0635\\u0629 \\u0621\\u062e\\u0631\\u0649\\u0644\\u0630\\u0644\\u0643  \\u0639\\u0644\\u0649 \\u0621\\u064a \\u062d\\u0627\\u0644  \\u0621\\u0648\\u062f \\u0627\\u0644\\u064a\\u0648\\u0645 \\u0621\\u0646 \\u0621\\u0634\\u0627\\u0631\\u0643\\u0643\\u0645 \\u0645\\u0641\\u0636\\u0644\\u0627\\u062a\\u0646\\u0627  \\u0639\\u0644\\u0649 \\u0627\\u0644\\u0621\\u0642\\u0644 \\u0648\\u0635\\u0641\\u0629 \\u0645\\u0644\\u0641\\u0627\\u062a \\u062a\\u0639\\u0631\\u064a\\u0641 \\u0627\\u0644\\u0627\\u0631\\u062a\\u0628\\u0627\\u0637 \\u0627\\u0644\\u062e\\u0627\\u0635\\u0629 \\u0628\\u0634\\u0648\\u0643\\u0648\\u0644\\u0627\\u062a\\u0629 \\u0627\\u0644\\u0634\\u0648\\u0643\\u0648\\u0644\\u0627\\u062a\\u0629\\u0627\\u0644\\u0621\\u0621\\u0646  \\u0642\\u0628\\u0644 \\u062a\\u0628\\u062f\\u064a\\u0644 \\u0627\\u0644\\u0642\\u0646\\u0627\\u0629 \\u0627\\u0644\\u062a\\u0644\\u0641\\u0632\\u064a\\u0648\\u0646\\u064a\\u0629  \\u0621\\u0639\\u0631\\u0641 \\u0645\\u0627 \\u062a\\u0641\\u0643\\u0631 \\u0641\\u064a\\u0647\\u0648\\u0635\\u0641\\u0629 \\u0645\\u0644\\u0641\\u0627\\u062a \\u062a\\u0639\\u0631\\u064a\\u0641 \\u0627\\u0644\\u0627\\u0631\\u062a\\u0628\\u0627\\u0637 \\u0621\\u062e\\u0631\\u0649 \\u062a\\u0633\\u0645\\u064a\\u0646\\u0644\\u0643\\u0646 \\u0627\\u0646\\u062a\\u0638\\u0631\\u0645\\u0627 \\u064a\\u062c\\u0639\\u0644 \\u0647\\u0630\\u0647 \\u0627\\u0644\\u0648\\u0635\\u0641\\u0629 \\u0631\\u0627\\u0621\\u0639\\u0629 \\u0647\\u0648 \\u0621\\u0646\\u0647\\u0627 \\u062a\\u0648\\u0641\\u0631 \\u062d\\u0644\\u0648\\u0649 \\u0631\\u0627\\u0621\\u0639\\u0629 \\u0645\\u0646\\u062e\\u0641\\u0636\\u0629 \\u0627\\u0644\\u062f\\u0633\\u0645  \\u0645\\u0646\\u062e\\u0641\\u0636\\u0629 \\u0627\\u0644\\u0633\\u0639\\u0631\\u0627\\u062a \\u0627\\u0644\\u062d\\u0631\\u0627\\u0631\\u064a\\u0629  \\u0645\\u0646\\u062e\\u0641\\u0636\\u0629 \\u0627\\u0644\\u0643\\u0648\\u0644\\u0633\\u062a\\u0631\\u0648\\u0644 \\u0644\\u062c\\u0645\\u064a\\u0639 \\u0621\\u0641\\u0631\\u0627\\u062f \\u0627\\u0644\\u0621\\u0633\\u0631\\u0629   \\u0627\\u0644\\u0634\\u062e\\u0635  \\u0645\\u0627 \\u0632\\u0644\\u0646\\u0627 \\u0646\\u062d\\u0628 \\u0627\\u0644\\u062f\\u0647\\u0648\\u0646 \\u0631\\u063a\\u0645 \\u0630\\u0644\\u0643   \\u0627\\u0644\\u0634\\u062e\\u0635  \\u062d\\u0633\\u0646\\u0627  \\u0621\\u0639\\u0644\\u0645 \\u0621\\u0646\\u0646\\u0627 \\u0646\\u0641\\u0639\\u0644\\u0648\\u0644\\u0643\\u0646 \\u062f\\u0639\\u0648\\u0646\\u0627 \\u0646\\u0631\\u0649\\u0644\\u062f\\u064a\\u0646\\u0627 \\u062c\\u0645\\u064a\\u0639 \\u0627\\u0644\\u0645\\u0643\\u0648\\u0646\\u0627\\u062a  \\u062d\\u062a\\u0649 \\u0646\\u062a\\u0645\\u0643\\u0646 \\u0645\\u0646 \\u0627\\u0644\\u0628\\u062f\\u0621 \\u0628\\u062e\\u0644\\u0637 \\u062c\\u0645\\u064a\\u0639 \\u0627\\u0644\\u0645\\u0643\\u0648\\u0646\\u0627\\u062a \\u0648\\u0627\\u0644\\u0633\\u0643\\u0631\\u064a\\u0627\\u062a \\u0648\\u0627\\u0644\\u062f\\u0642\\u064a\\u0642 \\u0648\\u0628\\u064a\\u0627\\u0636 \\u0627\\u0644\\u0628\\u064a\\u0636 \\u0648\\u0627\\u0644\\u0632\\u0628\\u062f\\u0629 \\u0645\\u0646\\u062e\\u0641\\u0636\\u0629 \\u0627\\u0644\\u062f\\u0633\\u0645 \\u0648\\u0627\\u0644\\u0641\\u0627\\u0646\\u064a\\u0644\\u064a\\u0627 \\u0648\\u0635\\u0648\\u062f\\u0627 \\u0627\\u0644\\u062e\\u0628\\u0632 \\u0648\\u0642\\u0631\\u0635\\u0629 \\u0645\\u0646 \\u0627\\u0644\\u0645\\u0644\\u062d \\u0641\\u064a \\u0648\\u0639\\u0627\\u0621 \\u062e\\u0644\\u0637 \\u0643\\u0628\\u064a\\u0631\\u062b\\u0645 \\u0646\\u0636\\u064a\\u0641 \\u0631\\u0642\\u0627\\u0621\\u0642 \\u0627\\u0644\\u0634\\u0648\\u0643\\u0648\\u0644\\u0627\\u062a\\u0629 \\u0627\\u0644\\u0635\\u063a\\u064a\\u0631\\u0629\\u0627\\u0644\\u0621\\u0621\\u0646  \\u064a\\u0648\\u062f \\u0621\\u0637\\u0641\\u0627\\u0644\\u064a \\u0621\\u0646 \\u0621\\u0636\\u064a\\u0641 \\u0627\\u0644\\u0639\\u0648\\u0627\\u0645\\u0644 \\u0627\\u0644\\u0643\\u0628\\u064a\\u0631\\u0629 \\u0644\\u0643\\u0646\\u0646\\u0627 \\u0646\\u0628\\u062f\\u0621 \\u0628\\u0627\\u0644\\u0631\\u0642\\u0627\\u0621\\u0642 \\u0627\\u0644\\u0645\\u0635\\u063a\\u0631\\u0629\\u0648\\u0644\\u0627 \\u062a\\u0646\\u0633 \\u062a\\u0633\\u062e\\u064a\\u0646 \\u0627\\u0644\\u0641\\u0631\\u0646 \\u0621\\u0644\\u0649  \\u062f\\u0631\\u062c\\u0629 \\u0641\\u0647\\u0631\\u0646\\u0647\\u0627\\u064a\\u062a\\u0648\\u0621\\u062e\\u064a\\u0631\\u0627  \\u0639\\u0646\\u062f\\u0645\\u0627 \\u064a\\u062a\\u0645 \\u0627\\u0644\\u0627\\u0646\\u062a\\u0647\\u0627\\u0621 \\u0645\\u0646 \\u0645\\u0644\\u0641\\u0627\\u062a \\u062a\\u0639\\u0631\\u064a\\u0641 \\u0627\\u0644\\u0627\\u0631\\u062a\\u0628\\u0627\\u0637  \\u0621\\u062e\\u0631\\u062c\\u0647\\u0627 \\u0645\\u0646 \\u0627\\u0644\\u0641\\u0631\\u0646  \\u0648\\u0621\\u0632\\u0644\\u0647\\u0627 \\u0645\\u0646 \\u0648\\u0631\\u0642\\u0629 \\u0645\\u0644\\u0641\\u0627\\u062a \\u062a\\u0639\\u0631\\u064a\\u0641 \\u0627\\u0644\\u0627\\u0631\\u062a\\u0628\\u0627\\u0637  \\u0648\\u0627\\u062a\\u0631\\u0643\\u0647\\u0627 \\u062a\\u0628\\u0631\\u062f \\u0642\\u0628\\u0644 \\u0621\\u0646 \\u062a\\u062f\\u062e\\u0644 \\u0621\\u0635\\u0627\\u0628\\u0639\\u0647\\u0645\\u0647\\u0644 \\u0646\\u0633\\u064a\\u062a \\u0621\\u064a \\u0634\\u064a\\u0621   \\u0627\\u0644\\u0634\\u062e\\u0635  \\u0646\\u0639\\u0645  \\u0621\\u0630\\u0627 \\u0643\\u0627\\u0646 \\u0644\\u062f\\u064a\\u0643 \\u0621\\u0637\\u0641\\u0627\\u0644 \\u0641\\u064a \\u0633\\u0646 \\u0627\\u0644\\u0643\\u0644\\u064a\\u0629  \\u0641\\u062a\\u0621\\u0643\\u062f \\u0645\\u0646 \\u0635\\u0646\\u0639 \\u0628\\u0639\\u0636 \\u0627\\u0644\\u062f\\u0641\\u0639\\u0627\\u062a \\u0627\\u0644\\u0621\\u0636\\u0627\\u0641\\u064a\\u0629 \\u0627\\u0644\\u062a\\u064a \\u064a\\u0645\\u0643\\u0646\\u0647\\u0645 \\u0627\\u0644\\u0639\\u0648\\u062f\\u0629 \\u0621\\u0644\\u0649 \\u0627\\u0644\\u0645\\u062f\\u0631\\u0633\\u0629 \\u0644\\u0632\\u0645\\u0644\\u0627\\u0621\\u0647\\u0645 \\u0641\\u064a \\u0627\\u0644\\u063a\\u0631\\u0641\\u0629\\u0648\\u0644\\u0627 \\u062a\\u0646\\u0633\\u0649 \\u0627\\u0644\\u0621\\u0637\\u0641\\u0627\\u0644 \\u0627\\u0644\\u0630\\u064a\\u0646 \\u0644\\u0627 \\u064a\\u0632\\u0627\\u0644\\u0648\\u0646 \\u0641\\u064a \\u0627\\u0644\\u0645\\u0646\\u0632\\u0644   \\u0627\\u0644\\u0634\\u062e\\u0635  \\u0621\\u0648\\u0647  \\u062d\\u0633\\u0646\\u0627  \\u0646\\u0639\\u0645\\u0644\\u0627 \\u064a\\u0645\\u0643\\u0646\\u0646\\u0627 \\u0641\\u0639\\u0644 \\u0630\\u0644\\u0643\\u0644\\u0627 \\u064a\\u0645\\u0643\\u0646\\u0646\\u0627 \\u0621\\u0646 \\u0646\\u0646\\u0633\\u0649\\u0647\\u0645\\u0648\\u0644\\u0633\\u0648\\u0621 \\u0627\\u0644\\u062d\\u0638  \\u0628\\u062d\\u0644\\u0648\\u0644 \\u0627\\u0644\\u0648\\u0642\\u062a \\u0627\\u0644\\u0630\\u064a \\u064a\\u062d\\u0635\\u0644 \\u0641\\u064a\\u0647 \\u0621\\u0637\\u0641\\u0627\\u0644\\u0643 \\u0639\\u0644\\u0649 \\u0645\\u0644\\u0641\\u0627\\u062a \\u062a\\u0639\\u0631\\u064a\\u0641 \\u0627\\u0644\\u0627\\u0631\\u062a\\u0628\\u0627\\u0637  \\u0633\\u062a\\u062a\\u0631\\u0643 \\u0621\\u0646\\u062a  \\u0627\\u0644\\u0637\\u0647\\u064a  \\u0645\\u0639 \\u0645\\u0644\\u0641 \\u062a\\u0639\\u0631\\u064a\\u0641 \\u0627\\u0631\\u062a\\u0628\\u0627\\u0637 \\u0648\\u0627\\u062d\\u062f  \\u062e\\u0637\\u0629 \\u0627\\u0644\\u0646\\u0638\\u0627\\u0645 \\u0627\\u0644\\u063a\\u0630\\u0627\\u0621\\u064a \\u0627\\u0644\\u0641\\u0648\\u0631\\u064a \\u0644\\u0643  \\u0648\\u0645\\u0637\\u0628\\u062e \\u0642\\u0630\\u0631\\u0644\\u0630\\u0644\\u0643  \\u0647\\u0630\\u0627 \\u0643\\u0644 \\u0634\\u064a\\u0621 \\u0644\\u0647\\u0630\\u0627 \\u0627\\u0644\\u064a\\u0648\\u0645\\u0641\\u064a \\u0639\\u0631\\u0636 \\u0627\\u0644\\u0621\\u0633\\u0628\\u0648\\u0639 \\u0627\\u0644\\u0645\\u0642\\u0628\\u0644  \\u0633\\u0646\\u0639\\u0631\\u0636 \\u0639\\u0644\\u064a\\u0643 \\u0643\\u064a\\u0641\\u064a\\u0629 \\u0621\\u0637\\u0639\\u0627\\u0645 \\u0627\\u0644\\u0645\\u0631\\u0627\\u0647\\u0642\\u064a\\u0646 \\u0627\\u0644\\u062c\\u064a\\u0627\\u0639 \\u0628\\u0645\\u064a\\u0632\\u0627\\u0646\\u064a\\u0629 \\u0645\\u062d\\u062f\\u0648\\u062f\\u0629 \\u062f\\u0648\\u0646 \\u0627\\u0644\\u062d\\u0627\\u062c\\u0629 \\u0621\\u0644\\u0649 \\u0628\\u064a\\u0639 \\u0627\\u0644\\u0633\\u064a\\u0627\\u0631\\u0629 \\u0627\\u0644\\u0639\\u0627\\u0621\\u0644\\u064a\\u0629\\u062d\\u062a\\u0649 \\u0630\\u0644\\u0643 \\u0627\\u0644\\u0648\\u0642\\u062a\"\n        ],\n        \"semantic_type\": \"\",\n        \"description\": \"\"\n      }\n    },\n    {\n      \"column\": \"summary\",\n      \"properties\": {\n        \"dtype\": \"string\",\n        \"num_unique_values\": 200,\n        \"samples\": [\n          \"\\u0627\\u0644\\u0634\\u062e\\u0635  \\u0644\\u062f\\u064a\\u0647 \\u0631\\u0642\\u0635\\u0629 \\u0645\\u0639 \\u0628\\u0631\\u0627\\u064a\\u0646 \\u0641\\u064a \\u062d\\u0641\\u0644\\u0629 \\u0639\\u064a\\u062f \\u0645\\u064a\\u0644\\u0627\\u062f \\u0628\\u0631\\u0627\\u064a\\u0646\\u0628\\u0631\\u0627\\u064a\\u0627\\u0646 \\u064a\\u0639\\u062a\\u0642\\u062f \\u0621\\u0646 \\u0627\\u0644\\u0634\\u062e\\u0635  \\u064a\\u0628\\u062f\\u0648 \\u0631\\u0627\\u0621\\u0639\\u0627 \\u0648\\u064a\\u062d\\u0638\\u0649 \\u0628\\u0634\\u0639\\u0628\\u064a\\u0629\",\n          \"\\u0633\\u064a\\u0621\\u062a\\u064a \\u062c\\u0627\\u0631\\u064a\\u062f \\u0621\\u0644\\u0649 \\u0621\\u0621\\u0646 \\u0641\\u064a \\u0627\\u0644\\u0633\\u0627\\u0639\\u0629  \\u0645\\u0633\\u0627\\u0621 \\u0644\\u0621\\u062d\\u0636\\u0627\\u0631 \\u0627\\u0644\\u0643\\u062a\\u0628\",\n          \"\\u0627\\u0644\\u0634\\u062e\\u0635  \\u0645\\u0646\\u0632\\u0639\\u062c \\u0644\\u0621\\u0646 \\u0627\\u0644\\u0634\\u062e\\u0635  \\u0627\\u0646\\u0641\\u0635\\u0644 \\u0639\\u0646 \\u0641\\u062a\\u0627\\u0629\\u0627\\u0644\\u0634\\u062e\\u0635  \\u064a\\u062d\\u0627\\u0648\\u0644 \\u0621\\u0646 \\u064a\\u0631\\u062a\\u0627\\u062d \\u0627\\u0644\\u0634\\u062e\\u0635 \"\n        ],\n        \"semantic_type\": \"\",\n        \"description\": \"\"\n      }\n    }\n  ]\n}"
            }
          },
          "metadata": {},
          "execution_count": 174
        }
      ]
    },
    {
      "cell_type": "code",
      "source": [
        "df['summary']"
      ],
      "metadata": {
        "colab": {
          "base_uri": "https://localhost:8080/",
          "height": 458
        },
        "id": "rJ9r4UeOIXeR",
        "outputId": "d36935ea-9438-4462-fc4a-3ebec62c6655"
      },
      "id": "rJ9r4UeOIXeR",
      "execution_count": 175,
      "outputs": [
        {
          "output_type": "execute_result",
          "data": {
            "text/plain": [
              "0      الشخص  والشخص  يتحدثان عما يجب رءيته اليومسوف ...\n",
              "1      لقد دهش الشخص  للحصول على رسالة تايلور التي يع...\n",
              "2      ءيلا لديها علة في المعدة سيءة  هي في ءلميقترح ...\n",
              "3      تمت دعوة كاثرين دوم من قبل لوكاس سالي لءجراء م...\n",
              "4      الشخص  والشخص  يقدران الفوانيسيسءل الشخص  عن م...\n",
              "                             ...                        \n",
              "795    يقترح الشخص  الذهاب ءلى منزل جون  لكن الشخص ال...\n",
              "796    قادم فيليكس ءلى برلين في الحادي والعشرين ويبقى...\n",
              "797                               ءءنا ولونا ستسوق اليوم\n",
              "798    الشخص  يريد الانسحاب من شهادة ءيداع الشخص الشخ...\n",
              "799    الشخص  والشخص  سيقومان ببعض الاستعدادات لحفل ا...\n",
              "Name: summary, Length: 800, dtype: object"
            ],
            "text/html": [
              "<div>\n",
              "<style scoped>\n",
              "    .dataframe tbody tr th:only-of-type {\n",
              "        vertical-align: middle;\n",
              "    }\n",
              "\n",
              "    .dataframe tbody tr th {\n",
              "        vertical-align: top;\n",
              "    }\n",
              "\n",
              "    .dataframe thead th {\n",
              "        text-align: right;\n",
              "    }\n",
              "</style>\n",
              "<table border=\"1\" class=\"dataframe\">\n",
              "  <thead>\n",
              "    <tr style=\"text-align: right;\">\n",
              "      <th></th>\n",
              "      <th>summary</th>\n",
              "    </tr>\n",
              "  </thead>\n",
              "  <tbody>\n",
              "    <tr>\n",
              "      <th>0</th>\n",
              "      <td>الشخص  والشخص  يتحدثان عما يجب رءيته اليومسوف ...</td>\n",
              "    </tr>\n",
              "    <tr>\n",
              "      <th>1</th>\n",
              "      <td>لقد دهش الشخص  للحصول على رسالة تايلور التي يع...</td>\n",
              "    </tr>\n",
              "    <tr>\n",
              "      <th>2</th>\n",
              "      <td>ءيلا لديها علة في المعدة سيءة  هي في ءلميقترح ...</td>\n",
              "    </tr>\n",
              "    <tr>\n",
              "      <th>3</th>\n",
              "      <td>تمت دعوة كاثرين دوم من قبل لوكاس سالي لءجراء م...</td>\n",
              "    </tr>\n",
              "    <tr>\n",
              "      <th>4</th>\n",
              "      <td>الشخص  والشخص  يقدران الفوانيسيسءل الشخص  عن م...</td>\n",
              "    </tr>\n",
              "    <tr>\n",
              "      <th>...</th>\n",
              "      <td>...</td>\n",
              "    </tr>\n",
              "    <tr>\n",
              "      <th>795</th>\n",
              "      <td>يقترح الشخص  الذهاب ءلى منزل جون  لكن الشخص ال...</td>\n",
              "    </tr>\n",
              "    <tr>\n",
              "      <th>796</th>\n",
              "      <td>قادم فيليكس ءلى برلين في الحادي والعشرين ويبقى...</td>\n",
              "    </tr>\n",
              "    <tr>\n",
              "      <th>797</th>\n",
              "      <td>ءءنا ولونا ستسوق اليوم</td>\n",
              "    </tr>\n",
              "    <tr>\n",
              "      <th>798</th>\n",
              "      <td>الشخص  يريد الانسحاب من شهادة ءيداع الشخص الشخ...</td>\n",
              "    </tr>\n",
              "    <tr>\n",
              "      <th>799</th>\n",
              "      <td>الشخص  والشخص  سيقومان ببعض الاستعدادات لحفل ا...</td>\n",
              "    </tr>\n",
              "  </tbody>\n",
              "</table>\n",
              "<p>800 rows × 1 columns</p>\n",
              "</div><br><label><b>dtype:</b> object</label>"
            ]
          },
          "metadata": {},
          "execution_count": 175
        }
      ]
    },
    {
      "cell_type": "code",
      "source": [
        "def preprocess_function(examples):\n",
        "    inputs = [\"summarize: \" + doc for doc in examples['dialogue']]\n",
        "    model_inputs = tokenizer(inputs, max_length=512, truncation=True,padding=True)\n",
        "\n",
        "#Tokenize the labels\n",
        "    with tokenizer.as_target_tokenizer():\n",
        "        labels = tokenizer(examples['summary'], max_length=150, truncation=True,padding=True)\n",
        "\n",
        "    model_inputs['labels'] = labels['input_ids']\n",
        "    return model_inputs"
      ],
      "metadata": {
        "id": "HxIo4fX6RLVb"
      },
      "id": "HxIo4fX6RLVb",
      "execution_count": 176,
      "outputs": []
    },
    {
      "cell_type": "code",
      "source": [
        "from datasets import DatasetDict , Dataset\n",
        "df_train = Dataset.from_pandas(pd.DataFrame(df,columns=df.columns))\n",
        "df_test = Dataset.from_pandas(pd.DataFrame(df_test,columns=df_test.columns))\n"
      ],
      "metadata": {
        "id": "VhBMwanpSMMC"
      },
      "id": "VhBMwanpSMMC",
      "execution_count": 177,
      "outputs": []
    },
    {
      "cell_type": "markdown",
      "id": "e898b873",
      "metadata": {
        "id": "e898b873"
      },
      "source": [
        "## Step 4: Define the Data Collator"
      ]
    },
    {
      "cell_type": "markdown",
      "id": "42cc74fc",
      "metadata": {
        "id": "42cc74fc"
      },
      "source": [
        "Use a data collator designed for sequence-to-sequence models, which dynamically pads inputs and labels."
      ]
    },
    {
      "cell_type": "code",
      "execution_count": 178,
      "id": "7cbfa50b",
      "metadata": {
        "id": "7cbfa50b",
        "colab": {
          "base_uri": "https://localhost:8080/",
          "height": 137,
          "referenced_widgets": [
            "ca38b673377f41708e46621147149899",
            "ae1b27d4c366423da4f7dc9a448aa4ea",
            "98a0469e9b9548cb815a94b26534fc73",
            "67e90299077f47d4ac651fbfcb831058",
            "3c05013d3e6b4486b2e357b322a6b473",
            "8946edb0566245c5b3277e314576642b",
            "f4d54341cd004358a2e3dd526e4c5c85",
            "88c1c762335f42d1b3c7ff695dee1b88",
            "98a80599dd6b45dea163e26e461ee53e",
            "edc5c0a81ccf4013bd3820e7337661ac",
            "5961a09d17a14f46a8157baca25a1b68",
            "47d6e2337e07406191f695df9cb670ac",
            "a1293a567c67436dba7eda230eb3a423",
            "b1a395a01f444c0188816a08d30a47c7",
            "651162c2752b46adbb953cc622e38229",
            "71d188e23ed7419b95c157f9ab6b68b7",
            "3679dc3c87e84c01acef3afd9ca08d52",
            "54fc0cc46ebd438b9821cab626864a25",
            "b315d5a675cf4d8b98e77bde2b3f3b81",
            "465b7ccbe2aa46a9b5275eec4a8713bb",
            "e363bd0db93c454ea6a9ceec864bd61e",
            "f5e9fdaf15f54722bb7e824f007795e5"
          ]
        },
        "outputId": "7c3377e7-2d6f-4da3-b7bc-de91325b5307"
      },
      "outputs": [
        {
          "output_type": "display_data",
          "data": {
            "text/plain": [
              "Map:   0%|          | 0/800 [00:00<?, ? examples/s]"
            ],
            "application/vnd.jupyter.widget-view+json": {
              "version_major": 2,
              "version_minor": 0,
              "model_id": "ca38b673377f41708e46621147149899"
            }
          },
          "metadata": {}
        },
        {
          "output_type": "stream",
          "name": "stderr",
          "text": [
            "/usr/local/lib/python3.10/dist-packages/transformers/tokenization_utils_base.py:4126: UserWarning: `as_target_tokenizer` is deprecated and will be removed in v5 of Transformers. You can tokenize your labels by using the argument `text_target` of the regular `__call__` method (either in the same call as your input texts if you use the same keyword arguments, or in a separate call.\n",
            "  warnings.warn(\n"
          ]
        },
        {
          "output_type": "display_data",
          "data": {
            "text/plain": [
              "Map:   0%|          | 0/200 [00:00<?, ? examples/s]"
            ],
            "application/vnd.jupyter.widget-view+json": {
              "version_major": 2,
              "version_minor": 0,
              "model_id": "47d6e2337e07406191f695df9cb670ac"
            }
          },
          "metadata": {}
        }
      ],
      "source": [
        "tokin_data_train=df_train.map(preprocess_function,batched=True)\n",
        "tokin_data_test=df_test.map(preprocess_function,batched=True)"
      ]
    },
    {
      "cell_type": "code",
      "source": [
        "from transformers import DataCollatorForSeq2Seq\n",
        "import tensorflow as tf\n",
        "\n",
        "data_collator = DataCollatorForSeq2Seq(tokenizer=tokenizer, model=model, return_tensors=\"tf\")"
      ],
      "metadata": {
        "id": "rgn8bc0MUX3t"
      },
      "id": "rgn8bc0MUX3t",
      "execution_count": 179,
      "outputs": []
    },
    {
      "cell_type": "markdown",
      "id": "991d5ded",
      "metadata": {
        "id": "991d5ded"
      },
      "source": [
        "## Step 5: Load the Pretrained Model"
      ]
    },
    {
      "cell_type": "markdown",
      "id": "a4b67c4a",
      "metadata": {
        "id": "a4b67c4a"
      },
      "source": [
        "Load the model for sequence-to-sequence tasks (summarization)."
      ]
    },
    {
      "cell_type": "code",
      "execution_count": 180,
      "id": "b0af20bf",
      "metadata": {
        "id": "b0af20bf",
        "colab": {
          "base_uri": "https://localhost:8080/"
        },
        "outputId": "ab9f1717-7f00-4679-88b7-b09ee5e9ff06"
      },
      "outputs": [
        {
          "output_type": "stream",
          "name": "stderr",
          "text": [
            "All PyTorch model weights were used when initializing TFT5ForConditionalGeneration.\n",
            "\n",
            "All the weights of TFT5ForConditionalGeneration were initialized from the PyTorch model.\n",
            "If your task is similar to the task the model of the checkpoint was trained on, you can already use TFT5ForConditionalGeneration for predictions without further training.\n"
          ]
        }
      ],
      "source": [
        "from transformers import TFT5ForConditionalGeneration\n",
        "model = TFT5ForConditionalGeneration.from_pretrained('google-t5/t5-small')"
      ]
    },
    {
      "cell_type": "markdown",
      "id": "f6276996",
      "metadata": {
        "id": "f6276996"
      },
      "source": [
        "## Step 6: Define Training Arguments"
      ]
    },
    {
      "cell_type": "code",
      "source": [
        "tokin_data_train"
      ],
      "metadata": {
        "colab": {
          "base_uri": "https://localhost:8080/"
        },
        "id": "Bx_9weGeaaor",
        "outputId": "4f91f5e9-99a7-49b7-bb70-6eac3abbb1e9"
      },
      "id": "Bx_9weGeaaor",
      "execution_count": 181,
      "outputs": [
        {
          "output_type": "execute_result",
          "data": {
            "text/plain": [
              "Dataset({\n",
              "    features: ['Unnamed: 0', 'dialogue', 'summary', 'summary_length', 'dialogue_length', 'input_ids', 'attention_mask', 'labels'],\n",
              "    num_rows: 800\n",
              "})"
            ]
          },
          "metadata": {},
          "execution_count": 181
        }
      ]
    },
    {
      "cell_type": "markdown",
      "id": "0fef9692",
      "metadata": {
        "id": "0fef9692"
      },
      "source": [
        "Set up the training configuration with parameters like learning rate, batch size, and number of epochs."
      ]
    },
    {
      "cell_type": "code",
      "execution_count": 182,
      "id": "2a9710ac",
      "metadata": {
        "id": "2a9710ac",
        "colab": {
          "base_uri": "https://localhost:8080/"
        },
        "outputId": "4022ecbb-cca7-4854-a723-8108831acb91"
      },
      "outputs": [
        {
          "output_type": "stream",
          "name": "stderr",
          "text": [
            "/usr/local/lib/python3.10/dist-packages/datasets/arrow_dataset.py:403: FutureWarning: The output of `to_tf_dataset` will change when a passing single element list for `labels` or `columns` in the next datasets version. To return a tuple structure rather than dict, pass a single string.\n",
            "Old behaviour: columns=['a'], labels=['labels'] -> (tf.Tensor, tf.Tensor)  \n",
            "             : columns='a', labels='labels' -> (tf.Tensor, tf.Tensor)  \n",
            "New behaviour: columns=['a'],labels=['labels'] -> ({'a': tf.Tensor}, {'labels': tf.Tensor})  \n",
            "             : columns='a', labels='labels' -> (tf.Tensor, tf.Tensor) \n",
            "  warnings.warn(\n"
          ]
        }
      ],
      "source": [
        "tf_train_set = tokin_data_train.to_tf_dataset(columns=['input_ids','attention_mask','labels'],\n",
        "    label_cols=['labels'],\n",
        "    #tokenizer=tokin_data_train,\n",
        "    shuffle=True,\n",
        "    batch_size=8,\n",
        "    collate_fn=data_collator,\n",
        ")\n",
        "tf_test_set = tokin_data_test.to_tf_dataset(columns=['input_ids','attention_mask','labels'],\n",
        "    label_cols=['labels'],\n",
        "    #tokenizer=tokin_data_train,\n",
        "    shuffle=False,\n",
        "    batch_size=8,\n",
        "    collate_fn=data_collator,\n",
        ")"
      ]
    },
    {
      "cell_type": "markdown",
      "id": "0d109886",
      "metadata": {
        "id": "0d109886"
      },
      "source": [
        "## Step 7: Initialize the Trainer"
      ]
    },
    {
      "cell_type": "markdown",
      "id": "b26da5a2",
      "metadata": {
        "id": "b26da5a2"
      },
      "source": [
        "Use the `Seq2SeqTrainer` class to train the model."
      ]
    },
    {
      "cell_type": "code",
      "execution_count": 182,
      "id": "287b64d0",
      "metadata": {
        "id": "287b64d0"
      },
      "outputs": [],
      "source": []
    },
    {
      "cell_type": "markdown",
      "id": "dea0d5d0",
      "metadata": {
        "id": "dea0d5d0"
      },
      "source": [
        "## Step 8: Fine-tune the Model"
      ]
    },
    {
      "cell_type": "markdown",
      "id": "c1b78223",
      "metadata": {
        "id": "c1b78223"
      },
      "source": [
        "Train the model using the specified arguments and dataset."
      ]
    },
    {
      "cell_type": "code",
      "execution_count": 183,
      "id": "7183e3da",
      "metadata": {
        "id": "7183e3da"
      },
      "outputs": [],
      "source": [
        "optimizer = tf.keras.optimizers.Adam(learning_rate=0.001)\n",
        "loss = tf.keras.losses.SparseCategoricalCrossentropy(from_logits=True)\n",
        "model.compile(optimizer=optimizer, loss=loss,metrics=['accuracy'])"
      ]
    },
    {
      "cell_type": "code",
      "source": [
        "model.fit(tf_train_set, validation_data=tf_test_set, epochs=1)\n"
      ],
      "metadata": {
        "colab": {
          "base_uri": "https://localhost:8080/"
        },
        "id": "BSXQyKBlZzCM",
        "outputId": "1b3dcfd8-cb24-44d4-b981-6c8e99a1aa9a"
      },
      "id": "BSXQyKBlZzCM",
      "execution_count": 184,
      "outputs": [
        {
          "output_type": "stream",
          "name": "stdout",
          "text": [
            "100/100 [==============================] - 96s 503ms/step - loss: 0.2067 - accuracy: 0.9779 - val_loss: 0.0411 - val_accuracy: 0.9873\n"
          ]
        },
        {
          "output_type": "execute_result",
          "data": {
            "text/plain": [
              "<tf_keras.src.callbacks.History at 0x7d7e0c65cdc0>"
            ]
          },
          "metadata": {},
          "execution_count": 184
        }
      ]
    },
    {
      "cell_type": "markdown",
      "id": "dfc4ae5b",
      "metadata": {
        "id": "dfc4ae5b"
      },
      "source": [
        "## Step 9: Inference"
      ]
    },
    {
      "cell_type": "markdown",
      "id": "24f30dd0",
      "metadata": {
        "id": "24f30dd0"
      },
      "source": [
        "Once the model is trained, perform inference on a sample text to generate a summary. Use the tokenizer to process the text, and then feed it into the model to get the generated summary."
      ]
    },
    {
      "cell_type": "code",
      "execution_count": 185,
      "id": "9a3f2fcb",
      "metadata": {
        "id": "9a3f2fcb",
        "colab": {
          "base_uri": "https://localhost:8080/"
        },
        "outputId": "dee1e62a-1ad9-43dc-a351-5a879b6ac72f"
      },
      "outputs": [
        {
          "output_type": "stream",
          "name": "stderr",
          "text": [
            "/usr/local/lib/python3.10/dist-packages/transformers/generation/tf_utils.py:837: UserWarning: Using the model-agnostic default `max_length` (=20) to control the generation length.  recommend setting `max_new_tokens` to control the maximum length of the generation.\n",
            "  warnings.warn(\n"
          ]
        },
        {
          "output_type": "stream",
          "name": "stdout",
          "text": [
            "         \n"
          ]
        }
      ],
      "source": [
        "def generate_summary(text):\n",
        "    input_ids = tokenizer(\"summarize: \" + text, return_tensors=\"tf\").input_ids\n",
        "    outputs = model.generate(input_ids)\n",
        "    summary = tokenizer.decode(outputs[0], skip_special_tokens=True)\n",
        "    return summary\n",
        "sample_text = \"\"\"\n",
        "علم البيانات (بالإنكليزية: Data science) علم يغلب عليه تداخل الاختصاصات والذي يقوم على استخدام الأساليب العلمية، والمعالجات والخوارزميات والنظم لاستخراج المعرفة والأفكار من البيانات بشكليها، سواء مُهيكلة، أو غير مهيكلة، بشكل مشابه للتنقيب في البيانات. كما يعتمد علم البيانات على تقنيات تعلم الآلة والذكاء الصناعي وبرامج معالجة البيانات الضخمة. يُسمى الخبير بها عالم بيانات (بالإنكليزية: Data scientist).\n",
        "\n",
        "ويُعرف علم البيانات بأنه «مفهوم قائم على توحيد الإحصاء، وتحليل البيانات وتعلم الآلة والوسائل المرتبطة بهم من أجل فهم وتحليل ظاهرة فعلية باستخدام البيانات».\n",
        "\n",
        "وهو يقوم بتوظيف نظريات وأساليب مستمدة من حقول معرفية متعددة في سياق الرياضيات والإحصاء وعلم المعلومات وعلوم الحاسب.\"\"\"\n",
        "print(generate_summary(sample_text))"
      ]
    },
    {
      "cell_type": "code",
      "source": [],
      "metadata": {
        "id": "si4wkek4pibE",
        "colab": {
          "base_uri": "https://localhost:8080/"
        },
        "outputId": "cb49b2da-d3a6-4e43-f1b6-eae0b0f57992"
      },
      "id": "si4wkek4pibE",
      "execution_count": 186,
      "outputs": [
        {
          "output_type": "execute_result",
          "data": {
            "text/plain": [
              "('/content/group1model/tokenizer_config.json',\n",
              " '/content/group1model/special_tokens_map.json',\n",
              " '/content/group1model/spiece.model',\n",
              " '/content/group1model/added_tokens.json',\n",
              " '/content/group1model/tokenizer.json')"
            ]
          },
          "metadata": {},
          "execution_count": 186
        }
      ]
    },
    {
      "cell_type": "code",
      "source": [
        "sample_text = \"\"\"\n",
        "علم البيانات (بالإنكليزية: Data science) علم يغلب عليه تداخل الاختصاصات والذي يقوم على استخدام الأساليب العلمية، والمعالجات والخوارزميات والنظم لاستخراج المعرفة والأفكار من البيانات بشكليها، سواء مُهيكلة، أو غير مهيكلة، بشكل مشابه للتنقيب في البيانات. كما يعتمد علم البيانات على تقنيات تعلم الآلة والذكاء الصناعي وبرامج معالجة البيانات الضخمة. يُسمى الخبير بها عالم بيانات (بالإنكليزية: Data scientist).\n",
        "\n",
        "ويُعرف علم البيانات بأنه «مفهوم قائم على توحيد الإحصاء، وتحليل البيانات وتعلم الآلة والوسائل المرتبطة بهم من أجل فهم وتحليل ظاهرة فعلية باستخدام البيانات».\n",
        "\n",
        "وهو يقوم بتوظيف نظريات وأساليب مستمدة من حقول معرفية متعددة في سياق الرياضيات والإحصاء وعلم المعلومات وعلوم الحاسب.\"\"\""
      ],
      "metadata": {
        "id": "c5wdOTAdtjwy"
      },
      "id": "c5wdOTAdtjwy",
      "execution_count": 189,
      "outputs": []
    },
    {
      "cell_type": "code",
      "source": [
        "from transformers import pipeline\n",
        "\n",
        "model.save_pretrained('group1')\n",
        "tokenizer.save_pretrained('group1')\n",
        "\n",
        "model = pipeline('summarization', model='group1')\n",
        "model(sample_text)"
      ],
      "metadata": {
        "colab": {
          "base_uri": "https://localhost:8080/"
        },
        "id": "RX3PlYt-tp9c",
        "outputId": "029d46e3-421b-4017-f55a-bc0eee7d16b4"
      },
      "id": "RX3PlYt-tp9c",
      "execution_count": 191,
      "outputs": [
        {
          "output_type": "stream",
          "name": "stderr",
          "text": [
            "All model checkpoint layers were used when initializing TFT5ForConditionalGeneration.\n",
            "\n",
            "All the layers of TFT5ForConditionalGeneration were initialized from the model checkpoint at group1.\n",
            "If your task is similar to the task the model of the checkpoint was trained on, you can already use TFT5ForConditionalGeneration for predictions without further training.\n",
            "Hardware accelerator e.g. GPU is available in the environment, but no `device` argument is passed to the `Pipeline` object. Model will be on CPU.\n"
          ]
        },
        {
          "output_type": "execute_result",
          "data": {
            "text/plain": [
              "[{'summary_text': ',  .  de  ( ?  L / â  A : '}]"
            ]
          },
          "metadata": {},
          "execution_count": 191
        }
      ]
    }
  ],
  "metadata": {
    "language_info": {
      "name": "python"
    },
    "colab": {
      "provenance": [],
      "gpuType": "T4"
    },
    "kernelspec": {
      "name": "python3",
      "display_name": "Python 3"
    },
    "widgets": {
      "application/vnd.jupyter.widget-state+json": {
        "ca38b673377f41708e46621147149899": {
          "model_module": "@jupyter-widgets/controls",
          "model_name": "HBoxModel",
          "model_module_version": "1.5.0",
          "state": {
            "_dom_classes": [],
            "_model_module": "@jupyter-widgets/controls",
            "_model_module_version": "1.5.0",
            "_model_name": "HBoxModel",
            "_view_count": null,
            "_view_module": "@jupyter-widgets/controls",
            "_view_module_version": "1.5.0",
            "_view_name": "HBoxView",
            "box_style": "",
            "children": [
              "IPY_MODEL_ae1b27d4c366423da4f7dc9a448aa4ea",
              "IPY_MODEL_98a0469e9b9548cb815a94b26534fc73",
              "IPY_MODEL_67e90299077f47d4ac651fbfcb831058"
            ],
            "layout": "IPY_MODEL_3c05013d3e6b4486b2e357b322a6b473"
          }
        },
        "ae1b27d4c366423da4f7dc9a448aa4ea": {
          "model_module": "@jupyter-widgets/controls",
          "model_name": "HTMLModel",
          "model_module_version": "1.5.0",
          "state": {
            "_dom_classes": [],
            "_model_module": "@jupyter-widgets/controls",
            "_model_module_version": "1.5.0",
            "_model_name": "HTMLModel",
            "_view_count": null,
            "_view_module": "@jupyter-widgets/controls",
            "_view_module_version": "1.5.0",
            "_view_name": "HTMLView",
            "description": "",
            "description_tooltip": null,
            "layout": "IPY_MODEL_8946edb0566245c5b3277e314576642b",
            "placeholder": "​",
            "style": "IPY_MODEL_f4d54341cd004358a2e3dd526e4c5c85",
            "value": "Map: 100%"
          }
        },
        "98a0469e9b9548cb815a94b26534fc73": {
          "model_module": "@jupyter-widgets/controls",
          "model_name": "FloatProgressModel",
          "model_module_version": "1.5.0",
          "state": {
            "_dom_classes": [],
            "_model_module": "@jupyter-widgets/controls",
            "_model_module_version": "1.5.0",
            "_model_name": "FloatProgressModel",
            "_view_count": null,
            "_view_module": "@jupyter-widgets/controls",
            "_view_module_version": "1.5.0",
            "_view_name": "ProgressView",
            "bar_style": "success",
            "description": "",
            "description_tooltip": null,
            "layout": "IPY_MODEL_88c1c762335f42d1b3c7ff695dee1b88",
            "max": 800,
            "min": 0,
            "orientation": "horizontal",
            "style": "IPY_MODEL_98a80599dd6b45dea163e26e461ee53e",
            "value": 800
          }
        },
        "67e90299077f47d4ac651fbfcb831058": {
          "model_module": "@jupyter-widgets/controls",
          "model_name": "HTMLModel",
          "model_module_version": "1.5.0",
          "state": {
            "_dom_classes": [],
            "_model_module": "@jupyter-widgets/controls",
            "_model_module_version": "1.5.0",
            "_model_name": "HTMLModel",
            "_view_count": null,
            "_view_module": "@jupyter-widgets/controls",
            "_view_module_version": "1.5.0",
            "_view_name": "HTMLView",
            "description": "",
            "description_tooltip": null,
            "layout": "IPY_MODEL_edc5c0a81ccf4013bd3820e7337661ac",
            "placeholder": "​",
            "style": "IPY_MODEL_5961a09d17a14f46a8157baca25a1b68",
            "value": " 800/800 [00:00&lt;00:00, 1459.40 examples/s]"
          }
        },
        "3c05013d3e6b4486b2e357b322a6b473": {
          "model_module": "@jupyter-widgets/base",
          "model_name": "LayoutModel",
          "model_module_version": "1.2.0",
          "state": {
            "_model_module": "@jupyter-widgets/base",
            "_model_module_version": "1.2.0",
            "_model_name": "LayoutModel",
            "_view_count": null,
            "_view_module": "@jupyter-widgets/base",
            "_view_module_version": "1.2.0",
            "_view_name": "LayoutView",
            "align_content": null,
            "align_items": null,
            "align_self": null,
            "border": null,
            "bottom": null,
            "display": null,
            "flex": null,
            "flex_flow": null,
            "grid_area": null,
            "grid_auto_columns": null,
            "grid_auto_flow": null,
            "grid_auto_rows": null,
            "grid_column": null,
            "grid_gap": null,
            "grid_row": null,
            "grid_template_areas": null,
            "grid_template_columns": null,
            "grid_template_rows": null,
            "height": null,
            "justify_content": null,
            "justify_items": null,
            "left": null,
            "margin": null,
            "max_height": null,
            "max_width": null,
            "min_height": null,
            "min_width": null,
            "object_fit": null,
            "object_position": null,
            "order": null,
            "overflow": null,
            "overflow_x": null,
            "overflow_y": null,
            "padding": null,
            "right": null,
            "top": null,
            "visibility": null,
            "width": null
          }
        },
        "8946edb0566245c5b3277e314576642b": {
          "model_module": "@jupyter-widgets/base",
          "model_name": "LayoutModel",
          "model_module_version": "1.2.0",
          "state": {
            "_model_module": "@jupyter-widgets/base",
            "_model_module_version": "1.2.0",
            "_model_name": "LayoutModel",
            "_view_count": null,
            "_view_module": "@jupyter-widgets/base",
            "_view_module_version": "1.2.0",
            "_view_name": "LayoutView",
            "align_content": null,
            "align_items": null,
            "align_self": null,
            "border": null,
            "bottom": null,
            "display": null,
            "flex": null,
            "flex_flow": null,
            "grid_area": null,
            "grid_auto_columns": null,
            "grid_auto_flow": null,
            "grid_auto_rows": null,
            "grid_column": null,
            "grid_gap": null,
            "grid_row": null,
            "grid_template_areas": null,
            "grid_template_columns": null,
            "grid_template_rows": null,
            "height": null,
            "justify_content": null,
            "justify_items": null,
            "left": null,
            "margin": null,
            "max_height": null,
            "max_width": null,
            "min_height": null,
            "min_width": null,
            "object_fit": null,
            "object_position": null,
            "order": null,
            "overflow": null,
            "overflow_x": null,
            "overflow_y": null,
            "padding": null,
            "right": null,
            "top": null,
            "visibility": null,
            "width": null
          }
        },
        "f4d54341cd004358a2e3dd526e4c5c85": {
          "model_module": "@jupyter-widgets/controls",
          "model_name": "DescriptionStyleModel",
          "model_module_version": "1.5.0",
          "state": {
            "_model_module": "@jupyter-widgets/controls",
            "_model_module_version": "1.5.0",
            "_model_name": "DescriptionStyleModel",
            "_view_count": null,
            "_view_module": "@jupyter-widgets/base",
            "_view_module_version": "1.2.0",
            "_view_name": "StyleView",
            "description_width": ""
          }
        },
        "88c1c762335f42d1b3c7ff695dee1b88": {
          "model_module": "@jupyter-widgets/base",
          "model_name": "LayoutModel",
          "model_module_version": "1.2.0",
          "state": {
            "_model_module": "@jupyter-widgets/base",
            "_model_module_version": "1.2.0",
            "_model_name": "LayoutModel",
            "_view_count": null,
            "_view_module": "@jupyter-widgets/base",
            "_view_module_version": "1.2.0",
            "_view_name": "LayoutView",
            "align_content": null,
            "align_items": null,
            "align_self": null,
            "border": null,
            "bottom": null,
            "display": null,
            "flex": null,
            "flex_flow": null,
            "grid_area": null,
            "grid_auto_columns": null,
            "grid_auto_flow": null,
            "grid_auto_rows": null,
            "grid_column": null,
            "grid_gap": null,
            "grid_row": null,
            "grid_template_areas": null,
            "grid_template_columns": null,
            "grid_template_rows": null,
            "height": null,
            "justify_content": null,
            "justify_items": null,
            "left": null,
            "margin": null,
            "max_height": null,
            "max_width": null,
            "min_height": null,
            "min_width": null,
            "object_fit": null,
            "object_position": null,
            "order": null,
            "overflow": null,
            "overflow_x": null,
            "overflow_y": null,
            "padding": null,
            "right": null,
            "top": null,
            "visibility": null,
            "width": null
          }
        },
        "98a80599dd6b45dea163e26e461ee53e": {
          "model_module": "@jupyter-widgets/controls",
          "model_name": "ProgressStyleModel",
          "model_module_version": "1.5.0",
          "state": {
            "_model_module": "@jupyter-widgets/controls",
            "_model_module_version": "1.5.0",
            "_model_name": "ProgressStyleModel",
            "_view_count": null,
            "_view_module": "@jupyter-widgets/base",
            "_view_module_version": "1.2.0",
            "_view_name": "StyleView",
            "bar_color": null,
            "description_width": ""
          }
        },
        "edc5c0a81ccf4013bd3820e7337661ac": {
          "model_module": "@jupyter-widgets/base",
          "model_name": "LayoutModel",
          "model_module_version": "1.2.0",
          "state": {
            "_model_module": "@jupyter-widgets/base",
            "_model_module_version": "1.2.0",
            "_model_name": "LayoutModel",
            "_view_count": null,
            "_view_module": "@jupyter-widgets/base",
            "_view_module_version": "1.2.0",
            "_view_name": "LayoutView",
            "align_content": null,
            "align_items": null,
            "align_self": null,
            "border": null,
            "bottom": null,
            "display": null,
            "flex": null,
            "flex_flow": null,
            "grid_area": null,
            "grid_auto_columns": null,
            "grid_auto_flow": null,
            "grid_auto_rows": null,
            "grid_column": null,
            "grid_gap": null,
            "grid_row": null,
            "grid_template_areas": null,
            "grid_template_columns": null,
            "grid_template_rows": null,
            "height": null,
            "justify_content": null,
            "justify_items": null,
            "left": null,
            "margin": null,
            "max_height": null,
            "max_width": null,
            "min_height": null,
            "min_width": null,
            "object_fit": null,
            "object_position": null,
            "order": null,
            "overflow": null,
            "overflow_x": null,
            "overflow_y": null,
            "padding": null,
            "right": null,
            "top": null,
            "visibility": null,
            "width": null
          }
        },
        "5961a09d17a14f46a8157baca25a1b68": {
          "model_module": "@jupyter-widgets/controls",
          "model_name": "DescriptionStyleModel",
          "model_module_version": "1.5.0",
          "state": {
            "_model_module": "@jupyter-widgets/controls",
            "_model_module_version": "1.5.0",
            "_model_name": "DescriptionStyleModel",
            "_view_count": null,
            "_view_module": "@jupyter-widgets/base",
            "_view_module_version": "1.2.0",
            "_view_name": "StyleView",
            "description_width": ""
          }
        },
        "47d6e2337e07406191f695df9cb670ac": {
          "model_module": "@jupyter-widgets/controls",
          "model_name": "HBoxModel",
          "model_module_version": "1.5.0",
          "state": {
            "_dom_classes": [],
            "_model_module": "@jupyter-widgets/controls",
            "_model_module_version": "1.5.0",
            "_model_name": "HBoxModel",
            "_view_count": null,
            "_view_module": "@jupyter-widgets/controls",
            "_view_module_version": "1.5.0",
            "_view_name": "HBoxView",
            "box_style": "",
            "children": [
              "IPY_MODEL_a1293a567c67436dba7eda230eb3a423",
              "IPY_MODEL_b1a395a01f444c0188816a08d30a47c7",
              "IPY_MODEL_651162c2752b46adbb953cc622e38229"
            ],
            "layout": "IPY_MODEL_71d188e23ed7419b95c157f9ab6b68b7"
          }
        },
        "a1293a567c67436dba7eda230eb3a423": {
          "model_module": "@jupyter-widgets/controls",
          "model_name": "HTMLModel",
          "model_module_version": "1.5.0",
          "state": {
            "_dom_classes": [],
            "_model_module": "@jupyter-widgets/controls",
            "_model_module_version": "1.5.0",
            "_model_name": "HTMLModel",
            "_view_count": null,
            "_view_module": "@jupyter-widgets/controls",
            "_view_module_version": "1.5.0",
            "_view_name": "HTMLView",
            "description": "",
            "description_tooltip": null,
            "layout": "IPY_MODEL_3679dc3c87e84c01acef3afd9ca08d52",
            "placeholder": "​",
            "style": "IPY_MODEL_54fc0cc46ebd438b9821cab626864a25",
            "value": "Map: 100%"
          }
        },
        "b1a395a01f444c0188816a08d30a47c7": {
          "model_module": "@jupyter-widgets/controls",
          "model_name": "FloatProgressModel",
          "model_module_version": "1.5.0",
          "state": {
            "_dom_classes": [],
            "_model_module": "@jupyter-widgets/controls",
            "_model_module_version": "1.5.0",
            "_model_name": "FloatProgressModel",
            "_view_count": null,
            "_view_module": "@jupyter-widgets/controls",
            "_view_module_version": "1.5.0",
            "_view_name": "ProgressView",
            "bar_style": "success",
            "description": "",
            "description_tooltip": null,
            "layout": "IPY_MODEL_b315d5a675cf4d8b98e77bde2b3f3b81",
            "max": 200,
            "min": 0,
            "orientation": "horizontal",
            "style": "IPY_MODEL_465b7ccbe2aa46a9b5275eec4a8713bb",
            "value": 200
          }
        },
        "651162c2752b46adbb953cc622e38229": {
          "model_module": "@jupyter-widgets/controls",
          "model_name": "HTMLModel",
          "model_module_version": "1.5.0",
          "state": {
            "_dom_classes": [],
            "_model_module": "@jupyter-widgets/controls",
            "_model_module_version": "1.5.0",
            "_model_name": "HTMLModel",
            "_view_count": null,
            "_view_module": "@jupyter-widgets/controls",
            "_view_module_version": "1.5.0",
            "_view_name": "HTMLView",
            "description": "",
            "description_tooltip": null,
            "layout": "IPY_MODEL_e363bd0db93c454ea6a9ceec864bd61e",
            "placeholder": "​",
            "style": "IPY_MODEL_f5e9fdaf15f54722bb7e824f007795e5",
            "value": " 200/200 [00:00&lt;00:00, 1172.20 examples/s]"
          }
        },
        "71d188e23ed7419b95c157f9ab6b68b7": {
          "model_module": "@jupyter-widgets/base",
          "model_name": "LayoutModel",
          "model_module_version": "1.2.0",
          "state": {
            "_model_module": "@jupyter-widgets/base",
            "_model_module_version": "1.2.0",
            "_model_name": "LayoutModel",
            "_view_count": null,
            "_view_module": "@jupyter-widgets/base",
            "_view_module_version": "1.2.0",
            "_view_name": "LayoutView",
            "align_content": null,
            "align_items": null,
            "align_self": null,
            "border": null,
            "bottom": null,
            "display": null,
            "flex": null,
            "flex_flow": null,
            "grid_area": null,
            "grid_auto_columns": null,
            "grid_auto_flow": null,
            "grid_auto_rows": null,
            "grid_column": null,
            "grid_gap": null,
            "grid_row": null,
            "grid_template_areas": null,
            "grid_template_columns": null,
            "grid_template_rows": null,
            "height": null,
            "justify_content": null,
            "justify_items": null,
            "left": null,
            "margin": null,
            "max_height": null,
            "max_width": null,
            "min_height": null,
            "min_width": null,
            "object_fit": null,
            "object_position": null,
            "order": null,
            "overflow": null,
            "overflow_x": null,
            "overflow_y": null,
            "padding": null,
            "right": null,
            "top": null,
            "visibility": null,
            "width": null
          }
        },
        "3679dc3c87e84c01acef3afd9ca08d52": {
          "model_module": "@jupyter-widgets/base",
          "model_name": "LayoutModel",
          "model_module_version": "1.2.0",
          "state": {
            "_model_module": "@jupyter-widgets/base",
            "_model_module_version": "1.2.0",
            "_model_name": "LayoutModel",
            "_view_count": null,
            "_view_module": "@jupyter-widgets/base",
            "_view_module_version": "1.2.0",
            "_view_name": "LayoutView",
            "align_content": null,
            "align_items": null,
            "align_self": null,
            "border": null,
            "bottom": null,
            "display": null,
            "flex": null,
            "flex_flow": null,
            "grid_area": null,
            "grid_auto_columns": null,
            "grid_auto_flow": null,
            "grid_auto_rows": null,
            "grid_column": null,
            "grid_gap": null,
            "grid_row": null,
            "grid_template_areas": null,
            "grid_template_columns": null,
            "grid_template_rows": null,
            "height": null,
            "justify_content": null,
            "justify_items": null,
            "left": null,
            "margin": null,
            "max_height": null,
            "max_width": null,
            "min_height": null,
            "min_width": null,
            "object_fit": null,
            "object_position": null,
            "order": null,
            "overflow": null,
            "overflow_x": null,
            "overflow_y": null,
            "padding": null,
            "right": null,
            "top": null,
            "visibility": null,
            "width": null
          }
        },
        "54fc0cc46ebd438b9821cab626864a25": {
          "model_module": "@jupyter-widgets/controls",
          "model_name": "DescriptionStyleModel",
          "model_module_version": "1.5.0",
          "state": {
            "_model_module": "@jupyter-widgets/controls",
            "_model_module_version": "1.5.0",
            "_model_name": "DescriptionStyleModel",
            "_view_count": null,
            "_view_module": "@jupyter-widgets/base",
            "_view_module_version": "1.2.0",
            "_view_name": "StyleView",
            "description_width": ""
          }
        },
        "b315d5a675cf4d8b98e77bde2b3f3b81": {
          "model_module": "@jupyter-widgets/base",
          "model_name": "LayoutModel",
          "model_module_version": "1.2.0",
          "state": {
            "_model_module": "@jupyter-widgets/base",
            "_model_module_version": "1.2.0",
            "_model_name": "LayoutModel",
            "_view_count": null,
            "_view_module": "@jupyter-widgets/base",
            "_view_module_version": "1.2.0",
            "_view_name": "LayoutView",
            "align_content": null,
            "align_items": null,
            "align_self": null,
            "border": null,
            "bottom": null,
            "display": null,
            "flex": null,
            "flex_flow": null,
            "grid_area": null,
            "grid_auto_columns": null,
            "grid_auto_flow": null,
            "grid_auto_rows": null,
            "grid_column": null,
            "grid_gap": null,
            "grid_row": null,
            "grid_template_areas": null,
            "grid_template_columns": null,
            "grid_template_rows": null,
            "height": null,
            "justify_content": null,
            "justify_items": null,
            "left": null,
            "margin": null,
            "max_height": null,
            "max_width": null,
            "min_height": null,
            "min_width": null,
            "object_fit": null,
            "object_position": null,
            "order": null,
            "overflow": null,
            "overflow_x": null,
            "overflow_y": null,
            "padding": null,
            "right": null,
            "top": null,
            "visibility": null,
            "width": null
          }
        },
        "465b7ccbe2aa46a9b5275eec4a8713bb": {
          "model_module": "@jupyter-widgets/controls",
          "model_name": "ProgressStyleModel",
          "model_module_version": "1.5.0",
          "state": {
            "_model_module": "@jupyter-widgets/controls",
            "_model_module_version": "1.5.0",
            "_model_name": "ProgressStyleModel",
            "_view_count": null,
            "_view_module": "@jupyter-widgets/base",
            "_view_module_version": "1.2.0",
            "_view_name": "StyleView",
            "bar_color": null,
            "description_width": ""
          }
        },
        "e363bd0db93c454ea6a9ceec864bd61e": {
          "model_module": "@jupyter-widgets/base",
          "model_name": "LayoutModel",
          "model_module_version": "1.2.0",
          "state": {
            "_model_module": "@jupyter-widgets/base",
            "_model_module_version": "1.2.0",
            "_model_name": "LayoutModel",
            "_view_count": null,
            "_view_module": "@jupyter-widgets/base",
            "_view_module_version": "1.2.0",
            "_view_name": "LayoutView",
            "align_content": null,
            "align_items": null,
            "align_self": null,
            "border": null,
            "bottom": null,
            "display": null,
            "flex": null,
            "flex_flow": null,
            "grid_area": null,
            "grid_auto_columns": null,
            "grid_auto_flow": null,
            "grid_auto_rows": null,
            "grid_column": null,
            "grid_gap": null,
            "grid_row": null,
            "grid_template_areas": null,
            "grid_template_columns": null,
            "grid_template_rows": null,
            "height": null,
            "justify_content": null,
            "justify_items": null,
            "left": null,
            "margin": null,
            "max_height": null,
            "max_width": null,
            "min_height": null,
            "min_width": null,
            "object_fit": null,
            "object_position": null,
            "order": null,
            "overflow": null,
            "overflow_x": null,
            "overflow_y": null,
            "padding": null,
            "right": null,
            "top": null,
            "visibility": null,
            "width": null
          }
        },
        "f5e9fdaf15f54722bb7e824f007795e5": {
          "model_module": "@jupyter-widgets/controls",
          "model_name": "DescriptionStyleModel",
          "model_module_version": "1.5.0",
          "state": {
            "_model_module": "@jupyter-widgets/controls",
            "_model_module_version": "1.5.0",
            "_model_name": "DescriptionStyleModel",
            "_view_count": null,
            "_view_module": "@jupyter-widgets/base",
            "_view_module_version": "1.2.0",
            "_view_name": "StyleView",
            "description_width": ""
          }
        }
      }
    },
    "accelerator": "GPU"
  },
  "nbformat": 4,
  "nbformat_minor": 5
}